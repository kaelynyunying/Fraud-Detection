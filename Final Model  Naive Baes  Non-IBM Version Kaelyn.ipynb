{
 "cells": [
  {
   "cell_type": "markdown",
   "metadata": {},
   "source": [
    "# Data Import"
   ]
  },
  {
   "cell_type": "code",
   "execution_count": 38,
   "metadata": {},
   "outputs": [],
   "source": [
    "# import os, pandas as pd\n",
    "\n",
    "# # # Add asset from file system\n",
    "\n",
    "# print(os.environ['DSX_PROJECT_DIR']+'/datasets/filename')"
   ]
  },
  {
   "cell_type": "code",
   "execution_count": 39,
   "metadata": {},
   "outputs": [],
   "source": [
    "#Code to install Packages. Credits: Mentors Zaishan and Ernest\n",
    "\n",
    "# 1. Download whl files\n",
    "# 2. Add it to the part where we add datasets\n",
    "# 3. Pip install \n",
    "# 4. Import\n",
    "\n",
    "# Install imbalanced-learn\n",
    "# Download from Download imbalanced-learn from https://files.pythonhosted.org/packages/e5/4c/7557e1c2e791bd43878f8c82065bddc5798252084f26ef44527c02262af1/imbalanced_learn-0.4.3-py3-none-any.whl \n",
    "# !pip install --user '/user-home/1022/DSX_Projects/Naive Baes/datasets/imbalanced_learn-0.4.3-py3-none-any.whl'\n",
    "\n",
    "# Install missingno\n",
    "# Download from: https://pypi.org/project/missingno/#files\n",
    "# !pip install --user '/user-home/1022/DSX_Projects/Naive Baes/datasets/missingno-0.4.1-py3-none-any.whl'\n",
    "\n",
    "# Install mlxtend\n",
    "# Download from: https://pypi.org/project/mlxtend/#files\n",
    "# !pip install --user '/user-home/1022/DSX_Projects/Naive Baes/datasets/mlxtend-0.15.0.0-py2.py3-none-any.whl'\n",
    "\n",
    "# Install pydot\n",
    "# Download from: https://pypi.org/project/pydot/#files\n",
    "# !pip install --user '/user-home/1022/DSX_Projects/Naive Baes/datasets/pydot-1.4.1-py2.py3-none-any.whl'"
   ]
  },
  {
   "cell_type": "code",
   "execution_count": 40,
   "metadata": {},
   "outputs": [],
   "source": [
    "import os\n",
    "\n",
    "import pandas as pd\n",
    "import numpy as np\n",
    "import matplotlib.pyplot as plt\n",
    "%matplotlib inline\n",
    "from matplotlib import cm as cm\n",
    "import matplotlib.patches as mpatches # plot t-SNE\n",
    "import missingno as msno\n",
    "\n",
    "from sklearn.ensemble import RandomForestClassifier\n",
    "from sklearn.impute import SimpleImputer\n",
    "from sklearn.linear_model import LogisticRegression\n",
    "from sklearn.metrics import classification_report, confusion_matrix, accuracy_score, roc_auc_score, average_precision_score\n",
    "from sklearn.metrics import precision_recall_curve, roc_curve, f1_score, auc\n",
    "from sklearn.model_selection import train_test_split, GridSearchCV, learning_curve\n",
    "from sklearn.model_selection import RepeatedKFold \n",
    "from sklearn.svm import SVC\n",
    "from sklearn.tree import DecisionTreeClassifier\n",
    "from sklearn import preprocessing\n",
    "from sklearn.preprocessing import StandardScaler\n",
    "from sklearn.manifold import TSNE # t-SNE\n",
    "\n",
    "from sklearn import tree\n",
    "from sklearn.tree import export_graphviz\n",
    "import pydot\n",
    "\n",
    "from mlxtend.feature_selection import SequentialFeatureSelector as sfs # feature selection\n",
    "\n",
    "import seaborn as sns \n",
    "\n",
    "from imblearn.over_sampling import SMOTE\n",
    "\n",
    "from scipy import stats\n",
    "from scipy.stats import norm\n",
    "import time # t-SNE model\n",
    "\n",
    "#For AdaBoost implementation\n",
    "from sklearn.ensemble import AdaBoostClassifier\n",
    "from sklearn.naive_bayes import GaussianNB"
   ]
  },
  {
   "cell_type": "code",
   "execution_count": 41,
   "metadata": {},
   "outputs": [],
   "source": [
    "# #Code to import dataset\n",
    "# df_raw = pd.read_csv(os.environ['DSX_PROJECT_DIR']+'/datasets/creditcard-training.csv')"
   ]
  },
  {
   "cell_type": "code",
   "execution_count": 42,
   "metadata": {},
   "outputs": [],
   "source": [
    "df_raw = pd.read_csv('data/creditcard-training.csv')"
   ]
  },
  {
   "cell_type": "markdown",
   "metadata": {},
   "source": [
    "# Data Exploration"
   ]
  },
  {
   "cell_type": "code",
   "execution_count": 43,
   "metadata": {},
   "outputs": [
    {
     "data": {
      "text/plain": [
       "(227844, 32)"
      ]
     },
     "execution_count": 43,
     "metadata": {},
     "output_type": "execute_result"
    }
   ],
   "source": [
    "# Get shape\n",
    "df_raw.shape"
   ]
  },
  {
   "cell_type": "code",
   "execution_count": 44,
   "metadata": {},
   "outputs": [
    {
     "data": {
      "text/html": [
       "<div>\n",
       "<style scoped>\n",
       "    .dataframe tbody tr th:only-of-type {\n",
       "        vertical-align: middle;\n",
       "    }\n",
       "\n",
       "    .dataframe tbody tr th {\n",
       "        vertical-align: top;\n",
       "    }\n",
       "\n",
       "    .dataframe thead th {\n",
       "        text-align: right;\n",
       "    }\n",
       "</style>\n",
       "<table border=\"1\" class=\"dataframe\">\n",
       "  <thead>\n",
       "    <tr style=\"text-align: right;\">\n",
       "      <th></th>\n",
       "      <th>Seconds since reference time</th>\n",
       "      <th>Amount</th>\n",
       "      <th>Fraud? (1: Fraud, 0:  No Fraud)</th>\n",
       "      <th>Feature 1</th>\n",
       "      <th>Feature 2</th>\n",
       "      <th>Feature 3</th>\n",
       "      <th>Feature 4</th>\n",
       "      <th>Feature 5</th>\n",
       "      <th>Feature 6</th>\n",
       "      <th>Feature 7</th>\n",
       "      <th>...</th>\n",
       "      <th>Feature 20</th>\n",
       "      <th>Feature 21</th>\n",
       "      <th>Feature 22</th>\n",
       "      <th>Feature 23</th>\n",
       "      <th>Feature 24</th>\n",
       "      <th>Feature 25</th>\n",
       "      <th>Feature 26</th>\n",
       "      <th>Feature 27</th>\n",
       "      <th>Feature 28</th>\n",
       "      <th>Feature 29</th>\n",
       "    </tr>\n",
       "  </thead>\n",
       "  <tbody>\n",
       "    <tr>\n",
       "      <th>0</th>\n",
       "      <td>0</td>\n",
       "      <td>149.62</td>\n",
       "      <td>0</td>\n",
       "      <td>1.468177</td>\n",
       "      <td>-0.470401</td>\n",
       "      <td>0.207971</td>\n",
       "      <td>0.025791</td>\n",
       "      <td>0.403993</td>\n",
       "      <td>0.251412</td>\n",
       "      <td>-0.018307</td>\n",
       "      <td>...</td>\n",
       "      <td>0.462388</td>\n",
       "      <td>0.239599</td>\n",
       "      <td>0.098698</td>\n",
       "      <td>-6.399372</td>\n",
       "      <td>-0.311169</td>\n",
       "      <td>-0.991390</td>\n",
       "      <td>-0.617801</td>\n",
       "      <td>-0.551600</td>\n",
       "      <td>0.090794</td>\n",
       "      <td>0.363787</td>\n",
       "    </tr>\n",
       "    <tr>\n",
       "      <th>1</th>\n",
       "      <td>0</td>\n",
       "      <td>2.69</td>\n",
       "      <td>0</td>\n",
       "      <td>0.635558</td>\n",
       "      <td>0.463917</td>\n",
       "      <td>-0.114805</td>\n",
       "      <td>-0.183361</td>\n",
       "      <td>-0.145783</td>\n",
       "      <td>-0.069083</td>\n",
       "      <td>-0.225775</td>\n",
       "      <td>...</td>\n",
       "      <td>-0.082361</td>\n",
       "      <td>-0.078803</td>\n",
       "      <td>0.085102</td>\n",
       "      <td>13.786441</td>\n",
       "      <td>-0.143772</td>\n",
       "      <td>0.489095</td>\n",
       "      <td>1.065235</td>\n",
       "      <td>1.612727</td>\n",
       "      <td>-0.166974</td>\n",
       "      <td>-0.255425</td>\n",
       "    </tr>\n",
       "    <tr>\n",
       "      <th>2</th>\n",
       "      <td>1</td>\n",
       "      <td>378.66</td>\n",
       "      <td>0</td>\n",
       "      <td>2.345865</td>\n",
       "      <td>-2.890083</td>\n",
       "      <td>1.109969</td>\n",
       "      <td>-0.121359</td>\n",
       "      <td>-2.261857</td>\n",
       "      <td>0.524980</td>\n",
       "      <td>0.247998</td>\n",
       "      <td>...</td>\n",
       "      <td>1.800499</td>\n",
       "      <td>0.791461</td>\n",
       "      <td>0.247676</td>\n",
       "      <td>-10.515321</td>\n",
       "      <td>-0.165946</td>\n",
       "      <td>0.717293</td>\n",
       "      <td>0.066084</td>\n",
       "      <td>0.624501</td>\n",
       "      <td>0.207643</td>\n",
       "      <td>-1.514654</td>\n",
       "    </tr>\n",
       "    <tr>\n",
       "      <th>3</th>\n",
       "      <td>1</td>\n",
       "      <td>123.50</td>\n",
       "      <td>0</td>\n",
       "      <td>-0.631418</td>\n",
       "      <td>-1.059647</td>\n",
       "      <td>-0.684093</td>\n",
       "      <td>1.965775</td>\n",
       "      <td>-1.232622</td>\n",
       "      <td>-0.208038</td>\n",
       "      <td>-0.108300</td>\n",
       "      <td>...</td>\n",
       "      <td>1.247203</td>\n",
       "      <td>0.237609</td>\n",
       "      <td>0.377436</td>\n",
       "      <td>2.961038</td>\n",
       "      <td>-0.287924</td>\n",
       "      <td>0.507757</td>\n",
       "      <td>0.178228</td>\n",
       "      <td>-0.226487</td>\n",
       "      <td>-0.054952</td>\n",
       "      <td>-1.387024</td>\n",
       "    </tr>\n",
       "    <tr>\n",
       "      <th>4</th>\n",
       "      <td>2</td>\n",
       "      <td>69.99</td>\n",
       "      <td>0</td>\n",
       "      <td>0.175121</td>\n",
       "      <td>-0.451449</td>\n",
       "      <td>-0.237033</td>\n",
       "      <td>-0.038195</td>\n",
       "      <td>0.803487</td>\n",
       "      <td>0.408542</td>\n",
       "      <td>-0.009431</td>\n",
       "      <td>...</td>\n",
       "      <td>0.095921</td>\n",
       "      <td>0.592941</td>\n",
       "      <td>-0.270533</td>\n",
       "      <td>2.751346</td>\n",
       "      <td>-1.119670</td>\n",
       "      <td>1.345852</td>\n",
       "      <td>0.538196</td>\n",
       "      <td>-0.822843</td>\n",
       "      <td>0.753074</td>\n",
       "      <td>0.817739</td>\n",
       "    </tr>\n",
       "  </tbody>\n",
       "</table>\n",
       "<p>5 rows × 32 columns</p>\n",
       "</div>"
      ],
      "text/plain": [
       "   Seconds since reference time  Amount  Fraud? (1: Fraud, 0:  No Fraud)  \\\n",
       "0                             0  149.62                                0   \n",
       "1                             0    2.69                                0   \n",
       "2                             1  378.66                                0   \n",
       "3                             1  123.50                                0   \n",
       "4                             2   69.99                                0   \n",
       "\n",
       "   Feature 1  Feature 2  Feature 3  Feature 4  Feature 5  Feature 6  \\\n",
       "0   1.468177  -0.470401   0.207971   0.025791   0.403993   0.251412   \n",
       "1   0.635558   0.463917  -0.114805  -0.183361  -0.145783  -0.069083   \n",
       "2   2.345865  -2.890083   1.109969  -0.121359  -2.261857   0.524980   \n",
       "3  -0.631418  -1.059647  -0.684093   1.965775  -1.232622  -0.208038   \n",
       "4   0.175121  -0.451449  -0.237033  -0.038195   0.803487   0.408542   \n",
       "\n",
       "   Feature 7  ...  Feature 20  Feature 21  Feature 22  Feature 23  Feature 24  \\\n",
       "0  -0.018307  ...    0.462388    0.239599    0.098698   -6.399372   -0.311169   \n",
       "1  -0.225775  ...   -0.082361   -0.078803    0.085102   13.786441   -0.143772   \n",
       "2   0.247998  ...    1.800499    0.791461    0.247676  -10.515321   -0.165946   \n",
       "3  -0.108300  ...    1.247203    0.237609    0.377436    2.961038   -0.287924   \n",
       "4  -0.009431  ...    0.095921    0.592941   -0.270533    2.751346   -1.119670   \n",
       "\n",
       "   Feature 25  Feature 26  Feature 27  Feature 28  Feature 29  \n",
       "0   -0.991390   -0.617801   -0.551600    0.090794    0.363787  \n",
       "1    0.489095    1.065235    1.612727   -0.166974   -0.255425  \n",
       "2    0.717293    0.066084    0.624501    0.207643   -1.514654  \n",
       "3    0.507757    0.178228   -0.226487   -0.054952   -1.387024  \n",
       "4    1.345852    0.538196   -0.822843    0.753074    0.817739  \n",
       "\n",
       "[5 rows x 32 columns]"
      ]
     },
     "execution_count": 44,
     "metadata": {},
     "output_type": "execute_result"
    }
   ],
   "source": [
    "# Print head\n",
    "df_raw.head()"
   ]
  },
  {
   "cell_type": "code",
   "execution_count": 45,
   "metadata": {},
   "outputs": [
    {
     "data": {
      "text/html": [
       "<div>\n",
       "<style scoped>\n",
       "    .dataframe tbody tr th:only-of-type {\n",
       "        vertical-align: middle;\n",
       "    }\n",
       "\n",
       "    .dataframe tbody tr th {\n",
       "        vertical-align: top;\n",
       "    }\n",
       "\n",
       "    .dataframe thead th {\n",
       "        text-align: right;\n",
       "    }\n",
       "</style>\n",
       "<table border=\"1\" class=\"dataframe\">\n",
       "  <thead>\n",
       "    <tr style=\"text-align: right;\">\n",
       "      <th></th>\n",
       "      <th>Seconds since reference time</th>\n",
       "      <th>Amount</th>\n",
       "      <th>Fraud? (1: Fraud, 0:  No Fraud)</th>\n",
       "      <th>Feature 1</th>\n",
       "      <th>Feature 2</th>\n",
       "      <th>Feature 3</th>\n",
       "      <th>Feature 4</th>\n",
       "      <th>Feature 5</th>\n",
       "      <th>Feature 6</th>\n",
       "      <th>Feature 7</th>\n",
       "      <th>...</th>\n",
       "      <th>Feature 20</th>\n",
       "      <th>Feature 21</th>\n",
       "      <th>Feature 22</th>\n",
       "      <th>Feature 23</th>\n",
       "      <th>Feature 24</th>\n",
       "      <th>Feature 25</th>\n",
       "      <th>Feature 26</th>\n",
       "      <th>Feature 27</th>\n",
       "      <th>Feature 28</th>\n",
       "      <th>Feature 29</th>\n",
       "    </tr>\n",
       "  </thead>\n",
       "  <tbody>\n",
       "    <tr>\n",
       "      <th>count</th>\n",
       "      <td>227844.000000</td>\n",
       "      <td>227844.000000</td>\n",
       "      <td>227844.000000</td>\n",
       "      <td>227844.000000</td>\n",
       "      <td>227844.000000</td>\n",
       "      <td>227844.000000</td>\n",
       "      <td>227844.000000</td>\n",
       "      <td>227817.000000</td>\n",
       "      <td>227785.000000</td>\n",
       "      <td>227844.000000</td>\n",
       "      <td>...</td>\n",
       "      <td>227844.000000</td>\n",
       "      <td>227844.000000</td>\n",
       "      <td>227844.000000</td>\n",
       "      <td>227844.000000</td>\n",
       "      <td>227844.000000</td>\n",
       "      <td>227844.000000</td>\n",
       "      <td>227844.000000</td>\n",
       "      <td>227844.000000</td>\n",
       "      <td>227844.000000</td>\n",
       "      <td>227844.000000</td>\n",
       "    </tr>\n",
       "    <tr>\n",
       "      <th>mean</th>\n",
       "      <td>79042.504749</td>\n",
       "      <td>90.825317</td>\n",
       "      <td>0.001830</td>\n",
       "      <td>0.049116</td>\n",
       "      <td>-0.005509</td>\n",
       "      <td>0.015160</td>\n",
       "      <td>-0.022870</td>\n",
       "      <td>-0.007268</td>\n",
       "      <td>0.009942</td>\n",
       "      <td>-0.005657</td>\n",
       "      <td>...</td>\n",
       "      <td>0.030540</td>\n",
       "      <td>-0.026843</td>\n",
       "      <td>0.003986</td>\n",
       "      <td>0.027511</td>\n",
       "      <td>0.032867</td>\n",
       "      <td>0.016712</td>\n",
       "      <td>-0.045001</td>\n",
       "      <td>0.076274</td>\n",
       "      <td>-0.001708</td>\n",
       "      <td>0.002219</td>\n",
       "    </tr>\n",
       "    <tr>\n",
       "      <th>std</th>\n",
       "      <td>39505.785991</td>\n",
       "      <td>250.504249</td>\n",
       "      <td>0.042742</td>\n",
       "      <td>0.933915</td>\n",
       "      <td>0.885633</td>\n",
       "      <td>0.874173</td>\n",
       "      <td>0.842786</td>\n",
       "      <td>0.820008</td>\n",
       "      <td>0.779124</td>\n",
       "      <td>0.761744</td>\n",
       "      <td>...</td>\n",
       "      <td>1.321420</td>\n",
       "      <td>1.228243</td>\n",
       "      <td>1.209610</td>\n",
       "      <td>8.652541</td>\n",
       "      <td>0.965725</td>\n",
       "      <td>1.019592</td>\n",
       "      <td>1.055865</td>\n",
       "      <td>1.033516</td>\n",
       "      <td>1.093933</td>\n",
       "      <td>1.123424</td>\n",
       "    </tr>\n",
       "    <tr>\n",
       "      <th>min</th>\n",
       "      <td>0.000000</td>\n",
       "      <td>0.000000</td>\n",
       "      <td>0.000000</td>\n",
       "      <td>-4.498945</td>\n",
       "      <td>-14.129855</td>\n",
       "      <td>-25.162799</td>\n",
       "      <td>-9.498746</td>\n",
       "      <td>-7.213527</td>\n",
       "      <td>-28.009635</td>\n",
       "      <td>-34.830382</td>\n",
       "      <td>...</td>\n",
       "      <td>-26.160506</td>\n",
       "      <td>-43.557242</td>\n",
       "      <td>-73.216718</td>\n",
       "      <td>-14.999725</td>\n",
       "      <td>-19.214325</td>\n",
       "      <td>-5.791881</td>\n",
       "      <td>-18.683715</td>\n",
       "      <td>-4.797473</td>\n",
       "      <td>-24.588262</td>\n",
       "      <td>-13.434066</td>\n",
       "    </tr>\n",
       "    <tr>\n",
       "      <th>25%</th>\n",
       "      <td>47694.000000</td>\n",
       "      <td>6.000000</td>\n",
       "      <td>0.000000</td>\n",
       "      <td>-0.543185</td>\n",
       "      <td>-0.478638</td>\n",
       "      <td>-0.457550</td>\n",
       "      <td>-0.514930</td>\n",
       "      <td>-0.478224</td>\n",
       "      <td>-0.202767</td>\n",
       "      <td>-0.225600</td>\n",
       "      <td>...</td>\n",
       "      <td>-0.731719</td>\n",
       "      <td>-0.568948</td>\n",
       "      <td>-0.195151</td>\n",
       "      <td>-7.466957</td>\n",
       "      <td>-0.386010</td>\n",
       "      <td>-0.651170</td>\n",
       "      <td>-0.453237</td>\n",
       "      <td>-0.682527</td>\n",
       "      <td>-0.522697</td>\n",
       "      <td>-0.662053</td>\n",
       "    </tr>\n",
       "    <tr>\n",
       "      <th>50%</th>\n",
       "      <td>73261.000000</td>\n",
       "      <td>23.400000</td>\n",
       "      <td>0.000000</td>\n",
       "      <td>0.120841</td>\n",
       "      <td>0.059919</td>\n",
       "      <td>-0.045765</td>\n",
       "      <td>-0.025810</td>\n",
       "      <td>-0.006006</td>\n",
       "      <td>-0.051034</td>\n",
       "      <td>-0.034863</td>\n",
       "      <td>...</td>\n",
       "      <td>-0.237643</td>\n",
       "      <td>0.009785</td>\n",
       "      <td>0.033492</td>\n",
       "      <td>0.044266</td>\n",
       "      <td>0.067860</td>\n",
       "      <td>-0.001631</td>\n",
       "      <td>0.118528</td>\n",
       "      <td>0.030157</td>\n",
       "      <td>-0.093071</td>\n",
       "      <td>-0.067951</td>\n",
       "    </tr>\n",
       "    <tr>\n",
       "      <th>75%</th>\n",
       "      <td>120396.000000</td>\n",
       "      <td>79.990000</td>\n",
       "      <td>0.000000</td>\n",
       "      <td>0.724566</td>\n",
       "      <td>0.528866</td>\n",
       "      <td>0.410328</td>\n",
       "      <td>0.476318</td>\n",
       "      <td>0.468337</td>\n",
       "      <td>0.145096</td>\n",
       "      <td>0.168401</td>\n",
       "      <td>...</td>\n",
       "      <td>0.432330</td>\n",
       "      <td>0.532569</td>\n",
       "      <td>0.332266</td>\n",
       "      <td>7.521777</td>\n",
       "      <td>0.509023</td>\n",
       "      <td>0.686509</td>\n",
       "      <td>0.611637</td>\n",
       "      <td>0.835856</td>\n",
       "      <td>0.456881</td>\n",
       "      <td>0.612866</td>\n",
       "    </tr>\n",
       "    <tr>\n",
       "      <th>max</th>\n",
       "      <td>145245.000000</td>\n",
       "      <td>19656.530000</td>\n",
       "      <td>1.000000</td>\n",
       "      <td>5.825654</td>\n",
       "      <td>8.289890</td>\n",
       "      <td>9.253526</td>\n",
       "      <td>5.041069</td>\n",
       "      <td>5.591971</td>\n",
       "      <td>39.420904</td>\n",
       "      <td>27.202839</td>\n",
       "      <td>...</td>\n",
       "      <td>22.529298</td>\n",
       "      <td>36.877368</td>\n",
       "      <td>20.007208</td>\n",
       "      <td>14.999989</td>\n",
       "      <td>10.526766</td>\n",
       "      <td>4.569009</td>\n",
       "      <td>7.848392</td>\n",
       "      <td>12.018913</td>\n",
       "      <td>23.745136</td>\n",
       "      <td>15.594995</td>\n",
       "    </tr>\n",
       "  </tbody>\n",
       "</table>\n",
       "<p>8 rows × 32 columns</p>\n",
       "</div>"
      ],
      "text/plain": [
       "       Seconds since reference time         Amount  \\\n",
       "count                 227844.000000  227844.000000   \n",
       "mean                   79042.504749      90.825317   \n",
       "std                    39505.785991     250.504249   \n",
       "min                        0.000000       0.000000   \n",
       "25%                    47694.000000       6.000000   \n",
       "50%                    73261.000000      23.400000   \n",
       "75%                   120396.000000      79.990000   \n",
       "max                   145245.000000   19656.530000   \n",
       "\n",
       "       Fraud? (1: Fraud, 0:  No Fraud)      Feature 1      Feature 2  \\\n",
       "count                    227844.000000  227844.000000  227844.000000   \n",
       "mean                          0.001830       0.049116      -0.005509   \n",
       "std                           0.042742       0.933915       0.885633   \n",
       "min                           0.000000      -4.498945     -14.129855   \n",
       "25%                           0.000000      -0.543185      -0.478638   \n",
       "50%                           0.000000       0.120841       0.059919   \n",
       "75%                           0.000000       0.724566       0.528866   \n",
       "max                           1.000000       5.825654       8.289890   \n",
       "\n",
       "           Feature 3      Feature 4      Feature 5      Feature 6  \\\n",
       "count  227844.000000  227844.000000  227817.000000  227785.000000   \n",
       "mean        0.015160      -0.022870      -0.007268       0.009942   \n",
       "std         0.874173       0.842786       0.820008       0.779124   \n",
       "min       -25.162799      -9.498746      -7.213527     -28.009635   \n",
       "25%        -0.457550      -0.514930      -0.478224      -0.202767   \n",
       "50%        -0.045765      -0.025810      -0.006006      -0.051034   \n",
       "75%         0.410328       0.476318       0.468337       0.145096   \n",
       "max         9.253526       5.041069       5.591971      39.420904   \n",
       "\n",
       "           Feature 7  ...     Feature 20     Feature 21     Feature 22  \\\n",
       "count  227844.000000  ...  227844.000000  227844.000000  227844.000000   \n",
       "mean       -0.005657  ...       0.030540      -0.026843       0.003986   \n",
       "std         0.761744  ...       1.321420       1.228243       1.209610   \n",
       "min       -34.830382  ...     -26.160506     -43.557242     -73.216718   \n",
       "25%        -0.225600  ...      -0.731719      -0.568948      -0.195151   \n",
       "50%        -0.034863  ...      -0.237643       0.009785       0.033492   \n",
       "75%         0.168401  ...       0.432330       0.532569       0.332266   \n",
       "max        27.202839  ...      22.529298      36.877368      20.007208   \n",
       "\n",
       "          Feature 23     Feature 24     Feature 25     Feature 26  \\\n",
       "count  227844.000000  227844.000000  227844.000000  227844.000000   \n",
       "mean        0.027511       0.032867       0.016712      -0.045001   \n",
       "std         8.652541       0.965725       1.019592       1.055865   \n",
       "min       -14.999725     -19.214325      -5.791881     -18.683715   \n",
       "25%        -7.466957      -0.386010      -0.651170      -0.453237   \n",
       "50%         0.044266       0.067860      -0.001631       0.118528   \n",
       "75%         7.521777       0.509023       0.686509       0.611637   \n",
       "max        14.999989      10.526766       4.569009       7.848392   \n",
       "\n",
       "          Feature 27     Feature 28     Feature 29  \n",
       "count  227844.000000  227844.000000  227844.000000  \n",
       "mean        0.076274      -0.001708       0.002219  \n",
       "std         1.033516       1.093933       1.123424  \n",
       "min        -4.797473     -24.588262     -13.434066  \n",
       "25%        -0.682527      -0.522697      -0.662053  \n",
       "50%         0.030157      -0.093071      -0.067951  \n",
       "75%         0.835856       0.456881       0.612866  \n",
       "max        12.018913      23.745136      15.594995  \n",
       "\n",
       "[8 rows x 32 columns]"
      ]
     },
     "execution_count": 45,
     "metadata": {},
     "output_type": "execute_result"
    }
   ],
   "source": [
    "# Get basic statistics about the dataset\n",
    "df_raw.describe()"
   ]
  },
  {
   "cell_type": "code",
   "execution_count": 46,
   "metadata": {
    "scrolled": true
   },
   "outputs": [
    {
     "data": {
      "text/html": [
       "<div>\n",
       "<style scoped>\n",
       "    .dataframe tbody tr th:only-of-type {\n",
       "        vertical-align: middle;\n",
       "    }\n",
       "\n",
       "    .dataframe tbody tr th {\n",
       "        vertical-align: top;\n",
       "    }\n",
       "\n",
       "    .dataframe thead th {\n",
       "        text-align: right;\n",
       "    }\n",
       "</style>\n",
       "<table border=\"1\" class=\"dataframe\">\n",
       "  <thead>\n",
       "    <tr style=\"text-align: right;\">\n",
       "      <th></th>\n",
       "      <th>Seconds since reference time</th>\n",
       "      <th>Amount</th>\n",
       "      <th>Fraud</th>\n",
       "      <th>Feature 1</th>\n",
       "      <th>Feature 2</th>\n",
       "      <th>Feature 3</th>\n",
       "      <th>Feature 4</th>\n",
       "      <th>Feature 5</th>\n",
       "      <th>Feature 6</th>\n",
       "      <th>Feature 7</th>\n",
       "      <th>...</th>\n",
       "      <th>Feature 20</th>\n",
       "      <th>Feature 21</th>\n",
       "      <th>Feature 22</th>\n",
       "      <th>Feature 23</th>\n",
       "      <th>Feature 24</th>\n",
       "      <th>Feature 25</th>\n",
       "      <th>Feature 26</th>\n",
       "      <th>Feature 27</th>\n",
       "      <th>Feature 28</th>\n",
       "      <th>Feature 29</th>\n",
       "    </tr>\n",
       "  </thead>\n",
       "  <tbody>\n",
       "    <tr>\n",
       "      <th>0</th>\n",
       "      <td>0</td>\n",
       "      <td>149.62</td>\n",
       "      <td>0</td>\n",
       "      <td>1.468177</td>\n",
       "      <td>-0.470401</td>\n",
       "      <td>0.207971</td>\n",
       "      <td>0.025791</td>\n",
       "      <td>0.403993</td>\n",
       "      <td>0.251412</td>\n",
       "      <td>-0.018307</td>\n",
       "      <td>...</td>\n",
       "      <td>0.462388</td>\n",
       "      <td>0.239599</td>\n",
       "      <td>0.098698</td>\n",
       "      <td>-6.399372</td>\n",
       "      <td>-0.311169</td>\n",
       "      <td>-0.991390</td>\n",
       "      <td>-0.617801</td>\n",
       "      <td>-0.551600</td>\n",
       "      <td>0.090794</td>\n",
       "      <td>0.363787</td>\n",
       "    </tr>\n",
       "    <tr>\n",
       "      <th>1</th>\n",
       "      <td>0</td>\n",
       "      <td>2.69</td>\n",
       "      <td>0</td>\n",
       "      <td>0.635558</td>\n",
       "      <td>0.463917</td>\n",
       "      <td>-0.114805</td>\n",
       "      <td>-0.183361</td>\n",
       "      <td>-0.145783</td>\n",
       "      <td>-0.069083</td>\n",
       "      <td>-0.225775</td>\n",
       "      <td>...</td>\n",
       "      <td>-0.082361</td>\n",
       "      <td>-0.078803</td>\n",
       "      <td>0.085102</td>\n",
       "      <td>13.786441</td>\n",
       "      <td>-0.143772</td>\n",
       "      <td>0.489095</td>\n",
       "      <td>1.065235</td>\n",
       "      <td>1.612727</td>\n",
       "      <td>-0.166974</td>\n",
       "      <td>-0.255425</td>\n",
       "    </tr>\n",
       "    <tr>\n",
       "      <th>2</th>\n",
       "      <td>1</td>\n",
       "      <td>378.66</td>\n",
       "      <td>0</td>\n",
       "      <td>2.345865</td>\n",
       "      <td>-2.890083</td>\n",
       "      <td>1.109969</td>\n",
       "      <td>-0.121359</td>\n",
       "      <td>-2.261857</td>\n",
       "      <td>0.524980</td>\n",
       "      <td>0.247998</td>\n",
       "      <td>...</td>\n",
       "      <td>1.800499</td>\n",
       "      <td>0.791461</td>\n",
       "      <td>0.247676</td>\n",
       "      <td>-10.515321</td>\n",
       "      <td>-0.165946</td>\n",
       "      <td>0.717293</td>\n",
       "      <td>0.066084</td>\n",
       "      <td>0.624501</td>\n",
       "      <td>0.207643</td>\n",
       "      <td>-1.514654</td>\n",
       "    </tr>\n",
       "    <tr>\n",
       "      <th>3</th>\n",
       "      <td>1</td>\n",
       "      <td>123.50</td>\n",
       "      <td>0</td>\n",
       "      <td>-0.631418</td>\n",
       "      <td>-1.059647</td>\n",
       "      <td>-0.684093</td>\n",
       "      <td>1.965775</td>\n",
       "      <td>-1.232622</td>\n",
       "      <td>-0.208038</td>\n",
       "      <td>-0.108300</td>\n",
       "      <td>...</td>\n",
       "      <td>1.247203</td>\n",
       "      <td>0.237609</td>\n",
       "      <td>0.377436</td>\n",
       "      <td>2.961038</td>\n",
       "      <td>-0.287924</td>\n",
       "      <td>0.507757</td>\n",
       "      <td>0.178228</td>\n",
       "      <td>-0.226487</td>\n",
       "      <td>-0.054952</td>\n",
       "      <td>-1.387024</td>\n",
       "    </tr>\n",
       "    <tr>\n",
       "      <th>4</th>\n",
       "      <td>2</td>\n",
       "      <td>69.99</td>\n",
       "      <td>0</td>\n",
       "      <td>0.175121</td>\n",
       "      <td>-0.451449</td>\n",
       "      <td>-0.237033</td>\n",
       "      <td>-0.038195</td>\n",
       "      <td>0.803487</td>\n",
       "      <td>0.408542</td>\n",
       "      <td>-0.009431</td>\n",
       "      <td>...</td>\n",
       "      <td>0.095921</td>\n",
       "      <td>0.592941</td>\n",
       "      <td>-0.270533</td>\n",
       "      <td>2.751346</td>\n",
       "      <td>-1.119670</td>\n",
       "      <td>1.345852</td>\n",
       "      <td>0.538196</td>\n",
       "      <td>-0.822843</td>\n",
       "      <td>0.753074</td>\n",
       "      <td>0.817739</td>\n",
       "    </tr>\n",
       "  </tbody>\n",
       "</table>\n",
       "<p>5 rows × 32 columns</p>\n",
       "</div>"
      ],
      "text/plain": [
       "   Seconds since reference time  Amount  Fraud  Feature 1  Feature 2  \\\n",
       "0                             0  149.62      0   1.468177  -0.470401   \n",
       "1                             0    2.69      0   0.635558   0.463917   \n",
       "2                             1  378.66      0   2.345865  -2.890083   \n",
       "3                             1  123.50      0  -0.631418  -1.059647   \n",
       "4                             2   69.99      0   0.175121  -0.451449   \n",
       "\n",
       "   Feature 3  Feature 4  Feature 5  Feature 6  Feature 7  ...  Feature 20  \\\n",
       "0   0.207971   0.025791   0.403993   0.251412  -0.018307  ...    0.462388   \n",
       "1  -0.114805  -0.183361  -0.145783  -0.069083  -0.225775  ...   -0.082361   \n",
       "2   1.109969  -0.121359  -2.261857   0.524980   0.247998  ...    1.800499   \n",
       "3  -0.684093   1.965775  -1.232622  -0.208038  -0.108300  ...    1.247203   \n",
       "4  -0.237033  -0.038195   0.803487   0.408542  -0.009431  ...    0.095921   \n",
       "\n",
       "   Feature 21  Feature 22  Feature 23  Feature 24  Feature 25  Feature 26  \\\n",
       "0    0.239599    0.098698   -6.399372   -0.311169   -0.991390   -0.617801   \n",
       "1   -0.078803    0.085102   13.786441   -0.143772    0.489095    1.065235   \n",
       "2    0.791461    0.247676  -10.515321   -0.165946    0.717293    0.066084   \n",
       "3    0.237609    0.377436    2.961038   -0.287924    0.507757    0.178228   \n",
       "4    0.592941   -0.270533    2.751346   -1.119670    1.345852    0.538196   \n",
       "\n",
       "   Feature 27  Feature 28  Feature 29  \n",
       "0   -0.551600    0.090794    0.363787  \n",
       "1    1.612727   -0.166974   -0.255425  \n",
       "2    0.624501    0.207643   -1.514654  \n",
       "3   -0.226487   -0.054952   -1.387024  \n",
       "4   -0.822843    0.753074    0.817739  \n",
       "\n",
       "[5 rows x 32 columns]"
      ]
     },
     "execution_count": 46,
     "metadata": {},
     "output_type": "execute_result"
    }
   ],
   "source": [
    "# Rename the Fraud column\n",
    "df_raw = df_raw.rename( {'Fraud? (1: Fraud, 0:  No Fraud)' : 'Fraud'}, axis=1)\n",
    "df_raw.head()"
   ]
  },
  {
   "cell_type": "code",
   "execution_count": 47,
   "metadata": {},
   "outputs": [
    {
     "data": {
      "text/html": [
       "<div>\n",
       "<style scoped>\n",
       "    .dataframe tbody tr th:only-of-type {\n",
       "        vertical-align: middle;\n",
       "    }\n",
       "\n",
       "    .dataframe tbody tr th {\n",
       "        vertical-align: top;\n",
       "    }\n",
       "\n",
       "    .dataframe thead th {\n",
       "        text-align: right;\n",
       "    }\n",
       "</style>\n",
       "<table border=\"1\" class=\"dataframe\">\n",
       "  <thead>\n",
       "    <tr style=\"text-align: right;\">\n",
       "      <th></th>\n",
       "      <th>Seconds since reference time</th>\n",
       "      <th>Amount</th>\n",
       "      <th>Fraud</th>\n",
       "      <th>Feature 1</th>\n",
       "      <th>Feature 2</th>\n",
       "      <th>Feature 3</th>\n",
       "      <th>Feature 4</th>\n",
       "      <th>Feature 5</th>\n",
       "      <th>Feature 6</th>\n",
       "      <th>Feature 7</th>\n",
       "      <th>...</th>\n",
       "      <th>Feature 20</th>\n",
       "      <th>Feature 21</th>\n",
       "      <th>Feature 22</th>\n",
       "      <th>Feature 23</th>\n",
       "      <th>Feature 24</th>\n",
       "      <th>Feature 25</th>\n",
       "      <th>Feature 26</th>\n",
       "      <th>Feature 27</th>\n",
       "      <th>Feature 28</th>\n",
       "      <th>Feature 29</th>\n",
       "    </tr>\n",
       "  </thead>\n",
       "  <tbody>\n",
       "    <tr>\n",
       "      <th>10</th>\n",
       "      <td>10</td>\n",
       "      <td>7.80</td>\n",
       "      <td>0</td>\n",
       "      <td>0.230930</td>\n",
       "      <td>0.031967</td>\n",
       "      <td>0.253415</td>\n",
       "      <td>0.854344</td>\n",
       "      <td>NaN</td>\n",
       "      <td>-0.387226</td>\n",
       "      <td>-0.009302</td>\n",
       "      <td>...</td>\n",
       "      <td>-0.629152</td>\n",
       "      <td>-1.423236</td>\n",
       "      <td>0.048456</td>\n",
       "      <td>-13.640428</td>\n",
       "      <td>-0.095045</td>\n",
       "      <td>-0.513947</td>\n",
       "      <td>-0.671440</td>\n",
       "      <td>1.199644</td>\n",
       "      <td>1.626659</td>\n",
       "      <td>-1.720408</td>\n",
       "    </tr>\n",
       "    <tr>\n",
       "      <th>16</th>\n",
       "      <td>12</td>\n",
       "      <td>12.99</td>\n",
       "      <td>0</td>\n",
       "      <td>0.354574</td>\n",
       "      <td>-0.246635</td>\n",
       "      <td>-0.009212</td>\n",
       "      <td>-0.595912</td>\n",
       "      <td>-0.575682</td>\n",
       "      <td>NaN</td>\n",
       "      <td>-0.024612</td>\n",
       "      <td>...</td>\n",
       "      <td>0.288069</td>\n",
       "      <td>-0.586057</td>\n",
       "      <td>0.189380</td>\n",
       "      <td>8.579468</td>\n",
       "      <td>-0.468647</td>\n",
       "      <td>0.708380</td>\n",
       "      <td>0.936708</td>\n",
       "      <td>-0.450311</td>\n",
       "      <td>-0.267975</td>\n",
       "      <td>0.782333</td>\n",
       "    </tr>\n",
       "    <tr>\n",
       "      <th>25</th>\n",
       "      <td>22</td>\n",
       "      <td>26.43</td>\n",
       "      <td>0</td>\n",
       "      <td>-0.211668</td>\n",
       "      <td>-0.333321</td>\n",
       "      <td>0.010751</td>\n",
       "      <td>-0.488473</td>\n",
       "      <td>0.505751</td>\n",
       "      <td>NaN</td>\n",
       "      <td>-0.403639</td>\n",
       "      <td>...</td>\n",
       "      <td>-0.959537</td>\n",
       "      <td>0.543985</td>\n",
       "      <td>-0.104627</td>\n",
       "      <td>-10.985595</td>\n",
       "      <td>-0.279797</td>\n",
       "      <td>-0.655233</td>\n",
       "      <td>-0.180523</td>\n",
       "      <td>-0.856566</td>\n",
       "      <td>0.149451</td>\n",
       "      <td>0.475664</td>\n",
       "    </tr>\n",
       "    <tr>\n",
       "      <th>28</th>\n",
       "      <td>23</td>\n",
       "      <td>33.00</td>\n",
       "      <td>0</td>\n",
       "      <td>0.076804</td>\n",
       "      <td>-1.405919</td>\n",
       "      <td>0.775592</td>\n",
       "      <td>-0.942889</td>\n",
       "      <td>NaN</td>\n",
       "      <td>0.097308</td>\n",
       "      <td>0.077237</td>\n",
       "      <td>...</td>\n",
       "      <td>-0.200331</td>\n",
       "      <td>0.740228</td>\n",
       "      <td>-0.029247</td>\n",
       "      <td>-5.123601</td>\n",
       "      <td>-0.086324</td>\n",
       "      <td>0.635954</td>\n",
       "      <td>0.786796</td>\n",
       "      <td>-0.012142</td>\n",
       "      <td>-0.346188</td>\n",
       "      <td>-0.593392</td>\n",
       "    </tr>\n",
       "    <tr>\n",
       "      <th>42</th>\n",
       "      <td>33</td>\n",
       "      <td>14.80</td>\n",
       "      <td>0</td>\n",
       "      <td>0.235545</td>\n",
       "      <td>-1.347811</td>\n",
       "      <td>0.504648</td>\n",
       "      <td>-0.798405</td>\n",
       "      <td>0.759710</td>\n",
       "      <td>NaN</td>\n",
       "      <td>-0.087329</td>\n",
       "      <td>...</td>\n",
       "      <td>0.119168</td>\n",
       "      <td>0.850893</td>\n",
       "      <td>-0.176267</td>\n",
       "      <td>5.560997</td>\n",
       "      <td>-0.365439</td>\n",
       "      <td>0.481917</td>\n",
       "      <td>0.398299</td>\n",
       "      <td>-0.387003</td>\n",
       "      <td>0.148455</td>\n",
       "      <td>-0.243501</td>\n",
       "    </tr>\n",
       "  </tbody>\n",
       "</table>\n",
       "<p>5 rows × 32 columns</p>\n",
       "</div>"
      ],
      "text/plain": [
       "    Seconds since reference time  Amount  Fraud  Feature 1  Feature 2  \\\n",
       "10                            10    7.80      0   0.230930   0.031967   \n",
       "16                            12   12.99      0   0.354574  -0.246635   \n",
       "25                            22   26.43      0  -0.211668  -0.333321   \n",
       "28                            23   33.00      0   0.076804  -1.405919   \n",
       "42                            33   14.80      0   0.235545  -1.347811   \n",
       "\n",
       "    Feature 3  Feature 4  Feature 5  Feature 6  Feature 7  ...  Feature 20  \\\n",
       "10   0.253415   0.854344        NaN  -0.387226  -0.009302  ...   -0.629152   \n",
       "16  -0.009212  -0.595912  -0.575682        NaN  -0.024612  ...    0.288069   \n",
       "25   0.010751  -0.488473   0.505751        NaN  -0.403639  ...   -0.959537   \n",
       "28   0.775592  -0.942889        NaN   0.097308   0.077237  ...   -0.200331   \n",
       "42   0.504648  -0.798405   0.759710        NaN  -0.087329  ...    0.119168   \n",
       "\n",
       "    Feature 21  Feature 22  Feature 23  Feature 24  Feature 25  Feature 26  \\\n",
       "10   -1.423236    0.048456  -13.640428   -0.095045   -0.513947   -0.671440   \n",
       "16   -0.586057    0.189380    8.579468   -0.468647    0.708380    0.936708   \n",
       "25    0.543985   -0.104627  -10.985595   -0.279797   -0.655233   -0.180523   \n",
       "28    0.740228   -0.029247   -5.123601   -0.086324    0.635954    0.786796   \n",
       "42    0.850893   -0.176267    5.560997   -0.365439    0.481917    0.398299   \n",
       "\n",
       "    Feature 27  Feature 28  Feature 29  \n",
       "10    1.199644    1.626659   -1.720408  \n",
       "16   -0.450311   -0.267975    0.782333  \n",
       "25   -0.856566    0.149451    0.475664  \n",
       "28   -0.012142   -0.346188   -0.593392  \n",
       "42   -0.387003    0.148455   -0.243501  \n",
       "\n",
       "[5 rows x 32 columns]"
      ]
     },
     "execution_count": 47,
     "metadata": {},
     "output_type": "execute_result"
    }
   ],
   "source": [
    "# Get NAs \n",
    "df_raw[df_raw.isnull().any(axis=1)].head()"
   ]
  },
  {
   "cell_type": "markdown",
   "metadata": {},
   "source": [
    "# Exploratory Data Analysis for Outlier Detection"
   ]
  },
  {
   "cell_type": "code",
   "execution_count": 48,
   "metadata": {},
   "outputs": [
    {
     "data": {
      "image/png": "[encoded data removed]",
      "text/plain": [
       "<Figure size 432x288 with 1 Axes>"
      ]
     },
     "metadata": {},
     "output_type": "display_data"
    }
   ],
   "source": [
    "# Checking the Target Classes\n",
    "\n",
    "plt.bar(['Non-Fraud','Fraud'], df_raw['Fraud'].value_counts(), color=['b','r'])\n",
    "plt.title(\"Fraud class histogram\")\n",
    "plt.xlabel('Fraud or Not Fraud')\n",
    "plt.ylabel('Number of transactions')\n",
    "plt.annotate('{}\\n({:.4}%)'.format(df_raw['Fraud'].value_counts()[0], \n",
    "                                         df_raw['Fraud'].value_counts()[0]/df_raw['Fraud'].count()*100),\n",
    "             (0.20, 0.45), xycoords='axes fraction')\n",
    "plt.annotate('{}\\n({:.4}%)'.format(df_raw['Fraud'].value_counts()[1], \n",
    "                                         df_raw['Fraud'].value_counts()[1]/df_raw['Fraud'].count()*100),\n",
    "             (0.70, 0.45), xycoords='axes fraction')\n",
    "plt.tight_layout()\n",
    "plt.show()"
   ]
  },
  {
   "cell_type": "markdown",
   "metadata": {},
   "source": [
    "<div class=\"alert alert-danger\">\n",
    "    The historgram shows that there is a need for resampling \n",
    "</div>"
   ]
  },
  {
   "cell_type": "code",
   "execution_count": 49,
   "metadata": {},
   "outputs": [
    {
     "data": {
      "image/png": "[encoded data removed]",
      "text/plain": [
       "<Figure size 432x288 with 1 Axes>"
      ]
     },
     "metadata": {},
     "output_type": "display_data"
    }
   ],
   "source": [
    "plt.scatter(df_raw['Seconds since reference time']/(60*60), df_raw['Fraud'])\n",
    "plt.xlabel('Time of transaction (in hours)')\n",
    "plt.ylabel('Fraud or Not Fraud')\n",
    "\n",
    "plt.tight_layout()\n",
    "\n",
    "plt.show()"
   ]
  },
  {
   "cell_type": "markdown",
   "metadata": {},
   "source": [
    "<div class=\"alert alert-danger\">\n",
    "The \"Seconds since reference time\" variable isn't a good predictor for frauds. As seen above, the pattern for both non-fradulent and fraudulent transactions seems to be random regardless of the hour of the day.\n",
    "</div>"
   ]
  },
  {
   "cell_type": "markdown",
   "metadata": {},
   "source": [
    "### Looking at the entire dataset"
   ]
  },
  {
   "cell_type": "code",
   "execution_count": 50,
   "metadata": {},
   "outputs": [
    {
     "name": "stdout",
     "output_type": "stream",
     "text": [
      "Number of outliers below the lower bound:  0  (0.0%)\n",
      "Number of outliers above the upper bound:  25355  (11.13%)\n"
     ]
    },
    {
     "data": {
      "image/png": "[encoded data removed]",
      "text/plain": [
       "<Figure size 432x288 with 1 Axes>"
      ]
     },
     "metadata": {},
     "output_type": "display_data"
    }
   ],
   "source": [
    "plt.boxplot(df_raw['Amount'], labels = ['Boxplot'])\n",
    "plt.ylabel('Transaction amount')\n",
    "plt.plot()\n",
    "\n",
    "amount = df_raw[['Amount']].sort_values(by='Amount')\n",
    "q1, q3 = np.percentile(amount,[25,75])\n",
    "iqr = q3 - q1\n",
    "lower_bound = q1 -(1.5 * iqr) \n",
    "upper_bound = q3 +(1.5 * iqr)\n",
    "\n",
    "print('Number of outliers below the lower bound: ', amount[amount['Amount'] < lower_bound].count()[0],\n",
    "     ' ({:.4}%)'.format(amount[amount['Amount'] < lower_bound].count()[0] / amount['Amount'].count() * 100))\n",
    "print('Number of outliers above the upper bound: ', amount[amount['Amount'] > upper_bound].count()[0],\n",
    "      ' ({:.4}%)'.format(amount[amount['Amount'] > upper_bound].count()[0] / amount['Amount'].count() * 100))"
   ]
  },
  {
   "cell_type": "markdown",
   "metadata": {},
   "source": [
    "<div class=\"alert alert-danger\">\n",
    "The interquartile range method found <b>25355</b> outliers, which represents <b>11.13%</b> of the observations. Removing them from the dataset would be a bad idea due to the loss of a large amount of information for the machine learning models.\n",
    "</div>"
   ]
  },
  {
   "cell_type": "code",
   "execution_count": 51,
   "metadata": {},
   "outputs": [
    {
     "data": {
      "text/plain": [
       "75"
      ]
     },
     "execution_count": 51,
     "metadata": {},
     "output_type": "execute_result"
    }
   ],
   "source": [
    "df_raw[df_raw['Fraud']==1].where(df_raw['Amount']>upper_bound).count()['Amount']"
   ]
  },
  {
   "cell_type": "markdown",
   "metadata": {},
   "source": [
    "<div class=\"alert alert-danger\">\n",
    "In addition to that, only 75 out of 25355 outliers are classified as frauds.\n",
    "</div>"
   ]
  },
  {
   "cell_type": "markdown",
   "metadata": {},
   "source": [
    "### Now we look at the concentration non-fraudulent and fraudulent transactions."
   ]
  },
  {
   "cell_type": "code",
   "execution_count": 52,
   "metadata": {},
   "outputs": [
    {
     "data": {
      "image/png": "[encoded data removed]",
      "text/plain": [
       "<Figure size 432x288 with 1 Axes>"
      ]
     },
     "metadata": {},
     "output_type": "display_data"
    }
   ],
   "source": [
    "plt.scatter(df_raw['Amount'], df_raw['Fraud'])\n",
    "plt.xlabel('Amount')\n",
    "plt.ylabel('Fraud')\n",
    "plt.show()"
   ]
  },
  {
   "cell_type": "markdown",
   "metadata": {},
   "source": [
    "<div class=\"alert alert-success\">\n",
    "    Looks like the Fraudulent transactions are more concentrated towards the lower amounts\n",
    "</div>"
   ]
  },
  {
   "cell_type": "code",
   "execution_count": 53,
   "metadata": {},
   "outputs": [
    {
     "data": {
      "image/png": "[encoded data removed]",
      "text/plain": [
       "<Figure size 432x288 with 1 Axes>"
      ]
     },
     "metadata": {},
     "output_type": "display_data"
    }
   ],
   "source": [
    "target_0 = df_raw.loc[df_raw['Fraud'] == 0]\n",
    "target_1 = df_raw.loc[df_raw['Fraud'] == 1]\n",
    "ax1=sns.distplot(target_0[['Amount']], hist=False, color='b', label='Non-fraud')\n",
    "ax2=sns.distplot(target_1[['Amount']], hist=False, color='r', label='Fraud')\n",
    "ax1.set_xlim(0, max(df_raw[df_raw['Fraud']==1]['Amount']))\n",
    "ax2.set_xlim(0, max(df_raw[df_raw['Fraud']==1]['Amount']))\n",
    "plt.legend()\n",
    "plt.xlabel('Amount')\n",
    "plt.ylabel('Density of probability')\n",
    "plt.show()"
   ]
  },
  {
   "cell_type": "markdown",
   "metadata": {},
   "source": [
    "<div class=\"alert alert-success\">\n",
    "    Thus, we confirm that the fraudulent transactions are highly concentrated at smaller values when compared to non-fraudulent transactions.\n",
    "</div>"
   ]
  },
  {
   "cell_type": "markdown",
   "metadata": {},
   "source": [
    "### Looking at detailed Features"
   ]
  },
  {
   "cell_type": "code",
   "execution_count": 54,
   "metadata": {},
   "outputs": [
    {
     "data": {
      "text/html": [
       "<div>\n",
       "<style scoped>\n",
       "    .dataframe tbody tr th:only-of-type {\n",
       "        vertical-align: middle;\n",
       "    }\n",
       "\n",
       "    .dataframe tbody tr th {\n",
       "        vertical-align: top;\n",
       "    }\n",
       "\n",
       "    .dataframe thead th {\n",
       "        text-align: right;\n",
       "    }\n",
       "</style>\n",
       "<table border=\"1\" class=\"dataframe\">\n",
       "  <thead>\n",
       "    <tr style=\"text-align: right;\">\n",
       "      <th></th>\n",
       "      <th>Seconds since reference time</th>\n",
       "      <th>Amount</th>\n",
       "      <th>Fraud</th>\n",
       "      <th>Feature 1</th>\n",
       "      <th>Feature 2</th>\n",
       "      <th>Feature 3</th>\n",
       "      <th>Feature 4</th>\n",
       "      <th>Feature 5</th>\n",
       "      <th>Feature 6</th>\n",
       "      <th>Feature 7</th>\n",
       "      <th>...</th>\n",
       "      <th>Feature 20</th>\n",
       "      <th>Feature 21</th>\n",
       "      <th>Feature 22</th>\n",
       "      <th>Feature 23</th>\n",
       "      <th>Feature 24</th>\n",
       "      <th>Feature 25</th>\n",
       "      <th>Feature 26</th>\n",
       "      <th>Feature 27</th>\n",
       "      <th>Feature 28</th>\n",
       "      <th>Feature 29</th>\n",
       "    </tr>\n",
       "  </thead>\n",
       "  <tbody>\n",
       "    <tr>\n",
       "      <th>count</th>\n",
       "      <td>227844.000000</td>\n",
       "      <td>227844.000000</td>\n",
       "      <td>227844.000000</td>\n",
       "      <td>227844.000000</td>\n",
       "      <td>227844.000000</td>\n",
       "      <td>227844.000000</td>\n",
       "      <td>227844.000000</td>\n",
       "      <td>227817.000000</td>\n",
       "      <td>227785.000000</td>\n",
       "      <td>227844.000000</td>\n",
       "      <td>...</td>\n",
       "      <td>227844.000000</td>\n",
       "      <td>227844.000000</td>\n",
       "      <td>227844.000000</td>\n",
       "      <td>227844.000000</td>\n",
       "      <td>227844.000000</td>\n",
       "      <td>227844.000000</td>\n",
       "      <td>227844.000000</td>\n",
       "      <td>227844.000000</td>\n",
       "      <td>227844.000000</td>\n",
       "      <td>227844.000000</td>\n",
       "    </tr>\n",
       "    <tr>\n",
       "      <th>mean</th>\n",
       "      <td>79042.504749</td>\n",
       "      <td>90.825317</td>\n",
       "      <td>0.001830</td>\n",
       "      <td>0.049116</td>\n",
       "      <td>-0.005509</td>\n",
       "      <td>0.015160</td>\n",
       "      <td>-0.022870</td>\n",
       "      <td>-0.007268</td>\n",
       "      <td>0.009942</td>\n",
       "      <td>-0.005657</td>\n",
       "      <td>...</td>\n",
       "      <td>0.030540</td>\n",
       "      <td>-0.026843</td>\n",
       "      <td>0.003986</td>\n",
       "      <td>0.027511</td>\n",
       "      <td>0.032867</td>\n",
       "      <td>0.016712</td>\n",
       "      <td>-0.045001</td>\n",
       "      <td>0.076274</td>\n",
       "      <td>-0.001708</td>\n",
       "      <td>0.002219</td>\n",
       "    </tr>\n",
       "    <tr>\n",
       "      <th>std</th>\n",
       "      <td>39505.785991</td>\n",
       "      <td>250.504249</td>\n",
       "      <td>0.042742</td>\n",
       "      <td>0.933915</td>\n",
       "      <td>0.885633</td>\n",
       "      <td>0.874173</td>\n",
       "      <td>0.842786</td>\n",
       "      <td>0.820008</td>\n",
       "      <td>0.779124</td>\n",
       "      <td>0.761744</td>\n",
       "      <td>...</td>\n",
       "      <td>1.321420</td>\n",
       "      <td>1.228243</td>\n",
       "      <td>1.209610</td>\n",
       "      <td>8.652541</td>\n",
       "      <td>0.965725</td>\n",
       "      <td>1.019592</td>\n",
       "      <td>1.055865</td>\n",
       "      <td>1.033516</td>\n",
       "      <td>1.093933</td>\n",
       "      <td>1.123424</td>\n",
       "    </tr>\n",
       "    <tr>\n",
       "      <th>min</th>\n",
       "      <td>0.000000</td>\n",
       "      <td>0.000000</td>\n",
       "      <td>0.000000</td>\n",
       "      <td>-4.498945</td>\n",
       "      <td>-14.129855</td>\n",
       "      <td>-25.162799</td>\n",
       "      <td>-9.498746</td>\n",
       "      <td>-7.213527</td>\n",
       "      <td>-28.009635</td>\n",
       "      <td>-34.830382</td>\n",
       "      <td>...</td>\n",
       "      <td>-26.160506</td>\n",
       "      <td>-43.557242</td>\n",
       "      <td>-73.216718</td>\n",
       "      <td>-14.999725</td>\n",
       "      <td>-19.214325</td>\n",
       "      <td>-5.791881</td>\n",
       "      <td>-18.683715</td>\n",
       "      <td>-4.797473</td>\n",
       "      <td>-24.588262</td>\n",
       "      <td>-13.434066</td>\n",
       "    </tr>\n",
       "    <tr>\n",
       "      <th>25%</th>\n",
       "      <td>47694.000000</td>\n",
       "      <td>6.000000</td>\n",
       "      <td>0.000000</td>\n",
       "      <td>-0.543185</td>\n",
       "      <td>-0.478638</td>\n",
       "      <td>-0.457550</td>\n",
       "      <td>-0.514930</td>\n",
       "      <td>-0.478224</td>\n",
       "      <td>-0.202767</td>\n",
       "      <td>-0.225600</td>\n",
       "      <td>...</td>\n",
       "      <td>-0.731719</td>\n",
       "      <td>-0.568948</td>\n",
       "      <td>-0.195151</td>\n",
       "      <td>-7.466957</td>\n",
       "      <td>-0.386010</td>\n",
       "      <td>-0.651170</td>\n",
       "      <td>-0.453237</td>\n",
       "      <td>-0.682527</td>\n",
       "      <td>-0.522697</td>\n",
       "      <td>-0.662053</td>\n",
       "    </tr>\n",
       "    <tr>\n",
       "      <th>50%</th>\n",
       "      <td>73261.000000</td>\n",
       "      <td>23.400000</td>\n",
       "      <td>0.000000</td>\n",
       "      <td>0.120841</td>\n",
       "      <td>0.059919</td>\n",
       "      <td>-0.045765</td>\n",
       "      <td>-0.025810</td>\n",
       "      <td>-0.006006</td>\n",
       "      <td>-0.051034</td>\n",
       "      <td>-0.034863</td>\n",
       "      <td>...</td>\n",
       "      <td>-0.237643</td>\n",
       "      <td>0.009785</td>\n",
       "      <td>0.033492</td>\n",
       "      <td>0.044266</td>\n",
       "      <td>0.067860</td>\n",
       "      <td>-0.001631</td>\n",
       "      <td>0.118528</td>\n",
       "      <td>0.030157</td>\n",
       "      <td>-0.093071</td>\n",
       "      <td>-0.067951</td>\n",
       "    </tr>\n",
       "    <tr>\n",
       "      <th>75%</th>\n",
       "      <td>120396.000000</td>\n",
       "      <td>79.990000</td>\n",
       "      <td>0.000000</td>\n",
       "      <td>0.724566</td>\n",
       "      <td>0.528866</td>\n",
       "      <td>0.410328</td>\n",
       "      <td>0.476318</td>\n",
       "      <td>0.468337</td>\n",
       "      <td>0.145096</td>\n",
       "      <td>0.168401</td>\n",
       "      <td>...</td>\n",
       "      <td>0.432330</td>\n",
       "      <td>0.532569</td>\n",
       "      <td>0.332266</td>\n",
       "      <td>7.521777</td>\n",
       "      <td>0.509023</td>\n",
       "      <td>0.686509</td>\n",
       "      <td>0.611637</td>\n",
       "      <td>0.835856</td>\n",
       "      <td>0.456881</td>\n",
       "      <td>0.612866</td>\n",
       "    </tr>\n",
       "    <tr>\n",
       "      <th>max</th>\n",
       "      <td>145245.000000</td>\n",
       "      <td>19656.530000</td>\n",
       "      <td>1.000000</td>\n",
       "      <td>5.825654</td>\n",
       "      <td>8.289890</td>\n",
       "      <td>9.253526</td>\n",
       "      <td>5.041069</td>\n",
       "      <td>5.591971</td>\n",
       "      <td>39.420904</td>\n",
       "      <td>27.202839</td>\n",
       "      <td>...</td>\n",
       "      <td>22.529298</td>\n",
       "      <td>36.877368</td>\n",
       "      <td>20.007208</td>\n",
       "      <td>14.999989</td>\n",
       "      <td>10.526766</td>\n",
       "      <td>4.569009</td>\n",
       "      <td>7.848392</td>\n",
       "      <td>12.018913</td>\n",
       "      <td>23.745136</td>\n",
       "      <td>15.594995</td>\n",
       "    </tr>\n",
       "    <tr>\n",
       "      <th>range (nb)</th>\n",
       "      <td>145245.000000</td>\n",
       "      <td>19656.530000</td>\n",
       "      <td>1.000000</td>\n",
       "      <td>10.324599</td>\n",
       "      <td>22.419744</td>\n",
       "      <td>34.416326</td>\n",
       "      <td>14.539815</td>\n",
       "      <td>12.805499</td>\n",
       "      <td>67.430540</td>\n",
       "      <td>62.033221</td>\n",
       "      <td>...</td>\n",
       "      <td>48.689804</td>\n",
       "      <td>80.434610</td>\n",
       "      <td>93.223927</td>\n",
       "      <td>29.999714</td>\n",
       "      <td>29.741092</td>\n",
       "      <td>10.360890</td>\n",
       "      <td>26.532107</td>\n",
       "      <td>16.816387</td>\n",
       "      <td>48.333399</td>\n",
       "      <td>29.029061</td>\n",
       "    </tr>\n",
       "    <tr>\n",
       "      <th>null values (nb)</th>\n",
       "      <td>0.000000</td>\n",
       "      <td>0.000000</td>\n",
       "      <td>0.000000</td>\n",
       "      <td>0.000000</td>\n",
       "      <td>0.000000</td>\n",
       "      <td>0.000000</td>\n",
       "      <td>0.000000</td>\n",
       "      <td>27.000000</td>\n",
       "      <td>59.000000</td>\n",
       "      <td>0.000000</td>\n",
       "      <td>...</td>\n",
       "      <td>0.000000</td>\n",
       "      <td>0.000000</td>\n",
       "      <td>0.000000</td>\n",
       "      <td>0.000000</td>\n",
       "      <td>0.000000</td>\n",
       "      <td>0.000000</td>\n",
       "      <td>0.000000</td>\n",
       "      <td>0.000000</td>\n",
       "      <td>0.000000</td>\n",
       "      <td>0.000000</td>\n",
       "    </tr>\n",
       "    <tr>\n",
       "      <th>null values (%)</th>\n",
       "      <td>0.000000</td>\n",
       "      <td>0.000000</td>\n",
       "      <td>0.000000</td>\n",
       "      <td>0.000000</td>\n",
       "      <td>0.000000</td>\n",
       "      <td>0.000000</td>\n",
       "      <td>0.000000</td>\n",
       "      <td>0.011850</td>\n",
       "      <td>0.025895</td>\n",
       "      <td>0.000000</td>\n",
       "      <td>...</td>\n",
       "      <td>0.000000</td>\n",
       "      <td>0.000000</td>\n",
       "      <td>0.000000</td>\n",
       "      <td>0.000000</td>\n",
       "      <td>0.000000</td>\n",
       "      <td>0.000000</td>\n",
       "      <td>0.000000</td>\n",
       "      <td>0.000000</td>\n",
       "      <td>0.000000</td>\n",
       "      <td>0.000000</td>\n",
       "    </tr>\n",
       "  </tbody>\n",
       "</table>\n",
       "<p>11 rows × 32 columns</p>\n",
       "</div>"
      ],
      "text/plain": [
       "                  Seconds since reference time         Amount          Fraud  \\\n",
       "count                            227844.000000  227844.000000  227844.000000   \n",
       "mean                              79042.504749      90.825317       0.001830   \n",
       "std                               39505.785991     250.504249       0.042742   \n",
       "min                                   0.000000       0.000000       0.000000   \n",
       "25%                               47694.000000       6.000000       0.000000   \n",
       "50%                               73261.000000      23.400000       0.000000   \n",
       "75%                              120396.000000      79.990000       0.000000   \n",
       "max                              145245.000000   19656.530000       1.000000   \n",
       "range (nb)                       145245.000000   19656.530000       1.000000   \n",
       "null values (nb)                      0.000000       0.000000       0.000000   \n",
       "null values (%)                       0.000000       0.000000       0.000000   \n",
       "\n",
       "                      Feature 1      Feature 2      Feature 3      Feature 4  \\\n",
       "count             227844.000000  227844.000000  227844.000000  227844.000000   \n",
       "mean                   0.049116      -0.005509       0.015160      -0.022870   \n",
       "std                    0.933915       0.885633       0.874173       0.842786   \n",
       "min                   -4.498945     -14.129855     -25.162799      -9.498746   \n",
       "25%                   -0.543185      -0.478638      -0.457550      -0.514930   \n",
       "50%                    0.120841       0.059919      -0.045765      -0.025810   \n",
       "75%                    0.724566       0.528866       0.410328       0.476318   \n",
       "max                    5.825654       8.289890       9.253526       5.041069   \n",
       "range (nb)            10.324599      22.419744      34.416326      14.539815   \n",
       "null values (nb)       0.000000       0.000000       0.000000       0.000000   \n",
       "null values (%)        0.000000       0.000000       0.000000       0.000000   \n",
       "\n",
       "                      Feature 5      Feature 6      Feature 7  ...  \\\n",
       "count             227817.000000  227785.000000  227844.000000  ...   \n",
       "mean                  -0.007268       0.009942      -0.005657  ...   \n",
       "std                    0.820008       0.779124       0.761744  ...   \n",
       "min                   -7.213527     -28.009635     -34.830382  ...   \n",
       "25%                   -0.478224      -0.202767      -0.225600  ...   \n",
       "50%                   -0.006006      -0.051034      -0.034863  ...   \n",
       "75%                    0.468337       0.145096       0.168401  ...   \n",
       "max                    5.591971      39.420904      27.202839  ...   \n",
       "range (nb)            12.805499      67.430540      62.033221  ...   \n",
       "null values (nb)      27.000000      59.000000       0.000000  ...   \n",
       "null values (%)        0.011850       0.025895       0.000000  ...   \n",
       "\n",
       "                     Feature 20     Feature 21     Feature 22     Feature 23  \\\n",
       "count             227844.000000  227844.000000  227844.000000  227844.000000   \n",
       "mean                   0.030540      -0.026843       0.003986       0.027511   \n",
       "std                    1.321420       1.228243       1.209610       8.652541   \n",
       "min                  -26.160506     -43.557242     -73.216718     -14.999725   \n",
       "25%                   -0.731719      -0.568948      -0.195151      -7.466957   \n",
       "50%                   -0.237643       0.009785       0.033492       0.044266   \n",
       "75%                    0.432330       0.532569       0.332266       7.521777   \n",
       "max                   22.529298      36.877368      20.007208      14.999989   \n",
       "range (nb)            48.689804      80.434610      93.223927      29.999714   \n",
       "null values (nb)       0.000000       0.000000       0.000000       0.000000   \n",
       "null values (%)        0.000000       0.000000       0.000000       0.000000   \n",
       "\n",
       "                     Feature 24     Feature 25     Feature 26     Feature 27  \\\n",
       "count             227844.000000  227844.000000  227844.000000  227844.000000   \n",
       "mean                   0.032867       0.016712      -0.045001       0.076274   \n",
       "std                    0.965725       1.019592       1.055865       1.033516   \n",
       "min                  -19.214325      -5.791881     -18.683715      -4.797473   \n",
       "25%                   -0.386010      -0.651170      -0.453237      -0.682527   \n",
       "50%                    0.067860      -0.001631       0.118528       0.030157   \n",
       "75%                    0.509023       0.686509       0.611637       0.835856   \n",
       "max                   10.526766       4.569009       7.848392      12.018913   \n",
       "range (nb)            29.741092      10.360890      26.532107      16.816387   \n",
       "null values (nb)       0.000000       0.000000       0.000000       0.000000   \n",
       "null values (%)        0.000000       0.000000       0.000000       0.000000   \n",
       "\n",
       "                     Feature 28     Feature 29  \n",
       "count             227844.000000  227844.000000  \n",
       "mean                  -0.001708       0.002219  \n",
       "std                    1.093933       1.123424  \n",
       "min                  -24.588262     -13.434066  \n",
       "25%                   -0.522697      -0.662053  \n",
       "50%                   -0.093071      -0.067951  \n",
       "75%                    0.456881       0.612866  \n",
       "max                   23.745136      15.594995  \n",
       "range (nb)            48.333399      29.029061  \n",
       "null values (nb)       0.000000       0.000000  \n",
       "null values (%)        0.000000       0.000000  \n",
       "\n",
       "[11 rows x 32 columns]"
      ]
     },
     "execution_count": 54,
     "metadata": {},
     "output_type": "execute_result"
    }
   ],
   "source": [
    "tab_info = df_raw.describe()\n",
    "#Add info on range\n",
    "tab_info=tab_info.append(pd.DataFrame(df_raw.max()-df_raw.min()).T.rename(index={0:'range (nb)'}))\n",
    "tab_info=tab_info.append(pd.DataFrame(df_raw.isnull().sum()).T.rename(index={0:'null values (nb)'}))\n",
    "tab_info=tab_info.append(pd.DataFrame(df_raw.isnull().sum()/df_raw.shape[0]*100).T.rename(index={0:'null values (%)'}))\n",
    "tab_info"
   ]
  },
  {
   "cell_type": "markdown",
   "metadata": {},
   "source": [
    "<div class=\"alert alert-success\">\n",
    "We have identified that Features 16, 19, 21, and 22 have an unsually large range as compared to the rest. <br/>\n",
    "Just to confirm we will be plotting distribution plots\n",
    "</div>"
   ]
  },
  {
   "cell_type": "markdown",
   "metadata": {},
   "source": [
    "V = df_raw[[col for col in df_raw.columns if 'Feature' in col]]\n",
    "\n",
    "f, ax = plt.subplots(ncols = 2, nrows = 14, figsize=(15,2*len(V.columns)))\n",
    "\n",
    "\n",
    "for i, c in zip(ax.flatten(), V.columns):\n",
    "    sns.distplot(V[c], ax = i)\n",
    "\n",
    "f.tight_layout()"
   ]
  },
  {
   "cell_type": "markdown",
   "metadata": {},
   "source": [
    "<div class=\"alert alert-success\">\n",
    "Most of the features have skewed distribution, we investigate further into the ones which we suspect have anomalies <br/>\n",
    "Based on the table and the distribution plot above we will investigate into Features 16, 19, 21, and 22\n",
    "</div>"
   ]
  },
  {
   "cell_type": "markdown",
   "metadata": {},
   "source": [
    "### Anomaly Detection"
   ]
  },
  {
   "cell_type": "code",
   "execution_count": 55,
   "metadata": {},
   "outputs": [
    {
     "data": {
      "image/png": "[encoded data removed]",
      "text/plain": [
       "<Figure size 1440x432 with 4 Axes>"
      ]
     },
     "metadata": {},
     "output_type": "display_data"
    }
   ],
   "source": [
    "f, (ax1, ax2, ax3, ax4) = plt.subplots(1,4, figsize=(20, 6))\n",
    "\n",
    "v7_fraud_dist = df_raw['Feature 16'].loc[df_raw['Fraud'] == 1].values\n",
    "sns.distplot(v7_fraud_dist,ax=ax1, fit=norm, color='#FB8861')\n",
    "ax1.set_title('Feature 16 Distribution \\n (Fraud Transactions)', fontsize=14)\n",
    "\n",
    "v16_fraud_dist = df_raw['Feature 19'].loc[df_raw['Fraud'] == 1].values\n",
    "sns.distplot(v16_fraud_dist,ax=ax2, fit=norm, color='#56F9BB')\n",
    "ax2.set_title('Feature 19 Distribution \\n (Fraud Transactions)', fontsize=14)\n",
    "\n",
    "v21_fraud_dist = df_raw['Feature 21'].loc[df_raw['Fraud'] == 1].values\n",
    "sns.distplot(v21_fraud_dist,ax=ax3, fit=norm, color='#C5B3F9')\n",
    "ax3.set_title('Feature 21 Distribution \\n (Fraud Transactions)', fontsize=14)\n",
    "\n",
    "v22_fraud_dist = df_raw['Feature 22'].loc[df_raw['Fraud'] == 1].values\n",
    "sns.distplot(v22_fraud_dist,ax=ax4, fit=norm, color='#C5B3F9')\n",
    "ax4.set_title('Feature 22 Distribution \\n (Fraud Transactions)', fontsize=14)\n",
    "\n",
    "plt.show()"
   ]
  },
  {
   "cell_type": "code",
   "execution_count": 56,
   "metadata": {},
   "outputs": [
    {
     "data": {
      "image/png": "[encoded data removed]",
      "text/plain": [
       "<Figure size 1440x432 with 4 Axes>"
      ]
     },
     "metadata": {},
     "output_type": "display_data"
    }
   ],
   "source": [
    "f,(ax1, ax2, ax3, ax4) = plt.subplots(1, 4, figsize=(20,6))\n",
    "\n",
    "colors = ['#B3F9C5', '#f9c5b3']\n",
    "\n",
    "# Feature 16\n",
    "sns.boxplot(x=\"Fraud\", y=\"Feature 16\", data=df_raw,ax=ax1, palette=colors)\n",
    "ax1.set_title(\"Feature 16\\n Reduction of outliers\", fontsize=14)\n",
    "\n",
    "# Feature 19\n",
    "sns.boxplot(x=\"Fraud\", y=\"Feature 19\", data=df_raw, ax=ax2, palette=colors)\n",
    "ax2.set_title(\"Feature 19\\n Reduction of outliers\", fontsize=14)\n",
    "\n",
    "# Feature 21\n",
    "sns.boxplot(x=\"Fraud\", y=\"Feature 21\", data=df_raw, ax=ax3, palette=colors)\n",
    "ax3.set_title(\"Feature 21\\n Reduction of outliers\", fontsize=14)\n",
    "\n",
    "# Feature 22\n",
    "sns.boxplot(x=\"Fraud\", y=\"Feature 22\", data=df_raw, ax=ax4, palette=colors)\n",
    "ax4.set_title(\"Feature 22\\n Reduction of outliers\", fontsize=14)\n",
    "\n",
    "\n",
    "plt.show()"
   ]
  },
  {
   "cell_type": "markdown",
   "metadata": {},
   "source": [
    "### We will check for outliers in both fraud and non fraud category"
   ]
  },
  {
   "cell_type": "code",
   "execution_count": 57,
   "metadata": {},
   "outputs": [
    {
     "data": {
      "text/html": [
       "<div>\n",
       "<style scoped>\n",
       "    .dataframe tbody tr th:only-of-type {\n",
       "        vertical-align: middle;\n",
       "    }\n",
       "\n",
       "    .dataframe tbody tr th {\n",
       "        vertical-align: top;\n",
       "    }\n",
       "\n",
       "    .dataframe thead th {\n",
       "        text-align: right;\n",
       "    }\n",
       "</style>\n",
       "<table border=\"1\" class=\"dataframe\">\n",
       "  <thead>\n",
       "    <tr style=\"text-align: right;\">\n",
       "      <th></th>\n",
       "      <th>Seconds since reference time</th>\n",
       "      <th>Amount</th>\n",
       "      <th>Feature 1</th>\n",
       "      <th>Feature 2</th>\n",
       "      <th>Feature 3</th>\n",
       "      <th>Feature 4</th>\n",
       "      <th>Feature 5</th>\n",
       "      <th>Feature 6</th>\n",
       "      <th>Feature 7</th>\n",
       "      <th>Feature 8</th>\n",
       "      <th>...</th>\n",
       "      <th>Feature 20</th>\n",
       "      <th>Feature 21</th>\n",
       "      <th>Feature 22</th>\n",
       "      <th>Feature 23</th>\n",
       "      <th>Feature 24</th>\n",
       "      <th>Feature 25</th>\n",
       "      <th>Feature 26</th>\n",
       "      <th>Feature 27</th>\n",
       "      <th>Feature 28</th>\n",
       "      <th>Feature 29</th>\n",
       "    </tr>\n",
       "    <tr>\n",
       "      <th>Fraud</th>\n",
       "      <th></th>\n",
       "      <th></th>\n",
       "      <th></th>\n",
       "      <th></th>\n",
       "      <th></th>\n",
       "      <th></th>\n",
       "      <th></th>\n",
       "      <th></th>\n",
       "      <th></th>\n",
       "      <th></th>\n",
       "      <th></th>\n",
       "      <th></th>\n",
       "      <th></th>\n",
       "      <th></th>\n",
       "      <th></th>\n",
       "      <th></th>\n",
       "      <th></th>\n",
       "      <th></th>\n",
       "      <th></th>\n",
       "      <th></th>\n",
       "      <th></th>\n",
       "    </tr>\n",
       "  </thead>\n",
       "  <tbody>\n",
       "    <tr>\n",
       "      <th>0</th>\n",
       "      <td>79064.020002</td>\n",
       "      <td>90.761453</td>\n",
       "      <td>0.049387</td>\n",
       "      <td>0.002841</td>\n",
       "      <td>0.028799</td>\n",
       "      <td>-0.018164</td>\n",
       "      <td>-0.008677</td>\n",
       "      <td>0.009279</td>\n",
       "      <td>-0.007071</td>\n",
       "      <td>-0.022976</td>\n",
       "      <td>...</td>\n",
       "      <td>0.033086</td>\n",
       "      <td>-0.015406</td>\n",
       "      <td>0.002776</td>\n",
       "      <td>0.026436</td>\n",
       "      <td>0.045807</td>\n",
       "      <td>0.016831</td>\n",
       "      <td>-0.032826</td>\n",
       "      <td>0.068994</td>\n",
       "      <td>0.009538</td>\n",
       "      <td>0.007167</td>\n",
       "    </tr>\n",
       "    <tr>\n",
       "      <th>1</th>\n",
       "      <td>67308.333333</td>\n",
       "      <td>125.656379</td>\n",
       "      <td>-0.098209</td>\n",
       "      <td>-4.559229</td>\n",
       "      <td>-7.423533</td>\n",
       "      <td>-2.589217</td>\n",
       "      <td>0.766809</td>\n",
       "      <td>0.374396</td>\n",
       "      <td>0.765659</td>\n",
       "      <td>0.013088</td>\n",
       "      <td>...</td>\n",
       "      <td>-1.357987</td>\n",
       "      <td>-6.264641</td>\n",
       "      <td>0.663762</td>\n",
       "      <td>0.613894</td>\n",
       "      <td>-7.024019</td>\n",
       "      <td>-0.048627</td>\n",
       "      <td>-6.685076</td>\n",
       "      <td>4.046820</td>\n",
       "      <td>-6.135121</td>\n",
       "      <td>-2.696376</td>\n",
       "    </tr>\n",
       "  </tbody>\n",
       "</table>\n",
       "<p>2 rows × 31 columns</p>\n",
       "</div>"
      ],
      "text/plain": [
       "       Seconds since reference time      Amount  Feature 1  Feature 2  \\\n",
       "Fraud                                                                   \n",
       "0                      79064.020002   90.761453   0.049387   0.002841   \n",
       "1                      67308.333333  125.656379  -0.098209  -4.559229   \n",
       "\n",
       "       Feature 3  Feature 4  Feature 5  Feature 6  Feature 7  Feature 8  ...  \\\n",
       "Fraud                                                                    ...   \n",
       "0       0.028799  -0.018164  -0.008677   0.009279  -0.007071  -0.022976  ...   \n",
       "1      -7.423533  -2.589217   0.766809   0.374396   0.765659   0.013088  ...   \n",
       "\n",
       "       Feature 20  Feature 21  Feature 22  Feature 23  Feature 24  Feature 25  \\\n",
       "Fraud                                                                           \n",
       "0        0.033086   -0.015406    0.002776    0.026436    0.045807    0.016831   \n",
       "1       -1.357987   -6.264641    0.663762    0.613894   -7.024019   -0.048627   \n",
       "\n",
       "       Feature 26  Feature 27  Feature 28  Feature 29  \n",
       "Fraud                                                  \n",
       "0       -0.032826    0.068994    0.009538    0.007167  \n",
       "1       -6.685076    4.046820   -6.135121   -2.696376  \n",
       "\n",
       "[2 rows x 31 columns]"
      ]
     },
     "execution_count": 57,
     "metadata": {},
     "output_type": "execute_result"
    }
   ],
   "source": [
    "#Get difference in means between Fraud and not-fraud\n",
    "df_raw.groupby('Fraud').mean()"
   ]
  },
  {
   "cell_type": "markdown",
   "metadata": {},
   "source": [
    "<div class=\"alert alert-danger\">\n",
    "We can observe that certain variables (like `Feature 3`, and `Feature 24`) are drastically different for fraud and non-fraud categories\n",
    "</div>"
   ]
  },
  {
   "cell_type": "markdown",
   "metadata": {},
   "source": [
    "## Data Transformation"
   ]
  },
  {
   "cell_type": "markdown",
   "metadata": {},
   "source": [
    "### Scaling"
   ]
  },
  {
   "cell_type": "markdown",
   "metadata": {},
   "source": [
    "Since the value of amount and time have a very different scale from the rest, we should consider normalising the columns \"Amount\" and \"Seconds since reference time\""
   ]
  },
  {
   "cell_type": "code",
   "execution_count": 58,
   "metadata": {},
   "outputs": [
    {
     "name": "stderr",
     "output_type": "stream",
     "text": [
      "C:\\ProgramData\\Anaconda3\\lib\\site-packages\\sklearn\\utils\\validation.py:595: DataConversionWarning: Data with input dtype int64 was converted to float64 by StandardScaler.\n",
      "  warnings.warn(msg, DataConversionWarning)\n",
      "C:\\ProgramData\\Anaconda3\\lib\\site-packages\\sklearn\\utils\\validation.py:595: DataConversionWarning: Data with input dtype int64 was converted to float64 by StandardScaler.\n",
      "  warnings.warn(msg, DataConversionWarning)\n"
     ]
    }
   ],
   "source": [
    "df = df_raw.copy()\n",
    "\n",
    "df['normAmount'] = StandardScaler().fit_transform(df['Amount'].values.reshape(-1, 1))\n",
    "df['normTime'] = StandardScaler().fit_transform(df['Seconds since reference time'].values.reshape(-1, 1))\n",
    "df = df.drop(['Amount'],axis=1)\n",
    "df.head()\n",
    "df = df.drop(['Seconds since reference time'],axis=1)"
   ]
  },
  {
   "cell_type": "markdown",
   "metadata": {},
   "source": [
    "### Handle Missing Values"
   ]
  },
  {
   "cell_type": "markdown",
   "metadata": {},
   "source": [
    "We will be looking for missing values"
   ]
  },
  {
   "cell_type": "code",
   "execution_count": 59,
   "metadata": {
    "scrolled": true
   },
   "outputs": [
    {
     "data": {
      "text/html": [
       "<div>\n",
       "<style scoped>\n",
       "    .dataframe tbody tr th:only-of-type {\n",
       "        vertical-align: middle;\n",
       "    }\n",
       "\n",
       "    .dataframe tbody tr th {\n",
       "        vertical-align: top;\n",
       "    }\n",
       "\n",
       "    .dataframe thead th {\n",
       "        text-align: right;\n",
       "    }\n",
       "</style>\n",
       "<table border=\"1\" class=\"dataframe\">\n",
       "  <thead>\n",
       "    <tr style=\"text-align: right;\">\n",
       "      <th></th>\n",
       "      <th>Fraud</th>\n",
       "      <th>Feature 1</th>\n",
       "      <th>Feature 2</th>\n",
       "      <th>Feature 3</th>\n",
       "      <th>Feature 4</th>\n",
       "      <th>Feature 5</th>\n",
       "      <th>Feature 6</th>\n",
       "      <th>Feature 7</th>\n",
       "      <th>Feature 8</th>\n",
       "      <th>Feature 9</th>\n",
       "      <th>...</th>\n",
       "      <th>Feature 22</th>\n",
       "      <th>Feature 23</th>\n",
       "      <th>Feature 24</th>\n",
       "      <th>Feature 25</th>\n",
       "      <th>Feature 26</th>\n",
       "      <th>Feature 27</th>\n",
       "      <th>Feature 28</th>\n",
       "      <th>Feature 29</th>\n",
       "      <th>normAmount</th>\n",
       "      <th>normTime</th>\n",
       "    </tr>\n",
       "  </thead>\n",
       "  <tbody>\n",
       "    <tr>\n",
       "      <th>10</th>\n",
       "      <td>0</td>\n",
       "      <td>0.230930</td>\n",
       "      <td>0.031967</td>\n",
       "      <td>0.253415</td>\n",
       "      <td>0.854344</td>\n",
       "      <td>NaN</td>\n",
       "      <td>-0.387226</td>\n",
       "      <td>-0.009302</td>\n",
       "      <td>0.313894</td>\n",
       "      <td>0.027740</td>\n",
       "      <td>...</td>\n",
       "      <td>0.048456</td>\n",
       "      <td>-13.640428</td>\n",
       "      <td>-0.095045</td>\n",
       "      <td>-0.513947</td>\n",
       "      <td>-0.671440</td>\n",
       "      <td>1.199644</td>\n",
       "      <td>1.626659</td>\n",
       "      <td>-1.720408</td>\n",
       "      <td>-0.331433</td>\n",
       "      <td>-2.000534</td>\n",
       "    </tr>\n",
       "    <tr>\n",
       "      <th>16</th>\n",
       "      <td>0</td>\n",
       "      <td>0.354574</td>\n",
       "      <td>-0.246635</td>\n",
       "      <td>-0.009212</td>\n",
       "      <td>-0.595912</td>\n",
       "      <td>-0.575682</td>\n",
       "      <td>NaN</td>\n",
       "      <td>-0.024612</td>\n",
       "      <td>0.196002</td>\n",
       "      <td>0.013802</td>\n",
       "      <td>...</td>\n",
       "      <td>0.189380</td>\n",
       "      <td>8.579468</td>\n",
       "      <td>-0.468647</td>\n",
       "      <td>0.708380</td>\n",
       "      <td>0.936708</td>\n",
       "      <td>-0.450311</td>\n",
       "      <td>-0.267975</td>\n",
       "      <td>0.782333</td>\n",
       "      <td>-0.310715</td>\n",
       "      <td>-2.000484</td>\n",
       "    </tr>\n",
       "    <tr>\n",
       "      <th>25</th>\n",
       "      <td>0</td>\n",
       "      <td>-0.211668</td>\n",
       "      <td>-0.333321</td>\n",
       "      <td>0.010751</td>\n",
       "      <td>-0.488473</td>\n",
       "      <td>0.505751</td>\n",
       "      <td>NaN</td>\n",
       "      <td>-0.403639</td>\n",
       "      <td>-0.227404</td>\n",
       "      <td>0.742435</td>\n",
       "      <td>...</td>\n",
       "      <td>-0.104627</td>\n",
       "      <td>-10.985595</td>\n",
       "      <td>-0.279797</td>\n",
       "      <td>-0.655233</td>\n",
       "      <td>-0.180523</td>\n",
       "      <td>-0.856566</td>\n",
       "      <td>0.149451</td>\n",
       "      <td>0.475664</td>\n",
       "      <td>-0.257063</td>\n",
       "      <td>-2.000231</td>\n",
       "    </tr>\n",
       "    <tr>\n",
       "      <th>28</th>\n",
       "      <td>0</td>\n",
       "      <td>0.076804</td>\n",
       "      <td>-1.405919</td>\n",
       "      <td>0.775592</td>\n",
       "      <td>-0.942889</td>\n",
       "      <td>NaN</td>\n",
       "      <td>0.097308</td>\n",
       "      <td>0.077237</td>\n",
       "      <td>0.457331</td>\n",
       "      <td>-0.038500</td>\n",
       "      <td>...</td>\n",
       "      <td>-0.029247</td>\n",
       "      <td>-5.123601</td>\n",
       "      <td>-0.086324</td>\n",
       "      <td>0.635954</td>\n",
       "      <td>0.786796</td>\n",
       "      <td>-0.012142</td>\n",
       "      <td>-0.346188</td>\n",
       "      <td>-0.593392</td>\n",
       "      <td>-0.230836</td>\n",
       "      <td>-2.000205</td>\n",
       "    </tr>\n",
       "    <tr>\n",
       "      <th>42</th>\n",
       "      <td>0</td>\n",
       "      <td>0.235545</td>\n",
       "      <td>-1.347811</td>\n",
       "      <td>0.504648</td>\n",
       "      <td>-0.798405</td>\n",
       "      <td>0.759710</td>\n",
       "      <td>NaN</td>\n",
       "      <td>-0.087329</td>\n",
       "      <td>0.258315</td>\n",
       "      <td>-0.264775</td>\n",
       "      <td>...</td>\n",
       "      <td>-0.176267</td>\n",
       "      <td>5.560997</td>\n",
       "      <td>-0.365439</td>\n",
       "      <td>0.481917</td>\n",
       "      <td>0.398299</td>\n",
       "      <td>-0.387003</td>\n",
       "      <td>0.148455</td>\n",
       "      <td>-0.243501</td>\n",
       "      <td>-0.303490</td>\n",
       "      <td>-1.999952</td>\n",
       "    </tr>\n",
       "  </tbody>\n",
       "</table>\n",
       "<p>5 rows × 32 columns</p>\n",
       "</div>"
      ],
      "text/plain": [
       "    Fraud  Feature 1  Feature 2  Feature 3  Feature 4  Feature 5  Feature 6  \\\n",
       "10      0   0.230930   0.031967   0.253415   0.854344        NaN  -0.387226   \n",
       "16      0   0.354574  -0.246635  -0.009212  -0.595912  -0.575682        NaN   \n",
       "25      0  -0.211668  -0.333321   0.010751  -0.488473   0.505751        NaN   \n",
       "28      0   0.076804  -1.405919   0.775592  -0.942889        NaN   0.097308   \n",
       "42      0   0.235545  -1.347811   0.504648  -0.798405   0.759710        NaN   \n",
       "\n",
       "    Feature 7  Feature 8  Feature 9  ...  Feature 22  Feature 23  Feature 24  \\\n",
       "10  -0.009302   0.313894   0.027740  ...    0.048456  -13.640428   -0.095045   \n",
       "16  -0.024612   0.196002   0.013802  ...    0.189380    8.579468   -0.468647   \n",
       "25  -0.403639  -0.227404   0.742435  ...   -0.104627  -10.985595   -0.279797   \n",
       "28   0.077237   0.457331  -0.038500  ...   -0.029247   -5.123601   -0.086324   \n",
       "42  -0.087329   0.258315  -0.264775  ...   -0.176267    5.560997   -0.365439   \n",
       "\n",
       "    Feature 25  Feature 26  Feature 27  Feature 28  Feature 29  normAmount  \\\n",
       "10   -0.513947   -0.671440    1.199644    1.626659   -1.720408   -0.331433   \n",
       "16    0.708380    0.936708   -0.450311   -0.267975    0.782333   -0.310715   \n",
       "25   -0.655233   -0.180523   -0.856566    0.149451    0.475664   -0.257063   \n",
       "28    0.635954    0.786796   -0.012142   -0.346188   -0.593392   -0.230836   \n",
       "42    0.481917    0.398299   -0.387003    0.148455   -0.243501   -0.303490   \n",
       "\n",
       "    normTime  \n",
       "10 -2.000534  \n",
       "16 -2.000484  \n",
       "25 -2.000231  \n",
       "28 -2.000205  \n",
       "42 -1.999952  \n",
       "\n",
       "[5 rows x 32 columns]"
      ]
     },
     "execution_count": 59,
     "metadata": {},
     "output_type": "execute_result"
    }
   ],
   "source": [
    "df[df.isnull().any(axis=1)].head()"
   ]
  },
  {
   "cell_type": "code",
   "execution_count": 60,
   "metadata": {},
   "outputs": [
    {
     "data": {
      "text/plain": [
       "<matplotlib.axes._subplots.AxesSubplot at 0x2789ef750b8>"
      ]
     },
     "execution_count": 60,
     "metadata": {},
     "output_type": "execute_result"
    },
    {
     "data": {
      "image/png": "[encoded data removed]",
      "text/plain": [
       "<Figure size 1440x864 with 1 Axes>"
      ]
     },
     "metadata": {},
     "output_type": "display_data"
    }
   ],
   "source": [
    "#Visualise the Correleation Matrix about the locations of missing values in columns \n",
    "msno.heatmap(df)\n"
   ]
  },
  {
   "cell_type": "markdown",
   "metadata": {},
   "source": [
    "<div class=\"alert alert-success\">\n",
    "This heatmap signifies that the missing values in features 5 and 6 are correlated to each other and they are  `Missing Not at Random` (MNAR) <br/>\n",
    "Therefore, dropping the rows will make the model biased and we will be using `Imputation` instead\n",
    "</div>"
   ]
  },
  {
   "cell_type": "code",
   "execution_count": 61,
   "metadata": {
    "scrolled": true
   },
   "outputs": [
    {
     "data": {
      "text/plain": [
       "<matplotlib.axes._subplots.AxesSubplot at 0x2789ee879e8>"
      ]
     },
     "execution_count": 61,
     "metadata": {},
     "output_type": "execute_result"
    },
    {
     "data": {
      "image/png": "[encoded data removed]",
      "text/plain": [
       "<Figure size 1800x720 with 1 Axes>"
      ]
     },
     "metadata": {},
     "output_type": "display_data"
    }
   ],
   "source": [
    "msno.dendrogram(df)"
   ]
  },
  {
   "cell_type": "code",
   "execution_count": null,
   "metadata": {},
   "outputs": [],
   "source": []
  },
  {
   "cell_type": "code",
   "execution_count": 62,
   "metadata": {},
   "outputs": [
    {
     "data": {
      "text/html": [
       "<div>\n",
       "<style scoped>\n",
       "    .dataframe tbody tr th:only-of-type {\n",
       "        vertical-align: middle;\n",
       "    }\n",
       "\n",
       "    .dataframe tbody tr th {\n",
       "        vertical-align: top;\n",
       "    }\n",
       "\n",
       "    .dataframe thead th {\n",
       "        text-align: right;\n",
       "    }\n",
       "</style>\n",
       "<table border=\"1\" class=\"dataframe\">\n",
       "  <thead>\n",
       "    <tr style=\"text-align: right;\">\n",
       "      <th></th>\n",
       "      <th>Fraud</th>\n",
       "      <th>Feature 1</th>\n",
       "      <th>Feature 2</th>\n",
       "      <th>Feature 3</th>\n",
       "      <th>Feature 4</th>\n",
       "      <th>Feature 5</th>\n",
       "      <th>Feature 6</th>\n",
       "      <th>Feature 7</th>\n",
       "      <th>Feature 8</th>\n",
       "      <th>Feature 9</th>\n",
       "      <th>...</th>\n",
       "      <th>Feature 22</th>\n",
       "      <th>Feature 23</th>\n",
       "      <th>Feature 24</th>\n",
       "      <th>Feature 25</th>\n",
       "      <th>Feature 26</th>\n",
       "      <th>Feature 27</th>\n",
       "      <th>Feature 28</th>\n",
       "      <th>Feature 29</th>\n",
       "      <th>normAmount</th>\n",
       "      <th>normTime</th>\n",
       "    </tr>\n",
       "  </thead>\n",
       "  <tbody>\n",
       "  </tbody>\n",
       "</table>\n",
       "<p>0 rows × 32 columns</p>\n",
       "</div>"
      ],
      "text/plain": [
       "Empty DataFrame\n",
       "Columns: [Fraud, Feature 1, Feature 2, Feature 3, Feature 4, Feature 5, Feature 6, Feature 7, Feature 8, Feature 9, Feature 10, Feature 11, Feature 12, Feature 13, Feature 14, Feature 15, Feature 16, Feature 17, Feature 18, Feature 19, Feature 20, Feature 21, Feature 22, Feature 23, Feature 24, Feature 25, Feature 26, Feature 27, Feature 28, Feature 29, normAmount, normTime]\n",
       "Index: []\n",
       "\n",
       "[0 rows x 32 columns]"
      ]
     },
     "execution_count": 62,
     "metadata": {},
     "output_type": "execute_result"
    }
   ],
   "source": [
    "#Use sklearn Impute to impute missing values\n",
    "features = df.values\n",
    "imp = SimpleImputer(missing_values = np.nan, strategy='mean')\n",
    "\n",
    "#Only feature 5 and feature 6 have NaN\n",
    "features[:,[5,6]] = imp.fit_transform(features[:,[5,6]])\n",
    "\n",
    "df1 = pd.DataFrame(features)\n",
    "df1.columns = df.columns\n",
    "df = df1\n",
    "\n",
    "#Check whether we've left out any null variables\n",
    "\n",
    "df[df.isnull().any(axis=1)]"
   ]
  },
  {
   "cell_type": "code",
   "execution_count": 63,
   "metadata": {},
   "outputs": [
    {
     "name": "stdout",
     "output_type": "stream",
     "text": [
      "Fraud rows:  417\n",
      "Total rows:  227844\n",
      "Percentage rows:  0.0018301996102596514\n"
     ]
    }
   ],
   "source": [
    "#Get number of fraud and not fraud values\n",
    "fraud_rows = df['Fraud'].value_counts()\n",
    "total_rows = df.shape[0]\n",
    "percentage_fraud = fraud_rows[1]/total_rows\n",
    "\n",
    "print(\"Fraud rows: \", fraud_rows[1])\n",
    "print(\"Total rows: \", total_rows)\n",
    "print(\"Percentage rows: \", percentage_fraud)"
   ]
  },
  {
   "cell_type": "markdown",
   "metadata": {},
   "source": [
    "### Check for Duplicates"
   ]
  },
  {
   "cell_type": "code",
   "execution_count": 64,
   "metadata": {},
   "outputs": [
    {
     "data": {
      "text/html": [
       "<div>\n",
       "<style scoped>\n",
       "    .dataframe tbody tr th:only-of-type {\n",
       "        vertical-align: middle;\n",
       "    }\n",
       "\n",
       "    .dataframe tbody tr th {\n",
       "        vertical-align: top;\n",
       "    }\n",
       "\n",
       "    .dataframe thead th {\n",
       "        text-align: right;\n",
       "    }\n",
       "</style>\n",
       "<table border=\"1\" class=\"dataframe\">\n",
       "  <thead>\n",
       "    <tr style=\"text-align: right;\">\n",
       "      <th></th>\n",
       "      <th>Fraud</th>\n",
       "      <th>Feature 1</th>\n",
       "      <th>Feature 2</th>\n",
       "      <th>Feature 3</th>\n",
       "      <th>Feature 4</th>\n",
       "      <th>Feature 5</th>\n",
       "      <th>Feature 6</th>\n",
       "      <th>Feature 7</th>\n",
       "      <th>Feature 8</th>\n",
       "      <th>Feature 9</th>\n",
       "      <th>...</th>\n",
       "      <th>Feature 22</th>\n",
       "      <th>Feature 23</th>\n",
       "      <th>Feature 24</th>\n",
       "      <th>Feature 25</th>\n",
       "      <th>Feature 26</th>\n",
       "      <th>Feature 27</th>\n",
       "      <th>Feature 28</th>\n",
       "      <th>Feature 29</th>\n",
       "      <th>normAmount</th>\n",
       "      <th>normTime</th>\n",
       "    </tr>\n",
       "  </thead>\n",
       "  <tbody>\n",
       "  </tbody>\n",
       "</table>\n",
       "<p>0 rows × 32 columns</p>\n",
       "</div>"
      ],
      "text/plain": [
       "Empty DataFrame\n",
       "Columns: [Fraud, Feature 1, Feature 2, Feature 3, Feature 4, Feature 5, Feature 6, Feature 7, Feature 8, Feature 9, Feature 10, Feature 11, Feature 12, Feature 13, Feature 14, Feature 15, Feature 16, Feature 17, Feature 18, Feature 19, Feature 20, Feature 21, Feature 22, Feature 23, Feature 24, Feature 25, Feature 26, Feature 27, Feature 28, Feature 29, normAmount, normTime]\n",
       "Index: []\n",
       "\n",
       "[0 rows x 32 columns]"
      ]
     },
     "execution_count": 64,
     "metadata": {},
     "output_type": "execute_result"
    }
   ],
   "source": [
    "df[df.duplicated()==True]"
   ]
  },
  {
   "cell_type": "markdown",
   "metadata": {},
   "source": [
    "<div class=\"alert alert-success\">\n",
    "There are no duplicates. So we can move on.\n",
    "</div>"
   ]
  },
  {
   "cell_type": "markdown",
   "metadata": {},
   "source": [
    "### T-SNE"
   ]
  },
  {
   "cell_type": "markdown",
   "metadata": {},
   "source": [
    "We will be applying t-SNE (t-Distributed Stochastic Neighbor Embedding) to ensure that the data can now be split into fraudulent and non-fraudulent transactions"
   ]
  },
  {
   "cell_type": "code",
   "execution_count": 65,
   "metadata": {},
   "outputs": [
    {
     "data": {
      "text/html": [
       "<div>\n",
       "<style scoped>\n",
       "    .dataframe tbody tr th:only-of-type {\n",
       "        vertical-align: middle;\n",
       "    }\n",
       "\n",
       "    .dataframe tbody tr th {\n",
       "        vertical-align: top;\n",
       "    }\n",
       "\n",
       "    .dataframe thead th {\n",
       "        text-align: right;\n",
       "    }\n",
       "</style>\n",
       "<table border=\"1\" class=\"dataframe\">\n",
       "  <thead>\n",
       "    <tr style=\"text-align: right;\">\n",
       "      <th></th>\n",
       "      <th>Fraud</th>\n",
       "      <th>Feature 1</th>\n",
       "      <th>Feature 2</th>\n",
       "      <th>Feature 3</th>\n",
       "      <th>Feature 4</th>\n",
       "      <th>Feature 5</th>\n",
       "      <th>Feature 6</th>\n",
       "      <th>Feature 7</th>\n",
       "      <th>Feature 8</th>\n",
       "      <th>Feature 9</th>\n",
       "      <th>...</th>\n",
       "      <th>Feature 22</th>\n",
       "      <th>Feature 23</th>\n",
       "      <th>Feature 24</th>\n",
       "      <th>Feature 25</th>\n",
       "      <th>Feature 26</th>\n",
       "      <th>Feature 27</th>\n",
       "      <th>Feature 28</th>\n",
       "      <th>Feature 29</th>\n",
       "      <th>normAmount</th>\n",
       "      <th>normTime</th>\n",
       "    </tr>\n",
       "  </thead>\n",
       "  <tbody>\n",
       "    <tr>\n",
       "      <th>182777</th>\n",
       "      <td>0.0</td>\n",
       "      <td>-0.609511</td>\n",
       "      <td>-0.142190</td>\n",
       "      <td>-0.258184</td>\n",
       "      <td>0.203663</td>\n",
       "      <td>0.679641</td>\n",
       "      <td>-0.184749</td>\n",
       "      <td>-0.096808</td>\n",
       "      <td>-0.411733</td>\n",
       "      <td>0.108593</td>\n",
       "      <td>...</td>\n",
       "      <td>0.039817</td>\n",
       "      <td>11.584887</td>\n",
       "      <td>0.831301</td>\n",
       "      <td>-2.766502</td>\n",
       "      <td>-0.225499</td>\n",
       "      <td>0.055366</td>\n",
       "      <td>-0.018688</td>\n",
       "      <td>1.245196</td>\n",
       "      <td>0.076545</td>\n",
       "      <td>1.177083</td>\n",
       "    </tr>\n",
       "    <tr>\n",
       "      <th>103824</th>\n",
       "      <td>0.0</td>\n",
       "      <td>0.520625</td>\n",
       "      <td>-0.935264</td>\n",
       "      <td>0.742185</td>\n",
       "      <td>-1.760245</td>\n",
       "      <td>-1.305150</td>\n",
       "      <td>-0.185506</td>\n",
       "      <td>0.086706</td>\n",
       "      <td>0.588509</td>\n",
       "      <td>0.138631</td>\n",
       "      <td>...</td>\n",
       "      <td>0.784588</td>\n",
       "      <td>-9.405176</td>\n",
       "      <td>-0.214292</td>\n",
       "      <td>0.509430</td>\n",
       "      <td>1.834376</td>\n",
       "      <td>2.028642</td>\n",
       "      <td>-0.281062</td>\n",
       "      <td>0.559096</td>\n",
       "      <td>-0.325845</td>\n",
       "      <td>-0.259013</td>\n",
       "    </tr>\n",
       "    <tr>\n",
       "      <th>195383</th>\n",
       "      <td>1.0</td>\n",
       "      <td>-0.464003</td>\n",
       "      <td>1.672723</td>\n",
       "      <td>1.165737</td>\n",
       "      <td>0.561323</td>\n",
       "      <td>-2.300798</td>\n",
       "      <td>1.277315</td>\n",
       "      <td>0.303905</td>\n",
       "      <td>-0.647075</td>\n",
       "      <td>-0.373014</td>\n",
       "      <td>...</td>\n",
       "      <td>-0.341273</td>\n",
       "      <td>-2.316432</td>\n",
       "      <td>-2.306645</td>\n",
       "      <td>0.736192</td>\n",
       "      <td>-0.054381</td>\n",
       "      <td>-0.000121</td>\n",
       "      <td>0.085662</td>\n",
       "      <td>-1.046351</td>\n",
       "      <td>2.524452</td>\n",
       "      <td>1.315797</td>\n",
       "    </tr>\n",
       "    <tr>\n",
       "      <th>66795</th>\n",
       "      <td>0.0</td>\n",
       "      <td>0.340227</td>\n",
       "      <td>-0.355014</td>\n",
       "      <td>0.264446</td>\n",
       "      <td>-0.072606</td>\n",
       "      <td>0.410568</td>\n",
       "      <td>-0.190995</td>\n",
       "      <td>0.269914</td>\n",
       "      <td>0.583721</td>\n",
       "      <td>0.251565</td>\n",
       "      <td>...</td>\n",
       "      <td>0.807485</td>\n",
       "      <td>-12.789983</td>\n",
       "      <td>1.104751</td>\n",
       "      <td>0.897058</td>\n",
       "      <td>1.508598</td>\n",
       "      <td>1.471044</td>\n",
       "      <td>-0.520202</td>\n",
       "      <td>-1.473558</td>\n",
       "      <td>-0.271913</td>\n",
       "      <td>-0.678877</td>\n",
       "    </tr>\n",
       "    <tr>\n",
       "      <th>80760</th>\n",
       "      <td>1.0</td>\n",
       "      <td>0.217572</td>\n",
       "      <td>-4.739084</td>\n",
       "      <td>-6.131887</td>\n",
       "      <td>-2.425871</td>\n",
       "      <td>2.314165</td>\n",
       "      <td>0.724381</td>\n",
       "      <td>-0.575924</td>\n",
       "      <td>0.495889</td>\n",
       "      <td>1.154128</td>\n",
       "      <td>...</td>\n",
       "      <td>-0.748436</td>\n",
       "      <td>7.130935</td>\n",
       "      <td>-4.710498</td>\n",
       "      <td>-2.046694</td>\n",
       "      <td>-4.226225</td>\n",
       "      <td>3.762306</td>\n",
       "      <td>-4.170623</td>\n",
       "      <td>-1.362198</td>\n",
       "      <td>0.092193</td>\n",
       "      <td>-0.516394</td>\n",
       "    </tr>\n",
       "  </tbody>\n",
       "</table>\n",
       "<p>5 rows × 32 columns</p>\n",
       "</div>"
      ],
      "text/plain": [
       "        Fraud  Feature 1  Feature 2  Feature 3  Feature 4  Feature 5  \\\n",
       "182777    0.0  -0.609511  -0.142190  -0.258184   0.203663   0.679641   \n",
       "103824    0.0   0.520625  -0.935264   0.742185  -1.760245  -1.305150   \n",
       "195383    1.0  -0.464003   1.672723   1.165737   0.561323  -2.300798   \n",
       "66795     0.0   0.340227  -0.355014   0.264446  -0.072606   0.410568   \n",
       "80760     1.0   0.217572  -4.739084  -6.131887  -2.425871   2.314165   \n",
       "\n",
       "        Feature 6  Feature 7  Feature 8  Feature 9  ...  Feature 22  \\\n",
       "182777  -0.184749  -0.096808  -0.411733   0.108593  ...    0.039817   \n",
       "103824  -0.185506   0.086706   0.588509   0.138631  ...    0.784588   \n",
       "195383   1.277315   0.303905  -0.647075  -0.373014  ...   -0.341273   \n",
       "66795   -0.190995   0.269914   0.583721   0.251565  ...    0.807485   \n",
       "80760    0.724381  -0.575924   0.495889   1.154128  ...   -0.748436   \n",
       "\n",
       "        Feature 23  Feature 24  Feature 25  Feature 26  Feature 27  \\\n",
       "182777   11.584887    0.831301   -2.766502   -0.225499    0.055366   \n",
       "103824   -9.405176   -0.214292    0.509430    1.834376    2.028642   \n",
       "195383   -2.316432   -2.306645    0.736192   -0.054381   -0.000121   \n",
       "66795   -12.789983    1.104751    0.897058    1.508598    1.471044   \n",
       "80760     7.130935   -4.710498   -2.046694   -4.226225    3.762306   \n",
       "\n",
       "        Feature 28  Feature 29  normAmount  normTime  \n",
       "182777   -0.018688    1.245196    0.076545  1.177083  \n",
       "103824   -0.281062    0.559096   -0.325845 -0.259013  \n",
       "195383    0.085662   -1.046351    2.524452  1.315797  \n",
       "66795    -0.520202   -1.473558   -0.271913 -0.678877  \n",
       "80760    -4.170623   -1.362198    0.092193 -0.516394  \n",
       "\n",
       "[5 rows x 32 columns]"
      ]
     },
     "execution_count": 65,
     "metadata": {},
     "output_type": "execute_result"
    }
   ],
   "source": [
    "# Since our classes are highly skewed we should make them equivalent in order to have a normal distribution of the classes.\n",
    "\n",
    "# Lets shuffle the data before creating the subsamples\n",
    "\n",
    "df = df.sample(frac=1)\n",
    "\n",
    "# amount of fraud classes 417 rows.\n",
    "fraud_df = df.loc[df['Fraud'] == 1]\n",
    "non_fraud_df = df.loc[df['Fraud'] == 0][:417]\n",
    "\n",
    "normal_distributed_df = pd.concat([fraud_df, non_fraud_df])\n",
    "\n",
    "# Shuffle dataframe rows\n",
    "new_df = normal_distributed_df.sample(frac=1, random_state=42)\n",
    "\n",
    "new_df.head()"
   ]
  },
  {
   "cell_type": "code",
   "execution_count": 66,
   "metadata": {},
   "outputs": [
    {
     "name": "stdout",
     "output_type": "stream",
     "text": [
      "T-SNE took 1.1e+01 s\n"
     ]
    }
   ],
   "source": [
    "# New_df is from the random undersample data (fewer instances)\n",
    "# Shuffle dataframe rows\n",
    "new_df = normal_distributed_df.sample(frac=1, random_state=42)\n",
    "\n",
    "new_df.head()\n",
    "\n",
    "X = new_df.drop('Fraud', axis=1)\n",
    "y = new_df['Fraud']\n",
    "\n",
    "# T-SNE Implementation\n",
    "t0 = time.time()\n",
    "X_reduced_tsne = TSNE(n_components=2, random_state=42).fit_transform(X.values)\n",
    "t1 = time.time()\n",
    "print(\"T-SNE took {:.2} s\".format(t1 - t0))"
   ]
  },
  {
   "cell_type": "code",
   "execution_count": 67,
   "metadata": {},
   "outputs": [
    {
     "data": {
      "image/png": "[encoded data removed]",
      "text/plain": [
       "<Figure size 576x576 with 1 Axes>"
      ]
     },
     "metadata": {},
     "output_type": "display_data"
    }
   ],
   "source": [
    "f, ax1 = plt.subplots(1, 1, figsize=(8,8))\n",
    "# labels = ['No Fraud', 'Fraud']\n",
    "f.suptitle('Clusters using Dimensionality Reduction', fontsize=14)\n",
    "\n",
    "blue_patch = mpatches.Patch(color='#0A0AFF', label='No Fraud')\n",
    "red_patch = mpatches.Patch(color='#AF0000', label='Fraud')\n",
    "\n",
    "# t-SNE scatter plot\n",
    "ax1.scatter(X_reduced_tsne[:,0], X_reduced_tsne[:,1], c=(y == 0), cmap='coolwarm', label='No Fraud', linewidths=2)\n",
    "ax1.scatter(X_reduced_tsne[:,0], X_reduced_tsne[:,1], c=(y == 1), cmap='coolwarm', label='Fraud', linewidths=2)\n",
    "ax1.set_title('t-SNE', fontsize=14)\n",
    "\n",
    "ax1.grid(True)\n",
    "\n",
    "ax1.legend(handles=[blue_patch, red_patch])\n",
    "\n",
    "plt.show()"
   ]
  },
  {
   "cell_type": "markdown",
   "metadata": {},
   "source": [
    "<div class=\"alert alert-success\">\n",
    "t-SNE tells us if our prediction model will correctly able to cluster our training set datapoints correctly <br/>\n",
    "From the plot above, we can see that the data can be classified into fraud and non-fraud and thus, we will be moving forward with it\n",
    "</div>"
   ]
  },
  {
   "cell_type": "markdown",
   "metadata": {},
   "source": [
    "## Feature Selection"
   ]
  },
  {
   "cell_type": "markdown",
   "metadata": {},
   "source": [
    "### Correlation Matrix"
   ]
  },
  {
   "cell_type": "code",
   "execution_count": 68,
   "metadata": {
    "scrolled": false
   },
   "outputs": [
    {
     "data": {
      "image/png": "[encoded data removed]",
      "text/plain": [
       "<Figure size 1728x1440 with 2 Axes>"
      ]
     },
     "metadata": {},
     "output_type": "display_data"
    }
   ],
   "source": [
    "# Shuffle dataframe rows\n",
    "df_sample = normal_distributed_df.sample(frac=1, random_state=42)\n",
    "\n",
    "f, ax1 = plt.subplots(1, 1, figsize=(24,20))\n",
    "\n",
    "sub_sample_corr = df_sample.corr()\n",
    "sns.heatmap(sub_sample_corr, cmap='coolwarm_r', annot_kws={'size':20}, ax=ax1)\n",
    "ax1.set_title('SubSample Correlation Matrix', fontsize=14)\n",
    "plt.show()"
   ]
  },
  {
   "cell_type": "markdown",
   "metadata": {},
   "source": [
    "<div class=\"alert alert-success\">\n",
    "We can see below that all features have very low correlation with the 'Fraud' feature. This was already expected since the data was processed using PCA.\n",
    "\n",
    "<b>Negative Correlations</b>: Features (7 and 8), (15 and 16), (16 and 17), (16 and 21), (24 and 27), (26 and 27) are negatively correlated. <br/>\n",
    "<b>Positive Correlations</b>:Features (2,3, and 4), (2 and 26), (15 and 21) are positively correlated. Notice how the higher these values are, the more likely the end result will be a fraud transaction.\n",
    "</div>"
   ]
  },
  {
   "cell_type": "markdown",
   "metadata": {},
   "source": [
    "So now we will be removing features 7, 16, 27, 2, 21"
   ]
  },
  {
   "cell_type": "code",
   "execution_count": 69,
   "metadata": {},
   "outputs": [],
   "source": [
    "normal_distributed_df.drop(['Feature 2', 'Feature 3', 'Feature 7', 'Feature 16', 'Feature 18', 'Feature 21', 'Feature 27'], axis=1, inplace=True)\n",
    "df.drop(['Feature 2', 'Feature 3', 'Feature 7', 'Feature 16', 'Feature 18', 'Feature 21', 'Feature 27'], axis=1, inplace=True)"
   ]
  },
  {
   "cell_type": "markdown",
   "metadata": {},
   "source": [
    "## Random Forest - Forward Selection"
   ]
  },
  {
   "cell_type": "markdown",
   "metadata": {},
   "source": [
    "We will be using Random Forest to get the important features"
   ]
  },
  {
   "cell_type": "code",
   "execution_count": 70,
   "metadata": {},
   "outputs": [
    {
     "name": "stderr",
     "output_type": "stream",
     "text": [
      "C:\\ProgramData\\Anaconda3\\lib\\site-packages\\sklearn\\model_selection\\_split.py:2179: FutureWarning: From version 0.21, test_size will always complement train_size unless both are specified.\n",
      "  FutureWarning)\n"
     ]
    }
   ],
   "source": [
    "#These datasets will be used in the forward selection procedure\n",
    "y_small = normal_distributed_df['Fraud']\n",
    "X_small = normal_distributed_df.drop('Fraud', axis=1)\n",
    "X_train_small, X_test_small, y_train_small, y_test_small = train_test_split(X_small, y_small, train_size=0.8, random_state=0)\n",
    "\n",
    "#These will be used for model evaluation\n",
    "y = df['Fraud']\n",
    "X = df.drop('Fraud', axis=1)\n",
    "X_train, X_test, y_train, y_test = train_test_split(X, y, train_size=0.8, random_state=0)"
   ]
  },
  {
   "cell_type": "code",
   "execution_count": 71,
   "metadata": {
    "scrolled": false
   },
   "outputs": [
    {
     "name": "stderr",
     "output_type": "stream",
     "text": [
      "[Parallel(n_jobs=1)]: Using backend SequentialBackend with 1 concurrent workers.\n",
      "[Parallel(n_jobs=1)]: Done   1 out of   1 | elapsed:    8.0s remaining:    0.0s\n",
      "[Parallel(n_jobs=1)]: Done  24 out of  24 | elapsed:   30.7s finished\n",
      "\n",
      "[2019-03-26 06:39:48] Features: 1/20 -- score: 0.8859370648844334[Parallel(n_jobs=1)]: Using backend SequentialBackend with 1 concurrent workers.\n",
      "[Parallel(n_jobs=1)]: Done   1 out of   1 | elapsed:    0.9s remaining:    0.0s\n",
      "[Parallel(n_jobs=1)]: Done  23 out of  23 | elapsed:   22.6s finished\n",
      "\n",
      "[2019-03-26 06:40:11] Features: 2/20 -- score: 0.9265385686438318[Parallel(n_jobs=1)]: Using backend SequentialBackend with 1 concurrent workers.\n",
      "[Parallel(n_jobs=1)]: Done   1 out of   1 | elapsed:    0.9s remaining:    0.0s\n",
      "[Parallel(n_jobs=1)]: Done  22 out of  22 | elapsed:   21.7s finished\n",
      "\n",
      "[2019-03-26 06:40:33] Features: 3/20 -- score: 0.9415316067947647[Parallel(n_jobs=1)]: Using backend SequentialBackend with 1 concurrent workers.\n",
      "[Parallel(n_jobs=1)]: Done   1 out of   1 | elapsed:    0.9s remaining:    0.0s\n",
      "[Parallel(n_jobs=1)]: Done  21 out of  21 | elapsed:   20.8s finished\n",
      "\n",
      "[2019-03-26 06:40:54] Features: 4/20 -- score: 0.9415316067947647[Parallel(n_jobs=1)]: Using backend SequentialBackend with 1 concurrent workers.\n",
      "[Parallel(n_jobs=1)]: Done   1 out of   1 | elapsed:    1.1s remaining:    0.0s\n",
      "[Parallel(n_jobs=1)]: Done  20 out of  20 | elapsed:   20.5s finished\n",
      "\n",
      "[2019-03-26 06:41:14] Features: 5/20 -- score: 0.938546365914787[Parallel(n_jobs=1)]: Using backend SequentialBackend with 1 concurrent workers.\n",
      "[Parallel(n_jobs=1)]: Done   1 out of   1 | elapsed:    0.9s remaining:    0.0s\n",
      "[Parallel(n_jobs=1)]: Done  19 out of  19 | elapsed:   19.1s finished\n",
      "\n",
      "[2019-03-26 06:41:34] Features: 6/20 -- score: 0.9385240879977722[Parallel(n_jobs=1)]: Using backend SequentialBackend with 1 concurrent workers.\n",
      "[Parallel(n_jobs=1)]: Done   1 out of   1 | elapsed:    0.9s remaining:    0.0s\n",
      "[Parallel(n_jobs=1)]: Done  18 out of  18 | elapsed:   17.9s finished\n",
      "\n",
      "[2019-03-26 06:41:52] Features: 7/20 -- score: 0.9430353661932609[Parallel(n_jobs=1)]: Using backend SequentialBackend with 1 concurrent workers.\n",
      "[Parallel(n_jobs=1)]: Done   1 out of   1 | elapsed:    0.9s remaining:    0.0s\n",
      "[Parallel(n_jobs=1)]: Done  17 out of  17 | elapsed:   17.0s finished\n",
      "\n",
      "[2019-03-26 06:42:09] Features: 8/20 -- score: 0.9430576441102756[Parallel(n_jobs=1)]: Using backend SequentialBackend with 1 concurrent workers.\n",
      "[Parallel(n_jobs=1)]: Done   1 out of   1 | elapsed:    0.9s remaining:    0.0s\n",
      "[Parallel(n_jobs=1)]: Done  16 out of  16 | elapsed:   16.1s finished\n",
      "\n",
      "[2019-03-26 06:42:25] Features: 9/20 -- score: 0.9445391255917572[Parallel(n_jobs=1)]: Using backend SequentialBackend with 1 concurrent workers.\n",
      "[Parallel(n_jobs=1)]: Done   1 out of   1 | elapsed:    0.9s remaining:    0.0s\n",
      "[Parallel(n_jobs=1)]: Done  15 out of  15 | elapsed:   15.2s finished\n",
      "\n",
      "[2019-03-26 06:42:40] Features: 10/20 -- score: 0.9430130882762461[Parallel(n_jobs=1)]: Using backend SequentialBackend with 1 concurrent workers.\n",
      "[Parallel(n_jobs=1)]: Done   1 out of   1 | elapsed:    0.9s remaining:    0.0s\n",
      "[Parallel(n_jobs=1)]: Done  14 out of  14 | elapsed:   14.2s finished\n",
      "\n",
      "[2019-03-26 06:42:54] Features: 11/20 -- score: 0.9430130882762461[Parallel(n_jobs=1)]: Using backend SequentialBackend with 1 concurrent workers.\n",
      "[Parallel(n_jobs=1)]: Done   1 out of   1 | elapsed:    0.9s remaining:    0.0s\n",
      "[Parallel(n_jobs=1)]: Done  13 out of  13 | elapsed:   13.1s finished\n",
      "\n",
      "[2019-03-26 06:43:07] Features: 12/20 -- score: 0.9430130882762461[Parallel(n_jobs=1)]: Using backend SequentialBackend with 1 concurrent workers.\n",
      "[Parallel(n_jobs=1)]: Done   1 out of   1 | elapsed:    0.9s remaining:    0.0s\n",
      "[Parallel(n_jobs=1)]: Done  12 out of  12 | elapsed:   12.2s finished\n",
      "\n",
      "[2019-03-26 06:43:20] Features: 13/20 -- score: 0.9444945697577276[Parallel(n_jobs=1)]: Using backend SequentialBackend with 1 concurrent workers.\n",
      "[Parallel(n_jobs=1)]: Done   1 out of   1 | elapsed:    0.9s remaining:    0.0s\n",
      "[Parallel(n_jobs=1)]: Done  11 out of  11 | elapsed:   11.0s finished\n",
      "\n",
      "[2019-03-26 06:43:31] Features: 14/20 -- score: 0.9400278473962684[Parallel(n_jobs=1)]: Using backend SequentialBackend with 1 concurrent workers.\n",
      "[Parallel(n_jobs=1)]: Done   1 out of   1 | elapsed:    0.9s remaining:    0.0s\n",
      "[Parallel(n_jobs=1)]: Done  10 out of  10 | elapsed:   10.1s finished\n",
      "\n",
      "[2019-03-26 06:43:41] Features: 15/20 -- score: 0.9415316067947647[Parallel(n_jobs=1)]: Using backend SequentialBackend with 1 concurrent workers.\n",
      "[Parallel(n_jobs=1)]: Done   1 out of   1 | elapsed:    1.0s remaining:    0.0s\n",
      "[Parallel(n_jobs=1)]: Done   9 out of   9 | elapsed:    9.3s finished\n",
      "\n",
      "[2019-03-26 06:43:50] Features: 16/20 -- score: 0.9459983291562238[Parallel(n_jobs=1)]: Using backend SequentialBackend with 1 concurrent workers.\n",
      "[Parallel(n_jobs=1)]: Done   1 out of   1 | elapsed:    0.9s remaining:    0.0s\n",
      "[Parallel(n_jobs=1)]: Done   8 out of   8 | elapsed:    8.0s finished\n",
      "\n",
      "[2019-03-26 06:43:59] Features: 17/20 -- score: 0.9415316067947647[Parallel(n_jobs=1)]: Using backend SequentialBackend with 1 concurrent workers.\n",
      "[Parallel(n_jobs=1)]: Done   1 out of   1 | elapsed:    0.9s remaining:    0.0s\n",
      "[Parallel(n_jobs=1)]: Done   7 out of   7 | elapsed:    7.1s finished\n",
      "\n",
      "[2019-03-26 06:44:06] Features: 18/20 -- score: 0.9400055694792536[Parallel(n_jobs=1)]: Using backend SequentialBackend with 1 concurrent workers.\n",
      "[Parallel(n_jobs=1)]: Done   1 out of   1 | elapsed:    1.0s remaining:    0.0s\n",
      "[Parallel(n_jobs=1)]: Done   6 out of   6 | elapsed:    6.1s finished\n",
      "\n",
      "[2019-03-26 06:44:12] Features: 19/20 -- score: 0.9325758841548316[Parallel(n_jobs=1)]: Using backend SequentialBackend with 1 concurrent workers.\n",
      "[Parallel(n_jobs=1)]: Done   1 out of   1 | elapsed:    1.0s remaining:    0.0s\n",
      "[Parallel(n_jobs=1)]: Done   5 out of   5 | elapsed:    5.1s finished\n",
      "\n",
      "[2019-03-26 06:44:17] Features: 20/20 -- score: 0.9385240879977722"
     ]
    }
   ],
   "source": [
    "# Build RF classifier to use in feature selection\n",
    "clf = RandomForestClassifier(n_estimators=24, n_jobs=-1)\n",
    "\n",
    "# Build step forward feature selection\n",
    "sfs1 = sfs(clf,\n",
    "           k_features=20,  #20 has been chosen after multiple trial-errors\n",
    "           forward=True,\n",
    "           floating=False,\n",
    "           verbose=2,\n",
    "           scoring='accuracy')\n",
    "\n",
    "# Perform SFFS\n",
    "sfs1 = sfs1.fit(X_train_small, y_train_small)"
   ]
  },
  {
   "cell_type": "code",
   "execution_count": 72,
   "metadata": {},
   "outputs": [],
   "source": [
    "# Get the features that were selected as predictors\n",
    "# feat_cols = list(sfs1.k_feature_idx_)\n",
    "# print(feat_cols)\n",
    "\n",
    "feat_cols = [0, 1, 2, 4, 5, 6, 7, 8, 10, 11, 12, 13, 14, 15, 16, 17, 19, 21, 22, 23]\n",
    "#Therefore, the selected features are: [0, 1, 2, 4, 5, 6, 7, 8, 10, 11, 12, 13, 14, 15, 16, 17, 19, 21, 22, 23]"
   ]
  },
  {
   "cell_type": "code",
   "execution_count": 73,
   "metadata": {},
   "outputs": [
    {
     "name": "stdout",
     "output_type": "stream",
     "text": [
      "Training accuracy on selected features: 0.9954058193\n",
      "Testing accuracy on selected features: 0.8354430380\n"
     ]
    }
   ],
   "source": [
    "# Build full model with selected features\n",
    "clf = RandomForestClassifier(n_estimators=24, random_state=42)\n",
    "clf.fit(X_train.iloc[:, feat_cols], y_train)\n",
    "\n",
    "y_train_pred = clf.predict(X_train.iloc[:, feat_cols])\n",
    "print('Training accuracy on selected features: %.10f' % f1_score(y_train, y_train_pred))\n",
    "\n",
    "y_test_pred = clf.predict(X_test.iloc[:, feat_cols])\n",
    "print('Testing accuracy on selected features: %.10f' % f1_score(y_test, y_test_pred))"
   ]
  },
  {
   "cell_type": "code",
   "execution_count": 74,
   "metadata": {},
   "outputs": [],
   "source": [
    "X_train = X_train.iloc[:, feat_cols]\n",
    "X_test = X_test.iloc[:, feat_cols]"
   ]
  },
  {
   "cell_type": "markdown",
   "metadata": {},
   "source": [
    "# Data Resampling"
   ]
  },
  {
   "cell_type": "code",
   "execution_count": 75,
   "metadata": {},
   "outputs": [],
   "source": [
    "#We'll keep the ratio for Fraud 2:3 such that it is balanced enough to train the model without creating too many synthetic points\n",
    "method = SMOTE(sampling_strategy=0.67, kind='regular')\n",
    "\n",
    "# Apply resampling to the training data only\n",
    "X_resampled, y_resampled = method.fit_sample(X_train, y_train)"
   ]
  },
  {
   "cell_type": "code",
   "execution_count": 76,
   "metadata": {},
   "outputs": [
    {
     "name": "stdout",
     "output_type": "stream",
     "text": [
      "Before resampling\n",
      "0.0    227427\n",
      "1.0       417\n",
      "Name: Fraud, dtype: int64\n",
      "After resampling\n",
      "0.0    181947\n",
      "1.0    121904\n",
      "dtype: int64\n"
     ]
    }
   ],
   "source": [
    "print(\"Before resampling\")\n",
    "print(pd.value_counts(pd.Series(y)))\n",
    "\n",
    "# Print the value_counts\n",
    "print(\"After resampling\")\n",
    "print(pd.value_counts(pd.Series(y_resampled)))"
   ]
  },
  {
   "cell_type": "markdown",
   "metadata": {},
   "source": [
    "# Models to detect Fraud"
   ]
  },
  {
   "cell_type": "markdown",
   "metadata": {},
   "source": [
    "## Logistic Regression"
   ]
  },
  {
   "cell_type": "code",
   "execution_count": 77,
   "metadata": {},
   "outputs": [
    {
     "name": "stderr",
     "output_type": "stream",
     "text": [
      "C:\\ProgramData\\Anaconda3\\lib\\site-packages\\sklearn\\linear_model\\logistic.py:433: FutureWarning: Default solver will be changed to 'lbfgs' in 0.22. Specify a solver to silence this warning.\n",
      "  FutureWarning)\n"
     ]
    },
    {
     "name": "stdout",
     "output_type": "stream",
     "text": [
      "Classification report:\n",
      "               precision    recall  f1-score   support\n",
      "\n",
      "         0.0       1.00      1.00      1.00     45480\n",
      "         1.0       0.88      0.57      0.69        89\n",
      "\n",
      "   micro avg       1.00      1.00      1.00     45569\n",
      "   macro avg       0.94      0.79      0.85     45569\n",
      "weighted avg       1.00      1.00      1.00     45569\n",
      "\n",
      "Confusion matrix:\n",
      " [[45473     7]\n",
      " [   38    51]]\n",
      "F1 SCORE 0.693877551020408\n"
     ]
    }
   ],
   "source": [
    "# Continue fitting the model and obtain predictions\n",
    "model_lr = LogisticRegression()\n",
    "model_lr.fit(X_train, y_train)\n",
    "\n",
    "# Get your performance metrics\n",
    "predicted = model_lr.predict(X_test)\n",
    "\n",
    "# Predict probabilities\n",
    "probs = model_lr.predict_proba(X_test)\n",
    "\n",
    "# Print the classifcation report and confusion matrix\n",
    "print('Classification report:\\n', classification_report(y_test, predicted))\n",
    "conf_mat = confusion_matrix(y_true=y_test, y_pred=predicted)\n",
    "print('Confusion matrix:\\n', conf_mat)\n",
    "print(\"F1 SCORE\", f1_score(y_test, predicted))"
   ]
  },
  {
   "cell_type": "code",
   "execution_count": 78,
   "metadata": {
    "scrolled": true
   },
   "outputs": [
    {
     "data": {
      "image/png": "[encoded data removed]",
      "text/plain": [
       "<Figure size 432x288 with 1 Axes>"
      ]
     },
     "metadata": {},
     "output_type": "display_data"
    }
   ],
   "source": [
    "#Printing ROC Curve that shows tradeoff between Sensitivity and Specificity \n",
    "probs = model_lr.predict_proba(X_test)[::,1]\n",
    "fpr, tpr, _ = roc_curve(y_test,  probs)\n",
    "auc_score = roc_auc_score(y_test, probs)\n",
    "plt.plot(fpr,tpr,label=\"data 1, auc=\"+str(auc_score))\n",
    "plt.legend(loc=4)\n",
    "plt.show()\n"
   ]
  },
  {
   "cell_type": "code",
   "execution_count": 79,
   "metadata": {},
   "outputs": [
    {
     "data": {
      "text/plain": [
       "array([[-0.28639326, -0.06861602,  0.06970666,  0.30561542, -0.09040253,\n",
       "         0.01734409, -0.21653038,  0.2252079 ,  0.05573296, -0.04287648,\n",
       "        -0.11102552,  0.08822478, -0.05479313, -0.14761931,  0.02762167,\n",
       "        -0.83683276, -0.27664543, -0.42212929,  0.1063779 , -0.1855358 ]])"
      ]
     },
     "execution_count": 79,
     "metadata": {},
     "output_type": "execute_result"
    }
   ],
   "source": [
    "#Get coefficients and feature values of logistic regression\n",
    "model_lr.coef_"
   ]
  },
  {
   "cell_type": "code",
   "execution_count": 80,
   "metadata": {},
   "outputs": [
    {
     "data": {
      "text/plain": [
       "Index(['Feature 1', 'Feature 4', 'Feature 5', 'Feature 8', 'Feature 9',\n",
       "       'Feature 10', 'Feature 11', 'Feature 12', 'Feature 14', 'Feature 15',\n",
       "       'Feature 17', 'Feature 19', 'Feature 20', 'Feature 22', 'Feature 23',\n",
       "       'Feature 24', 'Feature 26', 'Feature 29', 'normAmount', 'normTime'],\n",
       "      dtype='object')"
      ]
     },
     "execution_count": 80,
     "metadata": {},
     "output_type": "execute_result"
    }
   ],
   "source": [
    "X_test.columns"
   ]
  },
  {
   "cell_type": "markdown",
   "metadata": {},
   "source": [
    "## Decision Tree "
   ]
  },
  {
   "cell_type": "code",
   "execution_count": 81,
   "metadata": {},
   "outputs": [
    {
     "name": "stdout",
     "output_type": "stream",
     "text": [
      "Classification report:\n",
      "               precision    recall  f1-score   support\n",
      "\n",
      "         0.0       1.00      1.00      1.00     45480\n",
      "         1.0       0.34      0.79      0.48        89\n",
      "\n",
      "   micro avg       1.00      1.00      1.00     45569\n",
      "   macro avg       0.67      0.89      0.74     45569\n",
      "weighted avg       1.00      1.00      1.00     45569\n",
      "\n",
      "Confusion matrix:\n",
      " [[45346   134]\n",
      " [   19    70]]\n",
      "F1 SCORE 0.4778156996587031\n",
      "AUC Score:  0.8917852519443046\n"
     ]
    }
   ],
   "source": [
    "model_dt = DecisionTreeClassifier(random_state=5)\n",
    "\n",
    "# Fit the model to our resampled dataset\n",
    "model_dt.fit(X_resampled, y_resampled)\n",
    "\n",
    "# Obtain predictions from the test data \n",
    "predicted = model_dt.predict(X_test)\n",
    "\n",
    "# Print the accuracy performance metric\n",
    "# print(accuracy_score(y_test, predicted))\n",
    "\n",
    "# Predict probabilities\n",
    "probs = model_dt.predict_proba(X_test)\n",
    "\n",
    "# Print the classifcation report and confusion matrix\n",
    "print('Classification report:\\n', classification_report(y_test, predicted))\n",
    "conf_mat = confusion_matrix(y_true=y_test, y_pred=predicted)\n",
    "print('Confusion matrix:\\n', conf_mat)\n",
    "print(\"F1 SCORE\", f1_score(y_test, predicted))\n",
    "print('AUC Score: ',roc_auc_score(y_test, probs[:,1]))"
   ]
  },
  {
   "cell_type": "code",
   "execution_count": 82,
   "metadata": {},
   "outputs": [
    {
     "data": {
      "image/png": "[encoded data removed]",
      "text/plain": [
       "<Figure size 432x288 with 1 Axes>"
      ]
     },
     "metadata": {},
     "output_type": "display_data"
    }
   ],
   "source": [
    "#Printing ROC Curve that shows tradeoff between Sensitivity and Specificity \n",
    "probs = model_dt.predict_proba(X_test)[::,1]\n",
    "fpr, tpr, _ = roc_curve(y_test,  probs)\n",
    "auc_score = roc_auc_score(y_test, probs)\n",
    "plt.plot(fpr,tpr,label=\"data 1, auc=\"+str(auc_score))\n",
    "plt.legend(loc=4)\n",
    "plt.show()\n"
   ]
  },
  {
   "cell_type": "markdown",
   "metadata": {},
   "source": [
    "## Random Forest"
   ]
  },
  {
   "cell_type": "markdown",
   "metadata": {},
   "source": [
    "### Parameter tuning for Random Forest"
   ]
  },
  {
   "cell_type": "markdown",
   "metadata": {},
   "source": [
    "### Get number of estimators"
   ]
  },
  {
   "cell_type": "code",
   "execution_count": 83,
   "metadata": {},
   "outputs": [
    {
     "data": {
      "image/png": "[encoded data removed]",
      "text/plain": [
       "<Figure size 432x288 with 1 Axes>"
      ]
     },
     "metadata": {},
     "output_type": "display_data"
    }
   ],
   "source": [
    "n_estimators = [1, 2, 4, 8, 16, 32, 64, 100, 200]\n",
    "train_results = []\n",
    "test_results = []\n",
    "for estimator in n_estimators:\n",
    "    rf = RandomForestClassifier(n_estimators=estimator, n_jobs=-1)\n",
    "    rf.fit(X_resampled, y_resampled)\n",
    "    train_pred = rf.predict(X_resampled)\n",
    "    false_positive_rate, true_positive_rate, thresholds = roc_curve(y_resampled, train_pred)\n",
    "    roc_auc = auc(false_positive_rate, true_positive_rate)\n",
    "    \n",
    "    train_results.append(roc_auc)\n",
    "    y_pred = rf.predict(X_test)\n",
    "    false_positive_rate, true_positive_rate, thresholds = roc_curve(y_test, y_pred)\n",
    "    roc_auc = auc(false_positive_rate, true_positive_rate)\n",
    "    test_results.append(roc_auc)\n",
    "    \n",
    "from matplotlib.legend_handler import HandlerLine2D\n",
    "line1, = plt.plot(n_estimators, train_results, 'b', label='Train AUC')\n",
    "line2, = plt.plot(n_estimators, test_results, 'r', label='Test AUC')\n",
    "plt.legend(handler_map={line1: HandlerLine2D(numpoints=2)})\n",
    "plt.ylabel('AUC score')\n",
    "plt.xlabel('n_estimators')\n",
    "plt.show()"
   ]
  },
  {
   "cell_type": "markdown",
   "metadata": {},
   "source": [
    "<div class=\"alert alert-success\">\n",
    "Therefore, we can see that once we cross 24, there's no increase in AUC if we increase the number of estimators. \n",
    "</div>"
   ]
  },
  {
   "cell_type": "code",
   "execution_count": 84,
   "metadata": {},
   "outputs": [
    {
     "name": "stdout",
     "output_type": "stream",
     "text": [
      "              precision    recall  f1-score   support\n",
      "\n",
      "         0.0       1.00      1.00      1.00     45480\n",
      "         1.0       0.97      0.83      0.90        89\n",
      "\n",
      "   micro avg       1.00      1.00      1.00     45569\n",
      "   macro avg       0.99      0.92      0.95     45569\n",
      "weighted avg       1.00      1.00      1.00     45569\n",
      "\n",
      "[[45478     2]\n",
      " [   15    74]]\n",
      "F1 SCORE 0.8969696969696971\n",
      "AUC Score:  0.9512709624183491\n"
     ]
    }
   ],
   "source": [
    "# Define the model as the random forest\n",
    "model_rf_re = RandomForestClassifier(n_estimators=24,random_state=5, criterion='entropy')\n",
    "\n",
    "# Fit the model to our resampled dataset\n",
    "model_rf_re.fit(X_resampled, y_resampled)\n",
    "\n",
    "# Obtain predictions from the test data \n",
    "predicted = model_rf_re.predict(X_test)\n",
    "\n",
    "# Predict probabilities\n",
    "probs = model_rf_re.predict_proba(X_test)\n",
    "\n",
    "# Print the ROC curve, classification report and confusion matrix\n",
    "print(classification_report(y_test, predicted))\n",
    "print(confusion_matrix(y_test, predicted))\n",
    "print(\"F1 SCORE\", f1_score(y_test, predicted))\n",
    "print(\"AUC Score: \",roc_auc_score(y_test, probs[:,1]))"
   ]
  },
  {
   "cell_type": "code",
   "execution_count": 85,
   "metadata": {},
   "outputs": [
    {
     "data": {
      "image/png": "[encoded data removed]",
      "text/plain": [
       "<Figure size 432x288 with 1 Axes>"
      ]
     },
     "metadata": {},
     "output_type": "display_data"
    }
   ],
   "source": [
    "#Printing ROC Curve that shows tradeoff between Sensitivity and Specificity \n",
    "probs = model_rf_re.predict_proba(X_test)[::,1]\n",
    "fpr, tpr, _ = roc_curve(y_test,  probs)\n",
    "auc_score = roc_auc_score(y_test, probs)\n",
    "plt.plot(fpr,tpr,label=\"data 1, auc=\"+str(auc_score))\n",
    "plt.legend(loc=4)\n",
    "plt.show()\n"
   ]
  },
  {
   "cell_type": "markdown",
   "metadata": {},
   "source": [
    "<div class=\"alert alert-success\">\n",
    "    <h2> Model Selected ! </h2>\n",
    "    <br/>\n",
    "    Therefore, we can see that Random Forest has the best AUC score and the best F-score <br/>\n",
    "    We will be using this as our final predictors\n",
    "</div>"
   ]
  },
  {
   "cell_type": "markdown",
   "metadata": {},
   "source": [
    "### Create a pruned Random tree to print the rules"
   ]
  },
  {
   "cell_type": "markdown",
   "metadata": {},
   "source": [
    "<div class=\"alert alert-danger\">\n",
    "    The pruned tree image was created on local and images have been uploaded\n",
    "</div>"
   ]
  },
  {
   "cell_type": "code",
   "execution_count": 86,
   "metadata": {},
   "outputs": [],
   "source": [
    "# Do not need to prune again\n",
    "# The images are available in the slides and on local\n",
    "\n",
    "# Define the model as the random forest\n",
    "# model_rf_pruned = RandomForestClassifier(n_estimators=24,random_state=5, max_depth=3, criterion='entropy')\n",
    "\n",
    "# # Fit the model to our resampled dataset\n",
    "# model_rf_pruned.fit(X_resampled, y_resampled)\n",
    "\n",
    "# # Obtain predictions from the test data \n",
    "# predicted = model_rf_pruned.predict(X_test)\n",
    "\n",
    "# # Predict probabilities\n",
    "# probs = model_rf_pruned.predict_proba(X_test)\n",
    "\n",
    "# # Print the ROC curve, classification report and confusion matrix\n",
    "# print(\"AUC Score: \",roc_auc_score(y_test, probs[:,1]))"
   ]
  },
  {
   "cell_type": "code",
   "execution_count": 87,
   "metadata": {},
   "outputs": [],
   "source": [
    "#printing one decision tree in the Random Forest\n",
    "# The images are available in the slides and on local\n",
    "\n",
    "# estimator = model_rf_pruned.estimators_[5]\n",
    "\n",
    "# tree.export_graphviz(estimator, out_file='tree.dot', feature_names=X_train.columns,\n",
    "#                     class_names = ['Non-Fraud', 'Fraud']) #produces dot file\n",
    "# (graph,) = pydot.graph_from_dot_file('tree.dot')\n",
    "# graph.write_png('images/random_forest_pruned_5.png')"
   ]
  },
  {
   "cell_type": "code",
   "execution_count": 88,
   "metadata": {},
   "outputs": [],
   "source": [
    "#printing one decision tree in the Random Forest\n",
    "# The images are available in the slides and on local\n",
    "\n",
    "# estimator = model_rf_pruned.estimators_[2]\n",
    "\n",
    "# tree.export_graphviz(estimator, out_file='tree.dot', feature_names=X_train.columns,\n",
    "#                     class_names = ['Non-Fraud', 'Fraud']) #produces dot file\n",
    "# (graph,) = pydot.graph_from_dot_file('tree.dot')\n",
    "# graph.write_png('images/random_forest_pruned_2.png')"
   ]
  },
  {
   "cell_type": "code",
   "execution_count": 89,
   "metadata": {},
   "outputs": [],
   "source": [
    "#printing one decision tree in the Random Forest\n",
    "# The images are available in the slides and on local\n",
    "\n",
    "# estimator = model_rf_pruned.estimators_[20]\n",
    "\n",
    "# tree.export_graphviz(estimator, out_file='tree.dot', feature_names=X_train.columns,\n",
    "#                     class_names = ['Non-Fraud', 'Fraud']) #produces dot file\n",
    "# (graph,) = pydot.graph_from_dot_file('tree.dot')\n",
    "# graph.write_png('images/random_forest_pruned_20.png')"
   ]
  },
  {
   "cell_type": "code",
   "execution_count": 90,
   "metadata": {},
   "outputs": [],
   "source": [
    "#printing one decision tree in the Random Forest\n",
    "# The images are available in the slides and on local\n",
    "\n",
    "# estimator = model_rf_pruned.estimators_[15]\n",
    "\n",
    "# tree.export_graphviz(estimator, out_file='tree.dot', feature_names=X_train.columns,\n",
    "#                     class_names = ['Non-Fraud', 'Fraud']) #produces dot file\n",
    "# (graph,) = pydot.graph_from_dot_file('tree.dot')\n",
    "# graph.write_png('images/random_forest_pruned_15.png')"
   ]
  },
  {
   "cell_type": "markdown",
   "metadata": {},
   "source": [
    "### Adaboost Classifier (with Decision Tree)`"
   ]
  },
  {
   "cell_type": "code",
   "execution_count": 99,
   "metadata": {},
   "outputs": [],
   "source": [
    "#Create the AdaBoost classifier. Default base classifiers is Decision Tree. \n",
    "#Changing the base classifier to logistic regression??\n",
    "\n",
    "# - n_estimator is the number of base classifiers (i.e. weak learners)\n",
    "# - learning_rate controls the weight adjustments of each base classifiers. Default is 1\n",
    "# - There is a trade-off between learning rate and n_estimators https://stats.stackexchange.com/questions/82323/shrinkage-parameter-in-adaboost\n",
    "model_ada = AdaBoostClassifier(n_estimators=24,learning_rate=1)  \n",
    "#if you change learning_rates/ tune the no of weak base classifier, the \n",
    "#model_ada accuracy will change \n",
    "\n",
    "#Fit the training feature Xs and training label Ys\n",
    "model_ada.fit(X_resampled, y_resampled)\n",
    "\n",
    "# Obtain predictions from the test data \n",
    "predicted = model_ada.predict(X_test)"
   ]
  },
  {
   "cell_type": "code",
   "execution_count": 100,
   "metadata": {},
   "outputs": [
    {
     "name": "stdout",
     "output_type": "stream",
     "text": [
      "Classification report:\n",
      "               precision    recall  f1-score   support\n",
      "\n",
      "         0.0       1.00      0.98      0.99     45480\n",
      "         1.0       0.09      0.87      0.16        89\n",
      "\n",
      "   micro avg       0.98      0.98      0.98     45569\n",
      "   macro avg       0.54      0.92      0.58     45569\n",
      "weighted avg       1.00      0.98      0.99     45569\n",
      "\n",
      "Confusion matrix:\n",
      " [[44684   796]\n",
      " [   12    77]]\n",
      "F1 SCORE 0.1600831600831601\n",
      "AUC Score:  0.9668440504777998\n"
     ]
    }
   ],
   "source": [
    "\n",
    "# Print the accuracy performance metric\n",
    "# print(accuracy_score(y_test, predicted))\n",
    "\n",
    "# Predict probabilities\n",
    "probs = model_ada.predict_proba(X_test)\n",
    "\n",
    "# Print the classifcation report and confusion matrix\n",
    "print('Classification report:\\n', classification_report(y_test, predicted))\n",
    "conf_mat = confusion_matrix(y_true=y_test, y_pred=predicted)\n",
    "print('Confusion matrix:\\n', conf_mat)\n",
    "print(\"F1 SCORE\", f1_score(y_test, predicted))\n",
    "print('AUC Score: ',roc_auc_score(y_test, probs[:,1]))"
   ]
  },
  {
   "cell_type": "code",
   "execution_count": 101,
   "metadata": {},
   "outputs": [
    {
     "data": {
      "image/png": "[encoded data removed]",
      "text/plain": [
       "<Figure size 432x288 with 1 Axes>"
      ]
     },
     "metadata": {},
     "output_type": "display_data"
    }
   ],
   "source": [
    "#Printing ROC Curve that shows tradeoff between Sensitivity and Specificity \n",
    "probs = model_ada.predict_proba(X_test)[::,1]\n",
    "fpr, tpr, _ = roc_curve(y_test,  probs)\n",
    "auc_score = roc_auc_score(y_test, probs)\n",
    "plt.plot(fpr,tpr,label=\"data 1, auc=\"+str(auc_score))\n",
    "plt.legend(loc=4)\n",
    "plt.show()\n"
   ]
  },
  {
   "cell_type": "markdown",
   "metadata": {},
   "source": [
    "### Adaboost Classifier (with Gaussian Naive Bayes"
   ]
  },
  {
   "cell_type": "code",
   "execution_count": 102,
   "metadata": {},
   "outputs": [
    {
     "name": "stdout",
     "output_type": "stream",
     "text": [
      "Classification report:\n",
      "               precision    recall  f1-score   support\n",
      "\n",
      "         0.0       1.00      0.98      0.99     45480\n",
      "         1.0       0.07      0.84      0.13        89\n",
      "\n",
      "   micro avg       0.98      0.98      0.98     45569\n",
      "   macro avg       0.54      0.91      0.56     45569\n",
      "weighted avg       1.00      0.98      0.99     45569\n",
      "\n",
      "Confusion matrix:\n",
      " [[44521   959]\n",
      " [   14    75]]\n",
      "F1 SCORE 0.1335707925200356\n",
      "AUC Score:  0.933323945332187\n"
     ]
    }
   ],
   "source": [
    "model_g = GaussianNB()\n",
    "#Fit the training feature Xs and training label Ys\n",
    "model_g.fit(X_resampled, y_resampled)\n",
    "\n",
    "# Obtain predictions from the test data \n",
    "predicted = model_g.predict(X_test)\n",
    "\n",
    "# Predict probabilities\n",
    "probs = model_g.predict_proba(X_test)\n",
    "\n",
    "# Print the classifcation report and confusion matrix\n",
    "print('Classification report:\\n', classification_report(y_test, predicted))\n",
    "conf_mat = confusion_matrix(y_true=y_test, y_pred=predicted)\n",
    "print('Confusion matrix:\\n', conf_mat)\n",
    "print(\"F1 SCORE\", f1_score(y_test, predicted))\n",
    "print('AUC Score: ',roc_auc_score(y_test, probs[:,1]))"
   ]
  },
  {
   "cell_type": "code",
   "execution_count": 103,
   "metadata": {},
   "outputs": [
    {
     "name": "stdout",
     "output_type": "stream",
     "text": [
      "Classification report:\n",
      "               precision    recall  f1-score   support\n",
      "\n",
      "         0.0       1.00      0.80      0.89     45480\n",
      "         1.0       0.01      0.69      0.01        89\n",
      "\n",
      "   micro avg       0.80      0.80      0.80     45569\n",
      "   macro avg       0.50      0.74      0.45     45569\n",
      "weighted avg       1.00      0.80      0.89     45569\n",
      "\n",
      "Confusion matrix:\n",
      " [[36427  9053]\n",
      " [   28    61]]\n",
      "F1 SCORE 0.013256546778224493\n",
      "AUC Score:  0.8349196584744004\n"
     ]
    }
   ],
   "source": [
    "nb = GaussianNB()\n",
    "\n",
    "model_gau = AdaBoostClassifier(n_estimators=24,learning_rate=1, base_estimator=nb)\n",
    "#model = BaggingClassifier(n_estimators=50, base_estimator=knn)\n",
    "\n",
    "#Fit the training feature Xs and training label Ys\n",
    "model_gau.fit(X_resampled, y_resampled)\n",
    "\n",
    "# Obtain predictions from the test data \n",
    "predicted = model_gau.predict(X_test)\n",
    "\n",
    "# Predict probabilities\n",
    "probs = model_gau.predict_proba(X_test)\n",
    "\n",
    "# Print the classifcation report and confusion matrix\n",
    "print('Classification report:\\n', classification_report(y_test, predicted))\n",
    "conf_mat = confusion_matrix(y_true=y_test, y_pred=predicted)\n",
    "print('Confusion matrix:\\n', conf_mat)\n",
    "print(\"F1 SCORE\", f1_score(y_test, predicted))\n",
    "print('AUC Score: ',roc_auc_score(y_test, probs[:,1]))"
   ]
  },
  {
   "cell_type": "markdown",
   "metadata": {},
   "source": [
    "# Further Evaluation Metrics"
   ]
  },
  {
   "cell_type": "markdown",
   "metadata": {},
   "source": [
    "## Plot learning curve"
   ]
  },
  {
   "cell_type": "code",
   "execution_count": null,
   "metadata": {},
   "outputs": [],
   "source": [
    "#Generate a simple plot of the test and training learning curve.\n",
    "def plot_learning_curve(estimator, title, X, y, ylim=None, cv=None,\n",
    "                        n_jobs=None, train_sizes=np.linspace(.1, 1.0, 5)):    \n",
    "    plt.figure()\n",
    "    plt.title(title)\n",
    "    if ylim is not None:\n",
    "        plt.ylim(*ylim)\n",
    "    plt.xlabel(\"Training examples\")\n",
    "    plt.ylabel(\"Score\")\n",
    "    train_sizes, train_scores, test_scores = learning_curve(\n",
    "        estimator, X, y, cv=cv, n_jobs=n_jobs, train_sizes=train_sizes)\n",
    "    train_scores_mean = np.mean(train_scores, axis=1)\n",
    "    train_scores_std = np.std(train_scores, axis=1)\n",
    "    test_scores_mean = np.mean(test_scores, axis=1)\n",
    "    test_scores_std = np.std(test_scores, axis=1)\n",
    "    plt.grid()\n",
    "\n",
    "    plt.fill_between(train_sizes, train_scores_mean - train_scores_std,\n",
    "                     train_scores_mean + train_scores_std, alpha=0.1,\n",
    "                     color=\"r\")\n",
    "    plt.fill_between(train_sizes, test_scores_mean - test_scores_std,\n",
    "                     test_scores_mean + test_scores_std, alpha=0.1, color=\"g\")\n",
    "    plt.plot(train_sizes, train_scores_mean, 'o-', color=\"r\",\n",
    "             label=\"Training score\")\n",
    "    plt.plot(train_sizes, test_scores_mean, 'o-', color=\"g\",\n",
    "             label=\"Cross-validation score\")\n",
    "\n",
    "    plt.legend(loc=\"best\")\n",
    "    return plt\n",
    "\n",
    "title= \"Learning Curve\"\n",
    "plot_learning_curve(model_rf_re, title, X_resampled, y_resampled)\n",
    "\n",
    "plt.show()"
   ]
  },
  {
   "cell_type": "markdown",
   "metadata": {},
   "source": [
    "<div class=\"alert alert-success\">\n",
    "From the learning curve, we can see that the bias-variance trade-off is good and we'll continue with this model\n",
    "</div>"
   ]
  },
  {
   "cell_type": "markdown",
   "metadata": {},
   "source": [
    "## Cross Validation"
   ]
  },
  {
   "cell_type": "code",
   "execution_count": null,
   "metadata": {},
   "outputs": [],
   "source": [
    "n_repeats = 5\n",
    "n_splits=5\n",
    "kf = RepeatedKFold(n_splits=n_splits, n_repeats=n_repeats, random_state=None) \n",
    "\n",
    "\n",
    "model_rf_re = RandomForestClassifier(random_state=5)\n",
    "auc_scores = []\n",
    "f1_scores = []\n",
    "\n",
    "i=1\n",
    "for train_index, test_index in kf.split(X):\n",
    "    \n",
    "    print(\"Iteration: \", i)\n",
    "    i+=1\n",
    "    X_train, X_test = X.iloc[train_index], X.iloc[test_index] \n",
    "    y_train, y_test = y.iloc[train_index], y.iloc[test_index]\n",
    "    # Fit the model to our resampled dataset\n",
    "    model_rf_re.fit(X_train, y_train)\n",
    "\n",
    "    # Obtain predictions from the test data \n",
    "    predicted = model_rf_re.predict(X_test)\n",
    "\n",
    "    # Predict probabilities\n",
    "    probs = model_rf_re.predict_proba(X_test)\n",
    "    auc_scores.append(roc_auc_score(y_test, probs[:,1]))\n",
    "    f1_scores.append(f1_score(y_test, predicted))"
   ]
  },
  {
   "cell_type": "code",
   "execution_count": null,
   "metadata": {},
   "outputs": [],
   "source": [
    "plt.plot(range(0,n_repeats*n_split,1), auc_scores, label='auc_scores')\n",
    "plt.plot(range(0,n_repeats*n_split,1), f1_scores, label='f1_scores')\n",
    "plt.ylim(0, 1)\n",
    "plt.title('AUC and F1 score in each iteration')\n",
    "plt.xlabel('Iteration')\n",
    "plt.ylabel('Score')\n",
    "plt.legend()\n",
    "plt.show()"
   ]
  },
  {
   "cell_type": "markdown",
   "metadata": {},
   "source": [
    "<div class=\"alert alert-success\">\n",
    "Thus, by the minimal fluctuation in F1-scores and AUC scores, we can confirm a lack of overfitting/underfitting\n",
    "</div>"
   ]
  },
  {
   "cell_type": "markdown",
   "metadata": {},
   "source": [
    "# Final Predicted Output"
   ]
  },
  {
   "cell_type": "code",
   "execution_count": null,
   "metadata": {},
   "outputs": [],
   "source": [
    "predicted_df = X_test.copy()\n",
    "predicted_df['predicted_fraud'] = predicted\n",
    "predicted_df['actual_fraud'] = y_test"
   ]
  },
  {
   "cell_type": "code",
   "execution_count": null,
   "metadata": {},
   "outputs": [],
   "source": [
    "# predicted_df.to_csv('data/predicted.csv')"
   ]
  },
  {
   "cell_type": "code",
   "execution_count": null,
   "metadata": {},
   "outputs": [],
   "source": [
    "predicted_df.head()"
   ]
  }
 ],
 "metadata": {
  "kernelspec": {
   "display_name": "Python 3",
   "language": "python",
   "name": "python3"
  },
  "language_info": {
   "codemirror_mode": {
    "name": "ipython",
    "version": 3
   },
   "file_extension": ".py",
   "mimetype": "text/x-python",
   "name": "python",
   "nbconvert_exporter": "python",
   "pygments_lexer": "ipython3",
   "version": "3.6.5"
  }
 },
 "nbformat": 4,
 "nbformat_minor": 2
}
