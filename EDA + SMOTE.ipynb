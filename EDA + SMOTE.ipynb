{
 "cells": [
  {
   "cell_type": "code",
   "execution_count": null,
   "metadata": {},
   "outputs": [],
   "source": [
    "#Code to install imbalanced-learn. Credits: Ernest\n",
    "\n",
    "# 1. Download imbalanced-learn from https://files.pythonhosted.org/packages/e5/4c/7557e1c2e791bd43878f8c82065bddc5798252084f26ef44527c02262af1/imbalanced_learn-0.4.3-py3-none-any.whl \n",
    "# 2. Add it to the part where we add datasets\n",
    "\n",
    "# import os, pandas as pd\n",
    "# print(os.environ['DSX_PROJECT_DIR']+'/datasets/imbalanced_learn-0.4.3-py3-none-any.whl')\n",
    "# !pip install --user '/user-home/1022/DSX_Projects/Naive Baes/datasets/imbalanced_learn-0.4.3-py3-none-any.whl'"
   ]
  },
  {
   "cell_type": "code",
   "execution_count": 2,
   "metadata": {},
   "outputs": [],
   "source": [
    "import os\n",
    "\n",
    "import pandas as pd\n",
    "import numpy as np\n",
    "import matplotlib.pyplot as plt\n",
    "from matplotlib import cm as cm\n",
    "\n",
    "from sklearn.linear_model import LogisticRegression\n",
    "from sklearn.model_selection import train_test_split, GridSearchCV\n",
    "from sklearn.metrics import classification_report, confusion_matrix, accuracy_score, roc_auc_score, average_precision_score\n",
    "from sklearn.metrics import precision_recall_curve, roc_curve, f1_score\n",
    "from sklearn.impute import SimpleImputer\n",
    "from sklearn.svm import SVC\n",
    "from sklearn.ensemble import RandomForestClassifier\n",
    "\n",
    "import seaborn as sns \n",
    "\n",
    "from imblearn.over_sampling import SMOTE"
   ]
  },
  {
   "cell_type": "code",
   "execution_count": null,
   "metadata": {},
   "outputs": [],
   "source": [
    "# #Code to import dataset\n",
    "# df = pd.read_csv(os.environ['DSX_PROJECT_DIR']+'/datasets/creditcard-training.csv')\n",
    "# df.head()"
   ]
  },
  {
   "cell_type": "code",
   "execution_count": 3,
   "metadata": {},
   "outputs": [],
   "source": [
    "df = pd.read_csv('data/creditcard-training.csv')"
   ]
  },
  {
   "cell_type": "markdown",
   "metadata": {},
   "source": [
    "# Data Exploration"
   ]
  },
  {
   "cell_type": "code",
   "execution_count": 4,
   "metadata": {},
   "outputs": [
    {
     "data": {
      "text/plain": [
       "(227844, 32)"
      ]
     },
     "execution_count": 4,
     "metadata": {},
     "output_type": "execute_result"
    }
   ],
   "source": [
    "#Get shape\n",
    "df.shape"
   ]
  },
  {
   "cell_type": "code",
   "execution_count": 5,
   "metadata": {},
   "outputs": [
    {
     "data": {
      "text/html": [
       "<div>\n",
       "<style scoped>\n",
       "    .dataframe tbody tr th:only-of-type {\n",
       "        vertical-align: middle;\n",
       "    }\n",
       "\n",
       "    .dataframe tbody tr th {\n",
       "        vertical-align: top;\n",
       "    }\n",
       "\n",
       "    .dataframe thead th {\n",
       "        text-align: right;\n",
       "    }\n",
       "</style>\n",
       "<table border=\"1\" class=\"dataframe\">\n",
       "  <thead>\n",
       "    <tr style=\"text-align: right;\">\n",
       "      <th></th>\n",
       "      <th>Seconds since reference time</th>\n",
       "      <th>Amount</th>\n",
       "      <th>Fraud? (1: Fraud, 0:  No Fraud)</th>\n",
       "      <th>Feature 1</th>\n",
       "      <th>Feature 2</th>\n",
       "      <th>Feature 3</th>\n",
       "      <th>Feature 4</th>\n",
       "      <th>Feature 5</th>\n",
       "      <th>Feature 6</th>\n",
       "      <th>Feature 7</th>\n",
       "      <th>...</th>\n",
       "      <th>Feature 20</th>\n",
       "      <th>Feature 21</th>\n",
       "      <th>Feature 22</th>\n",
       "      <th>Feature 23</th>\n",
       "      <th>Feature 24</th>\n",
       "      <th>Feature 25</th>\n",
       "      <th>Feature 26</th>\n",
       "      <th>Feature 27</th>\n",
       "      <th>Feature 28</th>\n",
       "      <th>Feature 29</th>\n",
       "    </tr>\n",
       "  </thead>\n",
       "  <tbody>\n",
       "    <tr>\n",
       "      <th>0</th>\n",
       "      <td>0</td>\n",
       "      <td>149.62</td>\n",
       "      <td>0</td>\n",
       "      <td>1.468177</td>\n",
       "      <td>-0.470401</td>\n",
       "      <td>0.207971</td>\n",
       "      <td>0.025791</td>\n",
       "      <td>0.403993</td>\n",
       "      <td>0.251412</td>\n",
       "      <td>-0.018307</td>\n",
       "      <td>...</td>\n",
       "      <td>0.462388</td>\n",
       "      <td>0.239599</td>\n",
       "      <td>0.098698</td>\n",
       "      <td>-6.399372</td>\n",
       "      <td>-0.311169</td>\n",
       "      <td>-0.991390</td>\n",
       "      <td>-0.617801</td>\n",
       "      <td>-0.551600</td>\n",
       "      <td>0.090794</td>\n",
       "      <td>0.363787</td>\n",
       "    </tr>\n",
       "    <tr>\n",
       "      <th>1</th>\n",
       "      <td>0</td>\n",
       "      <td>2.69</td>\n",
       "      <td>0</td>\n",
       "      <td>0.635558</td>\n",
       "      <td>0.463917</td>\n",
       "      <td>-0.114805</td>\n",
       "      <td>-0.183361</td>\n",
       "      <td>-0.145783</td>\n",
       "      <td>-0.069083</td>\n",
       "      <td>-0.225775</td>\n",
       "      <td>...</td>\n",
       "      <td>-0.082361</td>\n",
       "      <td>-0.078803</td>\n",
       "      <td>0.085102</td>\n",
       "      <td>13.786441</td>\n",
       "      <td>-0.143772</td>\n",
       "      <td>0.489095</td>\n",
       "      <td>1.065235</td>\n",
       "      <td>1.612727</td>\n",
       "      <td>-0.166974</td>\n",
       "      <td>-0.255425</td>\n",
       "    </tr>\n",
       "    <tr>\n",
       "      <th>2</th>\n",
       "      <td>1</td>\n",
       "      <td>378.66</td>\n",
       "      <td>0</td>\n",
       "      <td>2.345865</td>\n",
       "      <td>-2.890083</td>\n",
       "      <td>1.109969</td>\n",
       "      <td>-0.121359</td>\n",
       "      <td>-2.261857</td>\n",
       "      <td>0.524980</td>\n",
       "      <td>0.247998</td>\n",
       "      <td>...</td>\n",
       "      <td>1.800499</td>\n",
       "      <td>0.791461</td>\n",
       "      <td>0.247676</td>\n",
       "      <td>-10.515321</td>\n",
       "      <td>-0.165946</td>\n",
       "      <td>0.717293</td>\n",
       "      <td>0.066084</td>\n",
       "      <td>0.624501</td>\n",
       "      <td>0.207643</td>\n",
       "      <td>-1.514654</td>\n",
       "    </tr>\n",
       "    <tr>\n",
       "      <th>3</th>\n",
       "      <td>1</td>\n",
       "      <td>123.50</td>\n",
       "      <td>0</td>\n",
       "      <td>-0.631418</td>\n",
       "      <td>-1.059647</td>\n",
       "      <td>-0.684093</td>\n",
       "      <td>1.965775</td>\n",
       "      <td>-1.232622</td>\n",
       "      <td>-0.208038</td>\n",
       "      <td>-0.108300</td>\n",
       "      <td>...</td>\n",
       "      <td>1.247203</td>\n",
       "      <td>0.237609</td>\n",
       "      <td>0.377436</td>\n",
       "      <td>2.961038</td>\n",
       "      <td>-0.287924</td>\n",
       "      <td>0.507757</td>\n",
       "      <td>0.178228</td>\n",
       "      <td>-0.226487</td>\n",
       "      <td>-0.054952</td>\n",
       "      <td>-1.387024</td>\n",
       "    </tr>\n",
       "    <tr>\n",
       "      <th>4</th>\n",
       "      <td>2</td>\n",
       "      <td>69.99</td>\n",
       "      <td>0</td>\n",
       "      <td>0.175121</td>\n",
       "      <td>-0.451449</td>\n",
       "      <td>-0.237033</td>\n",
       "      <td>-0.038195</td>\n",
       "      <td>0.803487</td>\n",
       "      <td>0.408542</td>\n",
       "      <td>-0.009431</td>\n",
       "      <td>...</td>\n",
       "      <td>0.095921</td>\n",
       "      <td>0.592941</td>\n",
       "      <td>-0.270533</td>\n",
       "      <td>2.751346</td>\n",
       "      <td>-1.119670</td>\n",
       "      <td>1.345852</td>\n",
       "      <td>0.538196</td>\n",
       "      <td>-0.822843</td>\n",
       "      <td>0.753074</td>\n",
       "      <td>0.817739</td>\n",
       "    </tr>\n",
       "  </tbody>\n",
       "</table>\n",
       "<p>5 rows × 32 columns</p>\n",
       "</div>"
      ],
      "text/plain": [
       "   Seconds since reference time  Amount  Fraud? (1: Fraud, 0:  No Fraud)  \\\n",
       "0                             0  149.62                                0   \n",
       "1                             0    2.69                                0   \n",
       "2                             1  378.66                                0   \n",
       "3                             1  123.50                                0   \n",
       "4                             2   69.99                                0   \n",
       "\n",
       "   Feature 1  Feature 2  Feature 3  Feature 4  Feature 5  Feature 6  \\\n",
       "0   1.468177  -0.470401   0.207971   0.025791   0.403993   0.251412   \n",
       "1   0.635558   0.463917  -0.114805  -0.183361  -0.145783  -0.069083   \n",
       "2   2.345865  -2.890083   1.109969  -0.121359  -2.261857   0.524980   \n",
       "3  -0.631418  -1.059647  -0.684093   1.965775  -1.232622  -0.208038   \n",
       "4   0.175121  -0.451449  -0.237033  -0.038195   0.803487   0.408542   \n",
       "\n",
       "   Feature 7     ...      Feature 20  Feature 21  Feature 22  Feature 23  \\\n",
       "0  -0.018307     ...        0.462388    0.239599    0.098698   -6.399372   \n",
       "1  -0.225775     ...       -0.082361   -0.078803    0.085102   13.786441   \n",
       "2   0.247998     ...        1.800499    0.791461    0.247676  -10.515321   \n",
       "3  -0.108300     ...        1.247203    0.237609    0.377436    2.961038   \n",
       "4  -0.009431     ...        0.095921    0.592941   -0.270533    2.751346   \n",
       "\n",
       "   Feature 24  Feature 25  Feature 26  Feature 27  Feature 28  Feature 29  \n",
       "0   -0.311169   -0.991390   -0.617801   -0.551600    0.090794    0.363787  \n",
       "1   -0.143772    0.489095    1.065235    1.612727   -0.166974   -0.255425  \n",
       "2   -0.165946    0.717293    0.066084    0.624501    0.207643   -1.514654  \n",
       "3   -0.287924    0.507757    0.178228   -0.226487   -0.054952   -1.387024  \n",
       "4   -1.119670    1.345852    0.538196   -0.822843    0.753074    0.817739  \n",
       "\n",
       "[5 rows x 32 columns]"
      ]
     },
     "execution_count": 5,
     "metadata": {},
     "output_type": "execute_result"
    }
   ],
   "source": [
    "#Print head\n",
    "df.head()"
   ]
  },
  {
   "cell_type": "code",
   "execution_count": 6,
   "metadata": {},
   "outputs": [
    {
     "data": {
      "text/html": [
       "<div>\n",
       "<style scoped>\n",
       "    .dataframe tbody tr th:only-of-type {\n",
       "        vertical-align: middle;\n",
       "    }\n",
       "\n",
       "    .dataframe tbody tr th {\n",
       "        vertical-align: top;\n",
       "    }\n",
       "\n",
       "    .dataframe thead th {\n",
       "        text-align: right;\n",
       "    }\n",
       "</style>\n",
       "<table border=\"1\" class=\"dataframe\">\n",
       "  <thead>\n",
       "    <tr style=\"text-align: right;\">\n",
       "      <th></th>\n",
       "      <th>Seconds since reference time</th>\n",
       "      <th>Amount</th>\n",
       "      <th>Fraud? (1: Fraud, 0:  No Fraud)</th>\n",
       "      <th>Feature 1</th>\n",
       "      <th>Feature 2</th>\n",
       "      <th>Feature 3</th>\n",
       "      <th>Feature 4</th>\n",
       "      <th>Feature 5</th>\n",
       "      <th>Feature 6</th>\n",
       "      <th>Feature 7</th>\n",
       "      <th>...</th>\n",
       "      <th>Feature 20</th>\n",
       "      <th>Feature 21</th>\n",
       "      <th>Feature 22</th>\n",
       "      <th>Feature 23</th>\n",
       "      <th>Feature 24</th>\n",
       "      <th>Feature 25</th>\n",
       "      <th>Feature 26</th>\n",
       "      <th>Feature 27</th>\n",
       "      <th>Feature 28</th>\n",
       "      <th>Feature 29</th>\n",
       "    </tr>\n",
       "  </thead>\n",
       "  <tbody>\n",
       "    <tr>\n",
       "      <th>10</th>\n",
       "      <td>10</td>\n",
       "      <td>7.80</td>\n",
       "      <td>0</td>\n",
       "      <td>0.230930</td>\n",
       "      <td>0.031967</td>\n",
       "      <td>0.253415</td>\n",
       "      <td>0.854344</td>\n",
       "      <td>NaN</td>\n",
       "      <td>-0.387226</td>\n",
       "      <td>-0.009302</td>\n",
       "      <td>...</td>\n",
       "      <td>-0.629152</td>\n",
       "      <td>-1.423236</td>\n",
       "      <td>0.048456</td>\n",
       "      <td>-13.640428</td>\n",
       "      <td>-0.095045</td>\n",
       "      <td>-0.513947</td>\n",
       "      <td>-0.671440</td>\n",
       "      <td>1.199644</td>\n",
       "      <td>1.626659</td>\n",
       "      <td>-1.720408</td>\n",
       "    </tr>\n",
       "    <tr>\n",
       "      <th>16</th>\n",
       "      <td>12</td>\n",
       "      <td>12.99</td>\n",
       "      <td>0</td>\n",
       "      <td>0.354574</td>\n",
       "      <td>-0.246635</td>\n",
       "      <td>-0.009212</td>\n",
       "      <td>-0.595912</td>\n",
       "      <td>-0.575682</td>\n",
       "      <td>NaN</td>\n",
       "      <td>-0.024612</td>\n",
       "      <td>...</td>\n",
       "      <td>0.288069</td>\n",
       "      <td>-0.586057</td>\n",
       "      <td>0.189380</td>\n",
       "      <td>8.579468</td>\n",
       "      <td>-0.468647</td>\n",
       "      <td>0.708380</td>\n",
       "      <td>0.936708</td>\n",
       "      <td>-0.450311</td>\n",
       "      <td>-0.267975</td>\n",
       "      <td>0.782333</td>\n",
       "    </tr>\n",
       "    <tr>\n",
       "      <th>25</th>\n",
       "      <td>22</td>\n",
       "      <td>26.43</td>\n",
       "      <td>0</td>\n",
       "      <td>-0.211668</td>\n",
       "      <td>-0.333321</td>\n",
       "      <td>0.010751</td>\n",
       "      <td>-0.488473</td>\n",
       "      <td>0.505751</td>\n",
       "      <td>NaN</td>\n",
       "      <td>-0.403639</td>\n",
       "      <td>...</td>\n",
       "      <td>-0.959537</td>\n",
       "      <td>0.543985</td>\n",
       "      <td>-0.104627</td>\n",
       "      <td>-10.985595</td>\n",
       "      <td>-0.279797</td>\n",
       "      <td>-0.655233</td>\n",
       "      <td>-0.180523</td>\n",
       "      <td>-0.856566</td>\n",
       "      <td>0.149451</td>\n",
       "      <td>0.475664</td>\n",
       "    </tr>\n",
       "    <tr>\n",
       "      <th>28</th>\n",
       "      <td>23</td>\n",
       "      <td>33.00</td>\n",
       "      <td>0</td>\n",
       "      <td>0.076804</td>\n",
       "      <td>-1.405919</td>\n",
       "      <td>0.775592</td>\n",
       "      <td>-0.942889</td>\n",
       "      <td>NaN</td>\n",
       "      <td>0.097308</td>\n",
       "      <td>0.077237</td>\n",
       "      <td>...</td>\n",
       "      <td>-0.200331</td>\n",
       "      <td>0.740228</td>\n",
       "      <td>-0.029247</td>\n",
       "      <td>-5.123601</td>\n",
       "      <td>-0.086324</td>\n",
       "      <td>0.635954</td>\n",
       "      <td>0.786796</td>\n",
       "      <td>-0.012142</td>\n",
       "      <td>-0.346188</td>\n",
       "      <td>-0.593392</td>\n",
       "    </tr>\n",
       "    <tr>\n",
       "      <th>42</th>\n",
       "      <td>33</td>\n",
       "      <td>14.80</td>\n",
       "      <td>0</td>\n",
       "      <td>0.235545</td>\n",
       "      <td>-1.347811</td>\n",
       "      <td>0.504648</td>\n",
       "      <td>-0.798405</td>\n",
       "      <td>0.759710</td>\n",
       "      <td>NaN</td>\n",
       "      <td>-0.087329</td>\n",
       "      <td>...</td>\n",
       "      <td>0.119168</td>\n",
       "      <td>0.850893</td>\n",
       "      <td>-0.176267</td>\n",
       "      <td>5.560997</td>\n",
       "      <td>-0.365439</td>\n",
       "      <td>0.481917</td>\n",
       "      <td>0.398299</td>\n",
       "      <td>-0.387003</td>\n",
       "      <td>0.148455</td>\n",
       "      <td>-0.243501</td>\n",
       "    </tr>\n",
       "  </tbody>\n",
       "</table>\n",
       "<p>5 rows × 32 columns</p>\n",
       "</div>"
      ],
      "text/plain": [
       "    Seconds since reference time  Amount  Fraud? (1: Fraud, 0:  No Fraud)  \\\n",
       "10                            10    7.80                                0   \n",
       "16                            12   12.99                                0   \n",
       "25                            22   26.43                                0   \n",
       "28                            23   33.00                                0   \n",
       "42                            33   14.80                                0   \n",
       "\n",
       "    Feature 1  Feature 2  Feature 3  Feature 4  Feature 5  Feature 6  \\\n",
       "10   0.230930   0.031967   0.253415   0.854344        NaN  -0.387226   \n",
       "16   0.354574  -0.246635  -0.009212  -0.595912  -0.575682        NaN   \n",
       "25  -0.211668  -0.333321   0.010751  -0.488473   0.505751        NaN   \n",
       "28   0.076804  -1.405919   0.775592  -0.942889        NaN   0.097308   \n",
       "42   0.235545  -1.347811   0.504648  -0.798405   0.759710        NaN   \n",
       "\n",
       "    Feature 7     ...      Feature 20  Feature 21  Feature 22  Feature 23  \\\n",
       "10  -0.009302     ...       -0.629152   -1.423236    0.048456  -13.640428   \n",
       "16  -0.024612     ...        0.288069   -0.586057    0.189380    8.579468   \n",
       "25  -0.403639     ...       -0.959537    0.543985   -0.104627  -10.985595   \n",
       "28   0.077237     ...       -0.200331    0.740228   -0.029247   -5.123601   \n",
       "42  -0.087329     ...        0.119168    0.850893   -0.176267    5.560997   \n",
       "\n",
       "    Feature 24  Feature 25  Feature 26  Feature 27  Feature 28  Feature 29  \n",
       "10   -0.095045   -0.513947   -0.671440    1.199644    1.626659   -1.720408  \n",
       "16   -0.468647    0.708380    0.936708   -0.450311   -0.267975    0.782333  \n",
       "25   -0.279797   -0.655233   -0.180523   -0.856566    0.149451    0.475664  \n",
       "28   -0.086324    0.635954    0.786796   -0.012142   -0.346188   -0.593392  \n",
       "42   -0.365439    0.481917    0.398299   -0.387003    0.148455   -0.243501  \n",
       "\n",
       "[5 rows x 32 columns]"
      ]
     },
     "execution_count": 6,
     "metadata": {},
     "output_type": "execute_result"
    }
   ],
   "source": [
    "#Get NAs \n",
    "df[df.isnull().any(axis=1)].head()"
   ]
  },
  {
   "cell_type": "markdown",
   "metadata": {},
   "source": [
    "There are missing values so we will use Sklearn Imputer to impute"
   ]
  },
  {
   "cell_type": "markdown",
   "metadata": {},
   "source": [
    "## Handle Missing Values"
   ]
  },
  {
   "cell_type": "code",
   "execution_count": 7,
   "metadata": {},
   "outputs": [
    {
     "data": {
      "text/html": [
       "<div>\n",
       "<style scoped>\n",
       "    .dataframe tbody tr th:only-of-type {\n",
       "        vertical-align: middle;\n",
       "    }\n",
       "\n",
       "    .dataframe tbody tr th {\n",
       "        vertical-align: top;\n",
       "    }\n",
       "\n",
       "    .dataframe thead th {\n",
       "        text-align: right;\n",
       "    }\n",
       "</style>\n",
       "<table border=\"1\" class=\"dataframe\">\n",
       "  <thead>\n",
       "    <tr style=\"text-align: right;\">\n",
       "      <th></th>\n",
       "      <th>Seconds since reference time</th>\n",
       "      <th>Amount</th>\n",
       "      <th>Fraud? (1: Fraud, 0:  No Fraud)</th>\n",
       "      <th>Feature 1</th>\n",
       "      <th>Feature 2</th>\n",
       "      <th>Feature 3</th>\n",
       "      <th>Feature 4</th>\n",
       "      <th>Feature 5</th>\n",
       "      <th>Feature 6</th>\n",
       "      <th>Feature 7</th>\n",
       "      <th>...</th>\n",
       "      <th>Feature 20</th>\n",
       "      <th>Feature 21</th>\n",
       "      <th>Feature 22</th>\n",
       "      <th>Feature 23</th>\n",
       "      <th>Feature 24</th>\n",
       "      <th>Feature 25</th>\n",
       "      <th>Feature 26</th>\n",
       "      <th>Feature 27</th>\n",
       "      <th>Feature 28</th>\n",
       "      <th>Feature 29</th>\n",
       "    </tr>\n",
       "  </thead>\n",
       "  <tbody>\n",
       "  </tbody>\n",
       "</table>\n",
       "<p>0 rows × 32 columns</p>\n",
       "</div>"
      ],
      "text/plain": [
       "Empty DataFrame\n",
       "Columns: [Seconds since reference time, Amount, Fraud? (1: Fraud, 0:  No Fraud), Feature 1, Feature 2, Feature 3, Feature 4, Feature 5, Feature 6, Feature 7, Feature 8, Feature 9, Feature 10, Feature 11, Feature 12, Feature 13, Feature 14, Feature 15, Feature 16, Feature 17, Feature 18, Feature 19, Feature 20, Feature 21, Feature 22, Feature 23, Feature 24, Feature 25, Feature 26, Feature 27, Feature 28, Feature 29]\n",
       "Index: []\n",
       "\n",
       "[0 rows x 32 columns]"
      ]
     },
     "execution_count": 7,
     "metadata": {},
     "output_type": "execute_result"
    }
   ],
   "source": [
    "#Use sklearn Impute to impute missing values\n",
    "features = df.values\n",
    "imp = SimpleImputer(missing_values = np.nan, strategy='mean')\n",
    "\n",
    "#Only feature 5 and feature 6 have NaN\n",
    "features[:,[7,8]] = imp.fit_transform(features[:,[7,8]])\n",
    "\n",
    "df1 = pd.DataFrame(features)\n",
    "df1.columns = df.columns\n",
    "df = df1\n",
    "df[df.isnull().any(axis=1)]"
   ]
  },
  {
   "cell_type": "code",
   "execution_count": 8,
   "metadata": {},
   "outputs": [
    {
     "data": {
      "text/html": [
       "<div>\n",
       "<style scoped>\n",
       "    .dataframe tbody tr th:only-of-type {\n",
       "        vertical-align: middle;\n",
       "    }\n",
       "\n",
       "    .dataframe tbody tr th {\n",
       "        vertical-align: top;\n",
       "    }\n",
       "\n",
       "    .dataframe thead th {\n",
       "        text-align: right;\n",
       "    }\n",
       "</style>\n",
       "<table border=\"1\" class=\"dataframe\">\n",
       "  <thead>\n",
       "    <tr style=\"text-align: right;\">\n",
       "      <th></th>\n",
       "      <th>Seconds since reference time</th>\n",
       "      <th>Amount</th>\n",
       "      <th>Fraud</th>\n",
       "      <th>Feature 1</th>\n",
       "      <th>Feature 2</th>\n",
       "      <th>Feature 3</th>\n",
       "      <th>Feature 4</th>\n",
       "      <th>Feature 5</th>\n",
       "      <th>Feature 6</th>\n",
       "      <th>Feature 7</th>\n",
       "      <th>...</th>\n",
       "      <th>Feature 20</th>\n",
       "      <th>Feature 21</th>\n",
       "      <th>Feature 22</th>\n",
       "      <th>Feature 23</th>\n",
       "      <th>Feature 24</th>\n",
       "      <th>Feature 25</th>\n",
       "      <th>Feature 26</th>\n",
       "      <th>Feature 27</th>\n",
       "      <th>Feature 28</th>\n",
       "      <th>Feature 29</th>\n",
       "    </tr>\n",
       "  </thead>\n",
       "  <tbody>\n",
       "    <tr>\n",
       "      <th>0</th>\n",
       "      <td>0.0</td>\n",
       "      <td>149.62</td>\n",
       "      <td>0.0</td>\n",
       "      <td>1.468177</td>\n",
       "      <td>-0.470401</td>\n",
       "      <td>0.207971</td>\n",
       "      <td>0.025791</td>\n",
       "      <td>0.403993</td>\n",
       "      <td>0.251412</td>\n",
       "      <td>-0.018307</td>\n",
       "      <td>...</td>\n",
       "      <td>0.462388</td>\n",
       "      <td>0.239599</td>\n",
       "      <td>0.098698</td>\n",
       "      <td>-6.399372</td>\n",
       "      <td>-0.311169</td>\n",
       "      <td>-0.991390</td>\n",
       "      <td>-0.617801</td>\n",
       "      <td>-0.551600</td>\n",
       "      <td>0.090794</td>\n",
       "      <td>0.363787</td>\n",
       "    </tr>\n",
       "    <tr>\n",
       "      <th>1</th>\n",
       "      <td>0.0</td>\n",
       "      <td>2.69</td>\n",
       "      <td>0.0</td>\n",
       "      <td>0.635558</td>\n",
       "      <td>0.463917</td>\n",
       "      <td>-0.114805</td>\n",
       "      <td>-0.183361</td>\n",
       "      <td>-0.145783</td>\n",
       "      <td>-0.069083</td>\n",
       "      <td>-0.225775</td>\n",
       "      <td>...</td>\n",
       "      <td>-0.082361</td>\n",
       "      <td>-0.078803</td>\n",
       "      <td>0.085102</td>\n",
       "      <td>13.786441</td>\n",
       "      <td>-0.143772</td>\n",
       "      <td>0.489095</td>\n",
       "      <td>1.065235</td>\n",
       "      <td>1.612727</td>\n",
       "      <td>-0.166974</td>\n",
       "      <td>-0.255425</td>\n",
       "    </tr>\n",
       "    <tr>\n",
       "      <th>2</th>\n",
       "      <td>1.0</td>\n",
       "      <td>378.66</td>\n",
       "      <td>0.0</td>\n",
       "      <td>2.345865</td>\n",
       "      <td>-2.890083</td>\n",
       "      <td>1.109969</td>\n",
       "      <td>-0.121359</td>\n",
       "      <td>-2.261857</td>\n",
       "      <td>0.524980</td>\n",
       "      <td>0.247998</td>\n",
       "      <td>...</td>\n",
       "      <td>1.800499</td>\n",
       "      <td>0.791461</td>\n",
       "      <td>0.247676</td>\n",
       "      <td>-10.515321</td>\n",
       "      <td>-0.165946</td>\n",
       "      <td>0.717293</td>\n",
       "      <td>0.066084</td>\n",
       "      <td>0.624501</td>\n",
       "      <td>0.207643</td>\n",
       "      <td>-1.514654</td>\n",
       "    </tr>\n",
       "    <tr>\n",
       "      <th>3</th>\n",
       "      <td>1.0</td>\n",
       "      <td>123.50</td>\n",
       "      <td>0.0</td>\n",
       "      <td>-0.631418</td>\n",
       "      <td>-1.059647</td>\n",
       "      <td>-0.684093</td>\n",
       "      <td>1.965775</td>\n",
       "      <td>-1.232622</td>\n",
       "      <td>-0.208038</td>\n",
       "      <td>-0.108300</td>\n",
       "      <td>...</td>\n",
       "      <td>1.247203</td>\n",
       "      <td>0.237609</td>\n",
       "      <td>0.377436</td>\n",
       "      <td>2.961038</td>\n",
       "      <td>-0.287924</td>\n",
       "      <td>0.507757</td>\n",
       "      <td>0.178228</td>\n",
       "      <td>-0.226487</td>\n",
       "      <td>-0.054952</td>\n",
       "      <td>-1.387024</td>\n",
       "    </tr>\n",
       "    <tr>\n",
       "      <th>4</th>\n",
       "      <td>2.0</td>\n",
       "      <td>69.99</td>\n",
       "      <td>0.0</td>\n",
       "      <td>0.175121</td>\n",
       "      <td>-0.451449</td>\n",
       "      <td>-0.237033</td>\n",
       "      <td>-0.038195</td>\n",
       "      <td>0.803487</td>\n",
       "      <td>0.408542</td>\n",
       "      <td>-0.009431</td>\n",
       "      <td>...</td>\n",
       "      <td>0.095921</td>\n",
       "      <td>0.592941</td>\n",
       "      <td>-0.270533</td>\n",
       "      <td>2.751346</td>\n",
       "      <td>-1.119670</td>\n",
       "      <td>1.345852</td>\n",
       "      <td>0.538196</td>\n",
       "      <td>-0.822843</td>\n",
       "      <td>0.753074</td>\n",
       "      <td>0.817739</td>\n",
       "    </tr>\n",
       "  </tbody>\n",
       "</table>\n",
       "<p>5 rows × 32 columns</p>\n",
       "</div>"
      ],
      "text/plain": [
       "   Seconds since reference time  Amount  Fraud  Feature 1  Feature 2  \\\n",
       "0                           0.0  149.62    0.0   1.468177  -0.470401   \n",
       "1                           0.0    2.69    0.0   0.635558   0.463917   \n",
       "2                           1.0  378.66    0.0   2.345865  -2.890083   \n",
       "3                           1.0  123.50    0.0  -0.631418  -1.059647   \n",
       "4                           2.0   69.99    0.0   0.175121  -0.451449   \n",
       "\n",
       "   Feature 3  Feature 4  Feature 5  Feature 6  Feature 7     ...      \\\n",
       "0   0.207971   0.025791   0.403993   0.251412  -0.018307     ...       \n",
       "1  -0.114805  -0.183361  -0.145783  -0.069083  -0.225775     ...       \n",
       "2   1.109969  -0.121359  -2.261857   0.524980   0.247998     ...       \n",
       "3  -0.684093   1.965775  -1.232622  -0.208038  -0.108300     ...       \n",
       "4  -0.237033  -0.038195   0.803487   0.408542  -0.009431     ...       \n",
       "\n",
       "   Feature 20  Feature 21  Feature 22  Feature 23  Feature 24  Feature 25  \\\n",
       "0    0.462388    0.239599    0.098698   -6.399372   -0.311169   -0.991390   \n",
       "1   -0.082361   -0.078803    0.085102   13.786441   -0.143772    0.489095   \n",
       "2    1.800499    0.791461    0.247676  -10.515321   -0.165946    0.717293   \n",
       "3    1.247203    0.237609    0.377436    2.961038   -0.287924    0.507757   \n",
       "4    0.095921    0.592941   -0.270533    2.751346   -1.119670    1.345852   \n",
       "\n",
       "   Feature 26  Feature 27  Feature 28  Feature 29  \n",
       "0   -0.617801   -0.551600    0.090794    0.363787  \n",
       "1    1.065235    1.612727   -0.166974   -0.255425  \n",
       "2    0.066084    0.624501    0.207643   -1.514654  \n",
       "3    0.178228   -0.226487   -0.054952   -1.387024  \n",
       "4    0.538196   -0.822843    0.753074    0.817739  \n",
       "\n",
       "[5 rows x 32 columns]"
      ]
     },
     "execution_count": 8,
     "metadata": {},
     "output_type": "execute_result"
    }
   ],
   "source": [
    "#Rename the fraud column\n",
    "df = df.rename( {'Fraud? (1: Fraud, 0:  No Fraud)' : 'Fraud'}, axis=1)\n",
    "df.head()"
   ]
  },
  {
   "cell_type": "code",
   "execution_count": 9,
   "metadata": {},
   "outputs": [
    {
     "data": {
      "text/html": [
       "<div>\n",
       "<style scoped>\n",
       "    .dataframe tbody tr th:only-of-type {\n",
       "        vertical-align: middle;\n",
       "    }\n",
       "\n",
       "    .dataframe tbody tr th {\n",
       "        vertical-align: top;\n",
       "    }\n",
       "\n",
       "    .dataframe thead th {\n",
       "        text-align: right;\n",
       "    }\n",
       "</style>\n",
       "<table border=\"1\" class=\"dataframe\">\n",
       "  <thead>\n",
       "    <tr style=\"text-align: right;\">\n",
       "      <th></th>\n",
       "      <th>Seconds since reference time</th>\n",
       "      <th>Amount</th>\n",
       "      <th>Feature 1</th>\n",
       "      <th>Feature 2</th>\n",
       "      <th>Feature 3</th>\n",
       "      <th>Feature 4</th>\n",
       "      <th>Feature 5</th>\n",
       "      <th>Feature 6</th>\n",
       "      <th>Feature 7</th>\n",
       "      <th>Feature 8</th>\n",
       "      <th>...</th>\n",
       "      <th>Feature 20</th>\n",
       "      <th>Feature 21</th>\n",
       "      <th>Feature 22</th>\n",
       "      <th>Feature 23</th>\n",
       "      <th>Feature 24</th>\n",
       "      <th>Feature 25</th>\n",
       "      <th>Feature 26</th>\n",
       "      <th>Feature 27</th>\n",
       "      <th>Feature 28</th>\n",
       "      <th>Feature 29</th>\n",
       "    </tr>\n",
       "    <tr>\n",
       "      <th>Fraud</th>\n",
       "      <th></th>\n",
       "      <th></th>\n",
       "      <th></th>\n",
       "      <th></th>\n",
       "      <th></th>\n",
       "      <th></th>\n",
       "      <th></th>\n",
       "      <th></th>\n",
       "      <th></th>\n",
       "      <th></th>\n",
       "      <th></th>\n",
       "      <th></th>\n",
       "      <th></th>\n",
       "      <th></th>\n",
       "      <th></th>\n",
       "      <th></th>\n",
       "      <th></th>\n",
       "      <th></th>\n",
       "      <th></th>\n",
       "      <th></th>\n",
       "      <th></th>\n",
       "    </tr>\n",
       "  </thead>\n",
       "  <tbody>\n",
       "    <tr>\n",
       "      <th>0.0</th>\n",
       "      <td>79064.020002</td>\n",
       "      <td>90.761453</td>\n",
       "      <td>0.049387</td>\n",
       "      <td>0.002841</td>\n",
       "      <td>0.028799</td>\n",
       "      <td>-0.018164</td>\n",
       "      <td>-0.008677</td>\n",
       "      <td>0.009279</td>\n",
       "      <td>-0.007071</td>\n",
       "      <td>-0.022976</td>\n",
       "      <td>...</td>\n",
       "      <td>0.033086</td>\n",
       "      <td>-0.015406</td>\n",
       "      <td>0.002776</td>\n",
       "      <td>0.026436</td>\n",
       "      <td>0.045807</td>\n",
       "      <td>0.016831</td>\n",
       "      <td>-0.032826</td>\n",
       "      <td>0.068994</td>\n",
       "      <td>0.009538</td>\n",
       "      <td>0.007167</td>\n",
       "    </tr>\n",
       "    <tr>\n",
       "      <th>1.0</th>\n",
       "      <td>67308.333333</td>\n",
       "      <td>125.656379</td>\n",
       "      <td>-0.098209</td>\n",
       "      <td>-4.559229</td>\n",
       "      <td>-7.423533</td>\n",
       "      <td>-2.589217</td>\n",
       "      <td>0.761240</td>\n",
       "      <td>0.371774</td>\n",
       "      <td>0.765659</td>\n",
       "      <td>0.013088</td>\n",
       "      <td>...</td>\n",
       "      <td>-1.357987</td>\n",
       "      <td>-6.264641</td>\n",
       "      <td>0.663762</td>\n",
       "      <td>0.613894</td>\n",
       "      <td>-7.024019</td>\n",
       "      <td>-0.048627</td>\n",
       "      <td>-6.685076</td>\n",
       "      <td>4.046820</td>\n",
       "      <td>-6.135121</td>\n",
       "      <td>-2.696376</td>\n",
       "    </tr>\n",
       "  </tbody>\n",
       "</table>\n",
       "<p>2 rows × 31 columns</p>\n",
       "</div>"
      ],
      "text/plain": [
       "       Seconds since reference time      Amount  Feature 1  Feature 2  \\\n",
       "Fraud                                                                   \n",
       "0.0                    79064.020002   90.761453   0.049387   0.002841   \n",
       "1.0                    67308.333333  125.656379  -0.098209  -4.559229   \n",
       "\n",
       "       Feature 3  Feature 4  Feature 5  Feature 6  Feature 7  Feature 8  \\\n",
       "Fraud                                                                     \n",
       "0.0     0.028799  -0.018164  -0.008677   0.009279  -0.007071  -0.022976   \n",
       "1.0    -7.423533  -2.589217   0.761240   0.371774   0.765659   0.013088   \n",
       "\n",
       "          ...      Feature 20  Feature 21  Feature 22  Feature 23  Feature 24  \\\n",
       "Fraud     ...                                                                   \n",
       "0.0       ...        0.033086   -0.015406    0.002776    0.026436    0.045807   \n",
       "1.0       ...       -1.357987   -6.264641    0.663762    0.613894   -7.024019   \n",
       "\n",
       "       Feature 25  Feature 26  Feature 27  Feature 28  Feature 29  \n",
       "Fraud                                                              \n",
       "0.0      0.016831   -0.032826    0.068994    0.009538    0.007167  \n",
       "1.0     -0.048627   -6.685076    4.046820   -6.135121   -2.696376  \n",
       "\n",
       "[2 rows x 31 columns]"
      ]
     },
     "execution_count": 9,
     "metadata": {},
     "output_type": "execute_result"
    }
   ],
   "source": [
    "#Get difference in means between Fraud and not-fraud\n",
    "df.groupby('Fraud').mean()"
   ]
  },
  {
   "cell_type": "markdown",
   "metadata": {},
   "source": [
    "## Feature Selection"
   ]
  },
  {
   "cell_type": "code",
   "execution_count": 10,
   "metadata": {},
   "outputs": [
    {
     "data": {
      "text/plain": [
       "(909, 32)"
      ]
     },
     "execution_count": 10,
     "metadata": {},
     "output_type": "execute_result"
    }
   ],
   "source": [
    "# Create subsample\n",
    "\n",
    "df = df.sample(frac=1)\n",
    "\n",
    "# amount of fraud classes 492 rows.\n",
    "fraud_df = df.loc[df['Fraud'] == 1]\n",
    "non_fraud_df = df.loc[df['Fraud'] == 0][:492]\n",
    "\n",
    "normal_distributed_df = pd.concat([fraud_df, non_fraud_df])\n",
    "\n",
    "# Shuffle dataframe rows\n",
    "df_sample = normal_distributed_df.sample(frac=1, random_state=42)\n",
    "\n",
    "df_sample.shape"
   ]
  },
  {
   "cell_type": "markdown",
   "metadata": {},
   "source": [
    "### Correlation Matrix"
   ]
  },
  {
   "cell_type": "code",
   "execution_count": 11,
   "metadata": {},
   "outputs": [
    {
     "data": {
      "image/png": "[encoded data removed]",
      "text/plain": [
       "<matplotlib.figure.Figure at 0x1782ddcc9b0>"
      ]
     },
     "metadata": {},
     "output_type": "display_data"
    }
   ],
   "source": [
    "f, ax1 = plt.subplots(1, 1, figsize=(24,20))\n",
    "\n",
    "sub_sample_corr = df_sample.corr()\n",
    "sns.heatmap(sub_sample_corr, cmap='coolwarm_r', annot_kws={'size':20}, ax=ax1)\n",
    "ax1.set_title('SubSample Correlation Matrix', fontsize=14)\n",
    "plt.show()"
   ]
  },
  {
   "cell_type": "markdown",
   "metadata": {},
   "source": [
    "<b>Negative Correlations</b>: Features (7 and 8), (15 and 16), (16 and 17), (16 and 21), (24 and 27), (26 and 27) are negatively correlated. <br/>\n",
    "<b>Positive Correlations</b>:Features (2,3, and 4), (2 and 26), (15 and 21) are positively correlated. Notice how the higher these values are, the more likely the end result will be a fraud transaction."
   ]
  },
  {
   "cell_type": "markdown",
   "metadata": {},
   "source": [
    "There are quite a few variables with a huge difference between the fraudulent and non-fraudulent data "
   ]
  },
  {
   "cell_type": "code",
   "execution_count": 12,
   "metadata": {},
   "outputs": [
    {
     "name": "stdout",
     "output_type": "stream",
     "text": [
      "Fraud rows:  417\n",
      "Total rows:  227844\n",
      "Percentage rows:  0.0018301996102596514\n"
     ]
    }
   ],
   "source": [
    "#Get number of fraud and not fraud values\n",
    "fraud_rows = df['Fraud'].value_counts()\n",
    "total_rows = df.shape[0]\n",
    "percentage_fraud = fraud_rows[1]/total_rows\n",
    "\n",
    "print(\"Fraud rows: \", fraud_rows[1])\n",
    "print(\"Total rows: \", total_rows)\n",
    "print(\"Percentage rows: \", percentage_fraud)"
   ]
  },
  {
   "cell_type": "markdown",
   "metadata": {},
   "source": [
    "<div class=\"alert alert-danger\">\n",
    "Since the dataset is quite imbalanced (fraud vs non-fraud), we will be using <b>SMOTE</b> to create some synthetic observations \n",
    "</div>"
   ]
  },
  {
   "cell_type": "code",
   "execution_count": 13,
   "metadata": {},
   "outputs": [],
   "source": [
    "#Function to plot data. Will be used later\n",
    "def plot_data(X, y):\n",
    "    plt.scatter(X[y == 0, 0], X[y == 0, 1], label=\"Class #0\", alpha=0.5, linewidth=0.15)\n",
    "    plt.scatter(X[y == 1, 0], X[y == 1, 1], label=\"Class #1\", alpha=0.5, linewidth=0.15, c='r')\n",
    "    plt.legend()\n",
    "    return plt.show()"
   ]
  },
  {
   "cell_type": "code",
   "execution_count": 14,
   "metadata": {},
   "outputs": [
    {
     "name": "stderr",
     "output_type": "stream",
     "text": [
      "C:\\Users\\smart\\AppData\\Local\\Continuum\\anaconda3\\lib\\site-packages\\sklearn\\model_selection\\_split.py:2179: FutureWarning: From version 0.21, test_size will always complement train_size unless both are specified.\n",
      "  FutureWarning)\n"
     ]
    }
   ],
   "source": [
    "#We will be using SMOTE only on the training dataset. Thus, we need to split now\n",
    "y = df['Fraud']\n",
    "X = df.drop('Fraud', axis=1)\n",
    "X_train, X_test, y_train, y_test = train_test_split(X, y, train_size=0.7, random_state=0)"
   ]
  },
  {
   "cell_type": "markdown",
   "metadata": {},
   "source": [
    "# Data Resampling"
   ]
  },
  {
   "cell_type": "code",
   "execution_count": 15,
   "metadata": {},
   "outputs": [],
   "source": [
    "method = SMOTE(kind='regular')\n",
    "\n",
    "# Apply resampling to the training data only\n",
    "X_resampled, y_resampled = method.fit_sample(X_train, y_train)"
   ]
  },
  {
   "cell_type": "code",
   "execution_count": 16,
   "metadata": {},
   "outputs": [
    {
     "data": {
      "image/png": "[encoded data removed]",
      "text/plain": [
       "<matplotlib.figure.Figure at 0x1782de48f98>"
      ]
     },
     "metadata": {},
     "output_type": "display_data"
    },
    {
     "data": {
      "text/plain": [
       "numpy.ndarray"
      ]
     },
     "execution_count": 16,
     "metadata": {},
     "output_type": "execute_result"
    }
   ],
   "source": [
    "plot_data(X_resampled, y_resampled)\n",
    "type(X_resampled)"
   ]
  },
  {
   "cell_type": "code",
   "execution_count": 17,
   "metadata": {},
   "outputs": [
    {
     "name": "stdout",
     "output_type": "stream",
     "text": [
      "Before resampling\n",
      "0.0    227427\n",
      "1.0       417\n",
      "Name: Fraud, dtype: int64\n",
      "After resampling\n",
      "1.0    159199\n",
      "0.0    159199\n",
      "dtype: int64\n"
     ]
    }
   ],
   "source": [
    "print(\"Before resampling\")\n",
    "print(pd.value_counts(pd.Series(y)))\n",
    "\n",
    "# Print the value_counts\n",
    "print(\"After resampling\")\n",
    "print(pd.value_counts(pd.Series(y_resampled)))"
   ]
  },
  {
   "cell_type": "markdown",
   "metadata": {},
   "source": [
    "## Models to detect Fraud"
   ]
  },
  {
   "cell_type": "code",
   "execution_count": 18,
   "metadata": {},
   "outputs": [],
   "source": [
    "# Split your data into training and test set\n",
    "X_train, X_test, y_train, y_test = train_test_split(X, y, test_size=.3, random_state=0)"
   ]
  },
  {
   "cell_type": "markdown",
   "metadata": {},
   "source": [
    "### Random Forest"
   ]
  },
  {
   "cell_type": "markdown",
   "metadata": {},
   "source": [
    "Random Forest before resampling:"
   ]
  },
  {
   "cell_type": "code",
   "execution_count": 25,
   "metadata": {},
   "outputs": [
    {
     "name": "stderr",
     "output_type": "stream",
     "text": [
      "C:\\Users\\smart\\AppData\\Local\\Continuum\\anaconda3\\lib\\site-packages\\sklearn\\ensemble\\forest.py:246: FutureWarning: The default value of n_estimators will change from 10 in version 0.20 to 100 in 0.22.\n",
      "  \"10 in version 0.20 to 100 in 0.22.\", FutureWarning)\n"
     ]
    },
    {
     "name": "stdout",
     "output_type": "stream",
     "text": [
      "0.9524743650451728\n",
      "              precision    recall  f1-score   support\n",
      "\n",
      "         0.0       1.00      1.00      1.00     68227\n",
      "         1.0       0.93      0.79      0.85       127\n",
      "\n",
      "   micro avg       1.00      1.00      1.00     68354\n",
      "   macro avg       0.97      0.89      0.93     68354\n",
      "weighted avg       1.00      1.00      1.00     68354\n",
      "\n",
      "[[68220     7]\n",
      " [   27   100]]\n",
      "F SCORE 0.8547008547008548\n"
     ]
    }
   ],
   "source": [
    "model_rf = RandomForestClassifier(random_state=5)\n",
    "\n",
    "# Fit the model to our resampled dataset\n",
    "model_rf.fit(X_train, y_train)\n",
    "\n",
    "# Obtain predictions from the test data \n",
    "predicted = model_rf.predict(X_test)\n",
    "\n",
    "# Print the accuracy performance metric\n",
    "# print(accuracy_score(y_test, predicted))\n",
    "\n",
    "# Predict probabilities\n",
    "probs = model_rf.predict_proba(X_test)\n",
    "\n",
    "# Print the ROC curve, classification report and confusion matrix\n",
    "print(roc_auc_score(y_test, probs[:,1]))\n",
    "print(classification_report(y_test, predicted))\n",
    "print(confusion_matrix(y_test, predicted))\n",
    "print(\"F SCORE\", f1_score(y_test, predicted))"
   ]
  },
  {
   "cell_type": "code",
   "execution_count": 42,
   "metadata": {},
   "outputs": [
    {
     "data": {
      "text/plain": [
       "[('Feature 26', 0.18021625355976575),\n",
       " ('Feature 3', 0.16760834699804197),\n",
       " ('Feature 28', 0.14013433395426195),\n",
       " ('Feature 27', 0.08821419904414651),\n",
       " ('Feature 24', 0.05865519940449724),\n",
       " ('Feature 29', 0.049805432737448606),\n",
       " ('Feature 2', 0.026879626074370517),\n",
       " ('Feature 21', 0.023230713674982282),\n",
       " ('Feature 19', 0.021976285084133674),\n",
       " ('Feature 18', 0.020752694518351877),\n",
       " ('Feature 7', 0.015855748494071068),\n",
       " ('Feature 6', 0.01564406383849776),\n",
       " ('Amount', 0.015264720541129193),\n",
       " ('Feature 12', 0.015155581217523532),\n",
       " ('Feature 25', 0.01390075546904113),\n",
       " ('Feature 13', 0.01275105325426856),\n",
       " ('Feature 4', 0.012496781329840195),\n",
       " ('Feature 5', 0.01187512543545524),\n",
       " ('Feature 20', 0.011745897760877562),\n",
       " ('Feature 17', 0.011117152594095703),\n",
       " ('Feature 1', 0.010665202789193152),\n",
       " ('Feature 10', 0.010500495623472026),\n",
       " ('Feature 15', 0.009765765798161422),\n",
       " ('Feature 16', 0.00826873017634215),\n",
       " ('Feature 8', 0.008074691200303664),\n",
       " ('Feature 22', 0.008012635088223566),\n",
       " ('Feature 11', 0.007859017164563335),\n",
       " ('Feature 9', 0.0069121390560322555),\n",
       " ('Feature 23', 0.00682116067262954),\n",
       " ('Feature 14', 0.005131733814740897),\n",
       " ('Seconds since reference time', 0.004708463631537686)]"
      ]
     },
     "execution_count": 42,
     "metadata": {},
     "output_type": "execute_result"
    }
   ],
   "source": [
    "tup = []\n",
    "for i,j in zip(X.columns, model_rf.feature_importances_):\n",
    "    tup.append((i, j))\n",
    "\n",
    "sorted(tup, key=lambda x: x[1], reverse=True)\n"
   ]
  },
  {
   "cell_type": "markdown",
   "metadata": {},
   "source": [
    "Random Forest after resampling"
   ]
  },
  {
   "cell_type": "code",
   "execution_count": 26,
   "metadata": {},
   "outputs": [
    {
     "name": "stderr",
     "output_type": "stream",
     "text": [
      "C:\\Users\\smart\\AppData\\Local\\Continuum\\anaconda3\\lib\\site-packages\\sklearn\\ensemble\\forest.py:246: FutureWarning: The default value of n_estimators will change from 10 in version 0.20 to 100 in 0.22.\n",
      "  \"10 in version 0.20 to 100 in 0.22.\", FutureWarning)\n"
     ]
    },
    {
     "name": "stdout",
     "output_type": "stream",
     "text": [
      "0.9710327232078094\n",
      "              precision    recall  f1-score   support\n",
      "\n",
      "         0.0       1.00      1.00      1.00     68227\n",
      "         1.0       0.89      0.87      0.88       127\n",
      "\n",
      "   micro avg       1.00      1.00      1.00     68354\n",
      "   macro avg       0.95      0.93      0.94     68354\n",
      "weighted avg       1.00      1.00      1.00     68354\n",
      "\n",
      "[[68214    13]\n",
      " [   17   110]]\n",
      "F SCORE 0.88\n"
     ]
    }
   ],
   "source": [
    "# Define the model as the random forest\n",
    "model_rf_re = RandomForestClassifier(random_state=5)\n",
    "\n",
    "# Fit the model to our resampled dataset\n",
    "model_rf_re.fit(X_resampled, y_resampled)\n",
    "\n",
    "# Obtain predictions from the test data \n",
    "predicted = model_rf_re.predict(X_test)\n",
    "\n",
    "# Predict probabilities\n",
    "probs = model_rf_re.predict_proba(X_test)\n",
    "\n",
    "# Print the ROC curve, classification report and confusion matrix\n",
    "print(roc_auc_score(y_test, probs[:,1]))\n",
    "print(classification_report(y_test, predicted))\n",
    "print(confusion_matrix(y_test, predicted))\n",
    "print(\"F SCORE\", f1_score(y_test, predicted))"
   ]
  },
  {
   "cell_type": "code",
   "execution_count": 55,
   "metadata": {},
   "outputs": [
    {
     "name": "stdout",
     "output_type": "stream",
     "text": [
      "[('Feature 28', 0.34807218024088693), ('Feature 26', 0.210128777140241), ('Feature 3', 0.10727824145939743), ('Feature 18', 0.057319857577183275), ('Feature 24', 0.05505686899537672), ('Feature 29', 0.04092082045407498), ('Feature 15', 0.034339512164627425), ('Feature 27', 0.026003530461241264), ('Feature 17', 0.013029067872721307), ('Feature 16', 0.009596723233492954), ('Feature 2', 0.009303452042357892), ('Feature 22', 0.007472454224401506), ('Feature 7', 0.007194109059909794), ('Feature 25', 0.007005246961063626), ('Feature 4', 0.005980877414083293), ('Seconds since reference time', 0.005940875014157769), ('Feature 21', 0.005635575837134693), ('Amount', 0.005133596608404689), ('Feature 5', 0.0043961754631806444), ('Feature 1', 0.004315812201712734), ('Feature 9', 0.004172794566552077), ('Feature 12', 0.004103711788744659), ('Feature 11', 0.003660886040038824), ('Feature 20', 0.0035800689017811173), ('Feature 6', 0.003455663145126512), ('Feature 14', 0.003415321915914247), ('Feature 8', 0.0031131638690512125), ('Feature 23', 0.002700856420500941), ('Feature 10', 0.002666498976946401), ('Feature 19', 0.002510053913493656), ('Feature 13', 0.0024972260362004653)]\n"
     ]
    },
    {
     "data": {
      "text/plain": [
       "['Feature 13', 'Feature 19', 'Feature 10', 'Feature 23', 'Feature 8']"
      ]
     },
     "execution_count": 55,
     "metadata": {},
     "output_type": "execute_result"
    }
   ],
   "source": [
    "tup = []\n",
    "for i,j in zip(X.columns, model_rf_re.feature_importances_):\n",
    "    tup.append((i, j))\n",
    "\n",
    "tup = sorted(tup, key=lambda x: x[1], reverse=True)\n",
    "print(tup)\n",
    "remove_names = [i[0] for i in tup[-1:-6:-1]]\n",
    "remove_names"
   ]
  },
  {
   "cell_type": "markdown",
   "metadata": {},
   "source": [
    "### Logistic Regression"
   ]
  },
  {
   "cell_type": "code",
   "execution_count": 19,
   "metadata": {},
   "outputs": [
    {
     "name": "stderr",
     "output_type": "stream",
     "text": [
      "C:\\Users\\smart\\AppData\\Local\\Continuum\\anaconda3\\lib\\site-packages\\sklearn\\linear_model\\logistic.py:433: FutureWarning: Default solver will be changed to 'lbfgs' in 0.22. Specify a solver to silence this warning.\n",
      "  FutureWarning)\n"
     ]
    },
    {
     "name": "stdout",
     "output_type": "stream",
     "text": [
      "Classification report:\n",
      "               precision    recall  f1-score   support\n",
      "\n",
      "         0.0       1.00      1.00      1.00     68227\n",
      "         1.0       0.76      0.61      0.68       127\n",
      "\n",
      "   micro avg       1.00      1.00      1.00     68354\n",
      "   macro avg       0.88      0.81      0.84     68354\n",
      "weighted avg       1.00      1.00      1.00     68354\n",
      "\n",
      "Confusion matrix:\n",
      " [[68203    24]\n",
      " [   49    78]]\n",
      "F SCORE 0.6812227074235807\n"
     ]
    }
   ],
   "source": [
    "# Continue fitting the model and obtain predictions\n",
    "model_lr = LogisticRegression()\n",
    "model_lr.fit(X_train, y_train)\n",
    "\n",
    "# Get your performance metrics\n",
    "predicted = model_lr.predict(X_test)\n",
    "\n",
    "# Print the classifcation report and confusion matrix\n",
    "print('Classification report:\\n', classification_report(y_test, predicted))\n",
    "conf_mat = confusion_matrix(y_true=y_test, y_pred=predicted)\n",
    "print('Confusion matrix:\\n', conf_mat)\n",
    "print(\"F SCORE\", f1_score(y_test, predicted))"
   ]
  },
  {
   "cell_type": "code",
   "execution_count": 20,
   "metadata": {},
   "outputs": [
    {
     "name": "stderr",
     "output_type": "stream",
     "text": [
      "C:\\Users\\smart\\AppData\\Local\\Continuum\\anaconda3\\lib\\site-packages\\sklearn\\linear_model\\logistic.py:433: FutureWarning: Default solver will be changed to 'lbfgs' in 0.22. Specify a solver to silence this warning.\n",
      "  FutureWarning)\n"
     ]
    },
    {
     "name": "stdout",
     "output_type": "stream",
     "text": [
      "Classification report:\n",
      "               precision    recall  f1-score   support\n",
      "\n",
      "         0.0       1.00      0.98      0.99     68227\n",
      "         1.0       0.10      0.91      0.18       127\n",
      "\n",
      "   micro avg       0.98      0.98      0.98     68354\n",
      "   macro avg       0.55      0.95      0.59     68354\n",
      "weighted avg       1.00      0.98      0.99     68354\n",
      "\n",
      "Confusion matrix:\n",
      " [[67188  1039]\n",
      " [   11   116]]\n",
      "F SCORE 0.1809672386895476\n"
     ]
    }
   ],
   "source": [
    "# Continue fitting the model and obtain predictions\n",
    "model_lr_re = LogisticRegression()\n",
    "model_lr_re.fit(X_resampled, y_resampled)\n",
    "\n",
    "# Get your performance metrics\n",
    "predicted = model_lr_re.predict(X_test)\n",
    "\n",
    "# Print the classifcation report and confusion matrix\n",
    "print('Classification report:\\n', classification_report(y_test, predicted))\n",
    "conf_mat = confusion_matrix(y_true=y_test, y_pred=predicted)\n",
    "print('Confusion matrix:\\n', conf_mat)\n",
    "print(\"F SCORE\", f1_score(y_test, predicted))"
   ]
  },
  {
   "cell_type": "code",
   "execution_count": 60,
   "metadata": {},
   "outputs": [
    {
     "name": "stderr",
     "output_type": "stream",
     "text": [
      "C:\\Users\\smart\\AppData\\Local\\Continuum\\anaconda3\\lib\\site-packages\\sklearn\\model_selection\\_split.py:2179: FutureWarning: From version 0.21, test_size will always complement train_size unless both are specified.\n",
      "  FutureWarning)\n",
      "C:\\Users\\smart\\AppData\\Local\\Continuum\\anaconda3\\lib\\site-packages\\sklearn\\linear_model\\logistic.py:433: FutureWarning: Default solver will be changed to 'lbfgs' in 0.22. Specify a solver to silence this warning.\n",
      "  FutureWarning)\n"
     ]
    },
    {
     "name": "stdout",
     "output_type": "stream",
     "text": [
      "Classification report:\n",
      "               precision    recall  f1-score   support\n",
      "\n",
      "         0.0       1.00      1.00      1.00     68227\n",
      "         1.0       0.78      0.66      0.71       127\n",
      "\n",
      "   micro avg       1.00      1.00      1.00     68354\n",
      "   macro avg       0.89      0.83      0.86     68354\n",
      "weighted avg       1.00      1.00      1.00     68354\n",
      "\n",
      "Confusion matrix:\n",
      " [[68203    24]\n",
      " [   43    84]]\n",
      "F SCORE 0.7148936170212766\n"
     ]
    }
   ],
   "source": [
    "#IMPROVEMENT - drop bottom 5 variables given by RF\n",
    "new_df = df.copy()\n",
    "new_df.drop(remove_names, axis=1, inplace=True)\n",
    "new_df.shape\n",
    "\n",
    "X = new_df.drop('Fraud', axis=1)\n",
    "y = new_df['Fraud']\n",
    "\n",
    "X_train, X_test, y_train, y_test = train_test_split(X, y, train_size=0.7, random_state=0)\n",
    "\n",
    "# Continue fitting the model and obtain predictions\n",
    "model_lr_new = LogisticRegression()\n",
    "model_lr_new.fit(X_train, y_train)\n",
    "\n",
    "# Get your performance metrics\n",
    "predicted = model_lr_new.predict(X_test)\n",
    "\n",
    "# Print the classifcation report and confusion matrix\n",
    "print('Classification report:\\n', classification_report(y_test, predicted))\n",
    "conf_mat = confusion_matrix(y_true=y_test, y_pred=predicted)\n",
    "print('Confusion matrix:\\n', conf_mat)\n",
    "print(\"F SCORE\", f1_score(y_test, predicted))"
   ]
  },
  {
   "cell_type": "markdown",
   "metadata": {},
   "source": [
    "### Use SVC"
   ]
  },
  {
   "cell_type": "markdown",
   "metadata": {},
   "source": [
    "Or don't, cz it takes a while to run"
   ]
  },
  {
   "cell_type": "code",
   "execution_count": null,
   "metadata": {},
   "outputs": [
    {
     "name": "stderr",
     "output_type": "stream",
     "text": [
      "C:\\Users\\smart\\AppData\\Local\\Continuum\\anaconda3\\lib\\site-packages\\sklearn\\model_selection\\_split.py:2053: FutureWarning: You should specify a value for 'cv' instead of relying on the default value. The default value will change from 3 to 5 in version 0.22.\n",
      "  warnings.warn(CV_WARNING, FutureWarning)\n",
      "C:\\Users\\smart\\AppData\\Local\\Continuum\\anaconda3\\lib\\site-packages\\sklearn\\svm\\base.py:196: FutureWarning: The default value of gamma will change from 'auto' to 'scale' in version 0.22 to account better for unscaled features. Set gamma explicitly to 'auto' or 'scale' to avoid this warning.\n",
      "  \"avoid this warning.\", FutureWarning)\n"
     ]
    }
   ],
   "source": [
    "# Use GridSearchCV to find the best parameters.\n",
    "# TAKES >10 MINUTES TO RUN\n",
    "\n",
    "\n",
    "# # Support Vector Classifier\n",
    "# svc_params = {'C': [0.5, 0.7, 0.9, 1], 'kernel': ['rbf', 'poly', 'sigmoid', 'linear']}\n",
    "# grid_svc = GridSearchCV(SVC(), svc_params)\n",
    "# grid_svc.fit(X_train, y_train)\n",
    "\n",
    "# # SVC best estimator\n",
    "# svc = grid_svc.best_estimator_"
   ]
  },
  {
   "cell_type": "code",
   "execution_count": null,
   "metadata": {},
   "outputs": [
    {
     "name": "stderr",
     "output_type": "stream",
     "text": [
      "C:\\Users\\smart\\AppData\\Local\\Continuum\\anaconda3\\lib\\site-packages\\sklearn\\svm\\base.py:196: FutureWarning: The default value of gamma will change from 'auto' to 'scale' in version 0.22 to account better for unscaled features. Set gamma explicitly to 'auto' or 'scale' to avoid this warning.\n",
      "  \"avoid this warning.\", FutureWarning)\n"
     ]
    }
   ],
   "source": [
    "# TAKES >10 MINUTES TO RUN\n",
    "# model_svc = SVC()\n",
    "\n",
    "# #Train the model using the training sets\n",
    "# model_svc.fit(X_train, y_train)\n",
    "\n",
    "# #Predict the response for test dataset\n",
    "# predicted = model_svc.predict(X_test)\n",
    "\n",
    "# print('Classification report:\\n', classification_report(y_test, predicted))\n",
    "# conf_mat = confusion_matrix(y_true=y_test, y_pred=predicted)\n",
    "# print('Confusion matrix:\\n', conf_mat)\n",
    "# print(\"F SCORE\", f1_score(y_test, predicted))"
   ]
  },
  {
   "cell_type": "markdown",
   "metadata": {},
   "source": [
    "## Print all Confusion Matrices as heatmap"
   ]
  },
  {
   "cell_type": "code",
   "execution_count": 27,
   "metadata": {},
   "outputs": [],
   "source": [
    "from sklearn.metrics import confusion_matrix\n",
    "\n",
    "# Logistic Regression fitted with training\n",
    "y_pred_lr = model_lr.predict(X_test)\n",
    "cf_lr = confusion_matrix(y_test, y_pred_lr)\n",
    "\n",
    "# Logistic Regression fitted after resampling\n",
    "y_pred_lr_re = model_lr.predict(X_test)\n",
    "cf_lr_re = confusion_matrix(y_test, y_pred_lr_re)\n",
    "\n",
    "#Random Forest after training\n",
    "y_pred_rf = model_rf.predict(X_test)\n",
    "cf_rf = confusion_matrix(y_test, y_pred_rf)\n",
    "\n",
    "#Random Forest fitted after resampling\n",
    "y_pred_rf_re = model_rf_re.predict(X_test)\n",
    "cf_rf_re = confusion_matrix(y_test, y_pred_rf_re)"
   ]
  },
  {
   "cell_type": "code",
   "execution_count": 28,
   "metadata": {},
   "outputs": [
    {
     "data": {
      "image/png": "[encoded data removed]",
      "text/plain": [
       "<matplotlib.figure.Figure at 0x19a8d496400>"
      ]
     },
     "metadata": {},
     "output_type": "display_data"
    }
   ],
   "source": [
    "fig, ax = plt.subplots(2, 2,figsize=(22,12))\n",
    "\n",
    "\n",
    "sns.heatmap(cf_lr, ax=ax[0][0], annot=True, cmap=plt.cm.copper)\n",
    "ax[0, 0].set_title(\"Logistic Regression \\n Confusion Matrix\", fontsize=14)\n",
    "ax[0, 0].set_xticklabels(['', ''], fontsize=14, rotation=90)\n",
    "ax[0, 0].set_yticklabels(['', ''], fontsize=14, rotation=360)\n",
    "\n",
    "sns.heatmap(cf_lr_re, ax=ax[0][1], annot=True, cmap=plt.cm.copper)\n",
    "ax[0][1].set_title(\"Log Reg with sampling \\n Confusion Matrix\", fontsize=14)\n",
    "ax[0][1].set_xticklabels(['', ''], fontsize=14, rotation=90)\n",
    "ax[0][1].set_yticklabels(['', ''], fontsize=14, rotation=360)\n",
    "\n",
    "sns.heatmap(cf_rf, ax=ax[1][0], annot=True, cmap=plt.cm.copper)\n",
    "ax[1][0].set_title(\"Random Forest \\n Confusion Matrix\", fontsize=14)\n",
    "ax[1][0].set_xticklabels(['', ''], fontsize=14, rotation=90)\n",
    "ax[1][0].set_yticklabels(['', ''], fontsize=14, rotation=360)\n",
    "\n",
    "sns.heatmap(cf_rf_re, ax=ax[1][1], annot=True, cmap=plt.cm.copper)\n",
    "ax[1][1].set_title(\"Random Forest with sampling \\n Confusion Matrix\", fontsize=14)\n",
    "ax[1][1].set_xticklabels(['', ''], fontsize=14, rotation=90)\n",
    "ax[1][1].set_yticklabels(['', ''], fontsize=14, rotation=360)\n",
    "\n",
    "\n",
    "plt.show()"
   ]
  },
  {
   "cell_type": "markdown",
   "metadata": {},
   "source": [
    "Probably convert the confusion matrix to like a normalised version so we can compare"
   ]
  },
  {
   "cell_type": "code",
   "execution_count": null,
   "metadata": {},
   "outputs": [],
   "source": []
  },
  {
   "cell_type": "code",
   "execution_count": null,
   "metadata": {},
   "outputs": [],
   "source": []
  },
  {
   "cell_type": "code",
   "execution_count": null,
   "metadata": {},
   "outputs": [],
   "source": []
  },
  {
   "cell_type": "code",
   "execution_count": null,
   "metadata": {},
   "outputs": [],
   "source": []
  }
 ],
 "metadata": {
  "kernelspec": {
   "display_name": "Python 3",
   "language": "python",
   "name": "python3"
  },
  "language_info": {
   "codemirror_mode": {
    "name": "ipython",
    "version": 3
   },
   "file_extension": ".py",
   "mimetype": "text/x-python",
   "name": "python",
   "nbconvert_exporter": "python",
   "pygments_lexer": "ipython3",
   "version": "3.6.4"
  }
 },
 "nbformat": 4,
 "nbformat_minor": 2
}
